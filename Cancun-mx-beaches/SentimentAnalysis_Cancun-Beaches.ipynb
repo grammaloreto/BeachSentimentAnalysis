{
 "cells": [
  {
   "cell_type": "markdown",
   "id": "d07d6180",
   "metadata": {},
   "source": [
    "# Sentiment Analysis of Cancun Beaches"
   ]
  },
  {
   "cell_type": "markdown",
   "id": "92ee2763",
   "metadata": {},
   "source": [
    "Installing Transformers and dependencies"
   ]
  },
  {
   "cell_type": "code",
   "execution_count": null,
   "id": "1e2f9c95",
   "metadata": {},
   "outputs": [],
   "source": [
    "!pip install transformers "
   ]
  },
  {
   "cell_type": "code",
   "execution_count": 2,
   "id": "fc5c55a2",
   "metadata": {},
   "outputs": [],
   "source": [
    "from transformers import AutoTokenizer, AutoModelForSequenceClassification #Tokens\n",
    "import torch # PyTorch"
   ]
  },
  {
   "cell_type": "code",
   "execution_count": 3,
   "id": "5e71b92e",
   "metadata": {},
   "outputs": [],
   "source": [
    "# For plots(histograms) and fix tables\n",
    "import pandas as pd\n",
    "import numpy as np\n",
    "import matplotlib.pyplot as plt\n",
    "import seaborn as sns\n",
    "%matplotlib inline"
   ]
  },
  {
   "cell_type": "markdown",
   "id": "4a5fc618",
   "metadata": {},
   "source": [
    "Organising the model with BERT"
   ]
  },
  {
   "cell_type": "code",
   "execution_count": 4,
   "id": "28973a27",
   "metadata": {},
   "outputs": [],
   "source": [
    "tokenizer = AutoTokenizer.from_pretrained(\"nlptown/bert-base-multilingual-uncased-sentiment\")\n",
    "\n",
    "model = AutoModelForSequenceClassification.from_pretrained(\"nlptown/bert-base-multilingual-uncased-sentiment\")"
   ]
  },
  {
   "cell_type": "code",
   "execution_count": 5,
   "id": "740879bd",
   "metadata": {},
   "outputs": [],
   "source": [
    "# an example of how the token works\n",
    "tokens = tokenizer.encode('I hate this beach!', return_tensors='pt')"
   ]
  },
  {
   "cell_type": "code",
   "execution_count": 6,
   "id": "d35ec7d6",
   "metadata": {},
   "outputs": [
    {
     "data": {
      "text/plain": [
       "tensor([[  101,   151, 39487, 10372, 14575,   106,   102]])"
      ]
     },
     "execution_count": 6,
     "metadata": {},
     "output_type": "execute_result"
    }
   ],
   "source": [
    "tokens"
   ]
  },
  {
   "cell_type": "code",
   "execution_count": 7,
   "id": "4f2c6706",
   "metadata": {},
   "outputs": [],
   "source": [
    "result = model(tokens)"
   ]
  },
  {
   "cell_type": "code",
   "execution_count": 8,
   "id": "89adbec4",
   "metadata": {},
   "outputs": [],
   "source": [
    "# Function that evaluates all reviews in data frames  \n",
    "def sentiment_score(review):\n",
    "    tokens = tokenizer.encode(review, return_tensors='pt')\n",
    "    result = model(tokens)\n",
    "    return int(torch.argmax(result.logits))+1"
   ]
  },
  {
   "cell_type": "markdown",
   "id": "af7a0862",
   "metadata": {},
   "source": [
    "# Analysys of the reviews of 5 public beaches in Cancun(Mexico)"
   ]
  },
  {
   "cell_type": "markdown",
   "id": "6be0a4ca",
   "metadata": {},
   "source": [
    "1. Playa Delfines"
   ]
  },
  {
   "cell_type": "code",
   "execution_count": 10,
   "id": "10c43345",
   "metadata": {},
   "outputs": [],
   "source": [
    "#df\n",
    "delfines = pd.read_csv(\"deflines.csv\")"
   ]
  },
  {
   "cell_type": "code",
   "execution_count": 11,
   "id": "67618ccb",
   "metadata": {},
   "outputs": [
    {
     "data": {
      "text/html": [
       "<div>\n",
       "<style scoped>\n",
       "    .dataframe tbody tr th:only-of-type {\n",
       "        vertical-align: middle;\n",
       "    }\n",
       "\n",
       "    .dataframe tbody tr th {\n",
       "        vertical-align: top;\n",
       "    }\n",
       "\n",
       "    .dataframe thead th {\n",
       "        text-align: right;\n",
       "    }\n",
       "</style>\n",
       "<table border=\"1\" class=\"dataframe\">\n",
       "  <thead>\n",
       "    <tr style=\"text-align: right;\">\n",
       "      <th></th>\n",
       "      <th>review</th>\n",
       "    </tr>\n",
       "  </thead>\n",
       "  <tbody>\n",
       "    <tr>\n",
       "      <th>0</th>\n",
       "      <td>Sin duda la playa Delfines es un lugar que deb...</td>\n",
       "    </tr>\n",
       "    <tr>\n",
       "      <th>1</th>\n",
       "      <td>Es la mejor playa de la zona, su vista es impr...</td>\n",
       "    </tr>\n",
       "    <tr>\n",
       "      <th>2</th>\n",
       "      <td>Es una playa pública muy bonita.. Si estas can...</td>\n",
       "    </tr>\n",
       "    <tr>\n",
       "      <th>3</th>\n",
       "      <td>Excelente playa, a pesar de ser pública es bas...</td>\n",
       "    </tr>\n",
       "    <tr>\n",
       "      <th>4</th>\n",
       "      <td>En esta playa es donde acuden muchas personas ...</td>\n",
       "    </tr>\n",
       "    <tr>\n",
       "      <th>5</th>\n",
       "      <td>siempre hay mucha fila para tomar fotos en las...</td>\n",
       "    </tr>\n",
       "    <tr>\n",
       "      <th>6</th>\n",
       "      <td>Una playa que se encuentra  a 20 min del centr...</td>\n",
       "    </tr>\n",
       "    <tr>\n",
       "      <th>7</th>\n",
       "      <td>Hermoso lugar tiene sombra, salvavidas.Baños l...</td>\n",
       "    </tr>\n",
       "    <tr>\n",
       "      <th>8</th>\n",
       "      <td>me encantan las olas de este lugar es un lugar...</td>\n",
       "    </tr>\n",
       "    <tr>\n",
       "      <th>9</th>\n",
       "      <td>Playa pública en donde se respira un ambiente ...</td>\n",
       "    </tr>\n",
       "    <tr>\n",
       "      <th>10</th>\n",
       "      <td>Playa Delfines is a long and wide stretch of b...</td>\n",
       "    </tr>\n",
       "    <tr>\n",
       "      <th>11</th>\n",
       "      <td>I loved the beach, it was clean and so blue. T...</td>\n",
       "    </tr>\n",
       "    <tr>\n",
       "      <th>12</th>\n",
       "      <td>Today we were there but it was quite windy. So...</td>\n",
       "    </tr>\n",
       "    <tr>\n",
       "      <th>13</th>\n",
       "      <td>Acces to the beach easy by bus or car. The bea...</td>\n",
       "    </tr>\n",
       "    <tr>\n",
       "      <th>14</th>\n",
       "      <td>It was very windy and the sea was too wavey to...</td>\n",
       "    </tr>\n",
       "    <tr>\n",
       "      <th>15</th>\n",
       "      <td>Not very crowded considering it's a public bea...</td>\n",
       "    </tr>\n",
       "    <tr>\n",
       "      <th>16</th>\n",
       "      <td>This is by far one of the most beautiful beach...</td>\n",
       "    </tr>\n",
       "    <tr>\n",
       "      <th>17</th>\n",
       "      <td>Most stunning and widest stretch of the beach ...</td>\n",
       "    </tr>\n",
       "    <tr>\n",
       "      <th>18</th>\n",
       "      <td>Went with the kids, and had a great time. We a...</td>\n",
       "    </tr>\n",
       "    <tr>\n",
       "      <th>19</th>\n",
       "      <td>It is a big beach so there is plenty of space ...</td>\n",
       "    </tr>\n",
       "  </tbody>\n",
       "</table>\n",
       "</div>"
      ],
      "text/plain": [
       "                                               review\n",
       "0   Sin duda la playa Delfines es un lugar que deb...\n",
       "1   Es la mejor playa de la zona, su vista es impr...\n",
       "2   Es una playa pública muy bonita.. Si estas can...\n",
       "3   Excelente playa, a pesar de ser pública es bas...\n",
       "4   En esta playa es donde acuden muchas personas ...\n",
       "5   siempre hay mucha fila para tomar fotos en las...\n",
       "6   Una playa que se encuentra  a 20 min del centr...\n",
       "7   Hermoso lugar tiene sombra, salvavidas.Baños l...\n",
       "8   me encantan las olas de este lugar es un lugar...\n",
       "9   Playa pública en donde se respira un ambiente ...\n",
       "10  Playa Delfines is a long and wide stretch of b...\n",
       "11  I loved the beach, it was clean and so blue. T...\n",
       "12  Today we were there but it was quite windy. So...\n",
       "13  Acces to the beach easy by bus or car. The bea...\n",
       "14  It was very windy and the sea was too wavey to...\n",
       "15  Not very crowded considering it's a public bea...\n",
       "16  This is by far one of the most beautiful beach...\n",
       "17  Most stunning and widest stretch of the beach ...\n",
       "18  Went with the kids, and had a great time. We a...\n",
       "19  It is a big beach so there is plenty of space ..."
      ]
     },
     "execution_count": 11,
     "metadata": {},
     "output_type": "execute_result"
    }
   ],
   "source": [
    "delfines"
   ]
  },
  {
   "cell_type": "code",
   "execution_count": 12,
   "id": "7dc9f373",
   "metadata": {},
   "outputs": [],
   "source": [
    "#Adding a column to the data frame scoring the review (1-5) called \"sentiment\"\n",
    "delfines['sentiment'] = delfines['review'].apply(lambda x: sentiment_score(x[:512]))"
   ]
  },
  {
   "cell_type": "code",
   "execution_count": 13,
   "id": "bcca11a2",
   "metadata": {},
   "outputs": [
    {
     "data": {
      "text/html": [
       "<div>\n",
       "<style scoped>\n",
       "    .dataframe tbody tr th:only-of-type {\n",
       "        vertical-align: middle;\n",
       "    }\n",
       "\n",
       "    .dataframe tbody tr th {\n",
       "        vertical-align: top;\n",
       "    }\n",
       "\n",
       "    .dataframe thead th {\n",
       "        text-align: right;\n",
       "    }\n",
       "</style>\n",
       "<table border=\"1\" class=\"dataframe\">\n",
       "  <thead>\n",
       "    <tr style=\"text-align: right;\">\n",
       "      <th></th>\n",
       "      <th>review</th>\n",
       "      <th>sentiment</th>\n",
       "    </tr>\n",
       "  </thead>\n",
       "  <tbody>\n",
       "    <tr>\n",
       "      <th>0</th>\n",
       "      <td>Sin duda la playa Delfines es un lugar que deb...</td>\n",
       "      <td>4</td>\n",
       "    </tr>\n",
       "    <tr>\n",
       "      <th>1</th>\n",
       "      <td>Es la mejor playa de la zona, su vista es impr...</td>\n",
       "      <td>5</td>\n",
       "    </tr>\n",
       "    <tr>\n",
       "      <th>2</th>\n",
       "      <td>Es una playa pública muy bonita.. Si estas can...</td>\n",
       "      <td>4</td>\n",
       "    </tr>\n",
       "    <tr>\n",
       "      <th>3</th>\n",
       "      <td>Excelente playa, a pesar de ser pública es bas...</td>\n",
       "      <td>5</td>\n",
       "    </tr>\n",
       "    <tr>\n",
       "      <th>4</th>\n",
       "      <td>En esta playa es donde acuden muchas personas ...</td>\n",
       "      <td>4</td>\n",
       "    </tr>\n",
       "    <tr>\n",
       "      <th>5</th>\n",
       "      <td>siempre hay mucha fila para tomar fotos en las...</td>\n",
       "      <td>5</td>\n",
       "    </tr>\n",
       "    <tr>\n",
       "      <th>6</th>\n",
       "      <td>Una playa que se encuentra  a 20 min del centr...</td>\n",
       "      <td>4</td>\n",
       "    </tr>\n",
       "    <tr>\n",
       "      <th>7</th>\n",
       "      <td>Hermoso lugar tiene sombra, salvavidas.Baños l...</td>\n",
       "      <td>5</td>\n",
       "    </tr>\n",
       "    <tr>\n",
       "      <th>8</th>\n",
       "      <td>me encantan las olas de este lugar es un lugar...</td>\n",
       "      <td>5</td>\n",
       "    </tr>\n",
       "    <tr>\n",
       "      <th>9</th>\n",
       "      <td>Playa pública en donde se respira un ambiente ...</td>\n",
       "      <td>4</td>\n",
       "    </tr>\n",
       "    <tr>\n",
       "      <th>10</th>\n",
       "      <td>Playa Delfines is a long and wide stretch of b...</td>\n",
       "      <td>4</td>\n",
       "    </tr>\n",
       "    <tr>\n",
       "      <th>11</th>\n",
       "      <td>I loved the beach, it was clean and so blue. T...</td>\n",
       "      <td>5</td>\n",
       "    </tr>\n",
       "    <tr>\n",
       "      <th>12</th>\n",
       "      <td>Today we were there but it was quite windy. So...</td>\n",
       "      <td>3</td>\n",
       "    </tr>\n",
       "    <tr>\n",
       "      <th>13</th>\n",
       "      <td>Acces to the beach easy by bus or car. The bea...</td>\n",
       "      <td>3</td>\n",
       "    </tr>\n",
       "    <tr>\n",
       "      <th>14</th>\n",
       "      <td>It was very windy and the sea was too wavey to...</td>\n",
       "      <td>2</td>\n",
       "    </tr>\n",
       "    <tr>\n",
       "      <th>15</th>\n",
       "      <td>Not very crowded considering it's a public bea...</td>\n",
       "      <td>4</td>\n",
       "    </tr>\n",
       "    <tr>\n",
       "      <th>16</th>\n",
       "      <td>This is by far one of the most beautiful beach...</td>\n",
       "      <td>5</td>\n",
       "    </tr>\n",
       "    <tr>\n",
       "      <th>17</th>\n",
       "      <td>Most stunning and widest stretch of the beach ...</td>\n",
       "      <td>5</td>\n",
       "    </tr>\n",
       "    <tr>\n",
       "      <th>18</th>\n",
       "      <td>Went with the kids, and had a great time. We a...</td>\n",
       "      <td>2</td>\n",
       "    </tr>\n",
       "    <tr>\n",
       "      <th>19</th>\n",
       "      <td>It is a big beach so there is plenty of space ...</td>\n",
       "      <td>4</td>\n",
       "    </tr>\n",
       "  </tbody>\n",
       "</table>\n",
       "</div>"
      ],
      "text/plain": [
       "                                               review  sentiment\n",
       "0   Sin duda la playa Delfines es un lugar que deb...          4\n",
       "1   Es la mejor playa de la zona, su vista es impr...          5\n",
       "2   Es una playa pública muy bonita.. Si estas can...          4\n",
       "3   Excelente playa, a pesar de ser pública es bas...          5\n",
       "4   En esta playa es donde acuden muchas personas ...          4\n",
       "5   siempre hay mucha fila para tomar fotos en las...          5\n",
       "6   Una playa que se encuentra  a 20 min del centr...          4\n",
       "7   Hermoso lugar tiene sombra, salvavidas.Baños l...          5\n",
       "8   me encantan las olas de este lugar es un lugar...          5\n",
       "9   Playa pública en donde se respira un ambiente ...          4\n",
       "10  Playa Delfines is a long and wide stretch of b...          4\n",
       "11  I loved the beach, it was clean and so blue. T...          5\n",
       "12  Today we were there but it was quite windy. So...          3\n",
       "13  Acces to the beach easy by bus or car. The bea...          3\n",
       "14  It was very windy and the sea was too wavey to...          2\n",
       "15  Not very crowded considering it's a public bea...          4\n",
       "16  This is by far one of the most beautiful beach...          5\n",
       "17  Most stunning and widest stretch of the beach ...          5\n",
       "18  Went with the kids, and had a great time. We a...          2\n",
       "19  It is a big beach so there is plenty of space ...          4"
      ]
     },
     "execution_count": 13,
     "metadata": {},
     "output_type": "execute_result"
    }
   ],
   "source": [
    "# Data Frame with a review and sentiment column\n",
    "delfines"
   ]
  },
  {
   "cell_type": "code",
   "execution_count": 14,
   "id": "a95e9d2d",
   "metadata": {},
   "outputs": [
    {
     "data": {
      "text/html": [
       "<div>\n",
       "<style scoped>\n",
       "    .dataframe tbody tr th:only-of-type {\n",
       "        vertical-align: middle;\n",
       "    }\n",
       "\n",
       "    .dataframe tbody tr th {\n",
       "        vertical-align: top;\n",
       "    }\n",
       "\n",
       "    .dataframe thead th {\n",
       "        text-align: right;\n",
       "    }\n",
       "</style>\n",
       "<table border=\"1\" class=\"dataframe\">\n",
       "  <thead>\n",
       "    <tr style=\"text-align: right;\">\n",
       "      <th></th>\n",
       "      <th>sentiment</th>\n",
       "    </tr>\n",
       "  </thead>\n",
       "  <tbody>\n",
       "    <tr>\n",
       "      <th>count</th>\n",
       "      <td>20.000000</td>\n",
       "    </tr>\n",
       "    <tr>\n",
       "      <th>mean</th>\n",
       "      <td>4.100000</td>\n",
       "    </tr>\n",
       "    <tr>\n",
       "      <th>std</th>\n",
       "      <td>0.967906</td>\n",
       "    </tr>\n",
       "    <tr>\n",
       "      <th>min</th>\n",
       "      <td>2.000000</td>\n",
       "    </tr>\n",
       "    <tr>\n",
       "      <th>25%</th>\n",
       "      <td>4.000000</td>\n",
       "    </tr>\n",
       "    <tr>\n",
       "      <th>50%</th>\n",
       "      <td>4.000000</td>\n",
       "    </tr>\n",
       "    <tr>\n",
       "      <th>75%</th>\n",
       "      <td>5.000000</td>\n",
       "    </tr>\n",
       "    <tr>\n",
       "      <th>max</th>\n",
       "      <td>5.000000</td>\n",
       "    </tr>\n",
       "  </tbody>\n",
       "</table>\n",
       "</div>"
      ],
      "text/plain": [
       "       sentiment\n",
       "count  20.000000\n",
       "mean    4.100000\n",
       "std     0.967906\n",
       "min     2.000000\n",
       "25%     4.000000\n",
       "50%     4.000000\n",
       "75%     5.000000\n",
       "max     5.000000"
      ]
     },
     "execution_count": 14,
     "metadata": {},
     "output_type": "execute_result"
    }
   ],
   "source": [
    "# Summary \n",
    "delfines.describe()"
   ]
  },
  {
   "cell_type": "code",
   "execution_count": 15,
   "id": "c74633cc",
   "metadata": {},
   "outputs": [
    {
     "data": {
      "text/plain": [
       "4    8\n",
       "5    8\n",
       "3    2\n",
       "2    2\n",
       "Name: sentiment, dtype: int64"
      ]
     },
     "execution_count": 15,
     "metadata": {},
     "output_type": "execute_result"
    }
   ],
   "source": [
    "# Counting the values\n",
    "pd.value_counts(delfines[\"sentiment\"])"
   ]
  },
  {
   "cell_type": "code",
   "execution_count": 16,
   "id": "cbf171bd",
   "metadata": {},
   "outputs": [],
   "source": [
    "# Ploting a histogram\n",
    "ydelfines = delfines[\"sentiment\"].values"
   ]
  },
  {
   "cell_type": "code",
   "execution_count": 57,
   "id": "da13ba5e",
   "metadata": {},
   "outputs": [
    {
     "data": {
      "image/png": "[encoded data removed]",
      "text/plain": [
       "<Figure size 432x288 with 1 Axes>"
      ]
     },
     "metadata": {
      "needs_background": "light"
     },
     "output_type": "display_data"
    }
   ],
   "source": [
    "plt.hist(ydelfines, color = '#154656')\n",
    "plt.title('Sentiment Analysis Playa Delfines')\n",
    "plt.xlabel('BERT grade')\n",
    "plt.ylabel('Number of reviews')\n",
    "plt.savefig('delfines.png', dpi=100)\n",
    "plt.show()"
   ]
  },
  {
   "cell_type": "markdown",
   "id": "a0a6750d",
   "metadata": {},
   "source": [
    "2. Playa Langosta"
   ]
  },
  {
   "cell_type": "code",
   "execution_count": 18,
   "id": "929fcc03",
   "metadata": {},
   "outputs": [],
   "source": [
    "#df\n",
    "langosta = pd.read_csv(\"langosta.csv\")"
   ]
  },
  {
   "cell_type": "code",
   "execution_count": 20,
   "id": "d30cc7ed",
   "metadata": {},
   "outputs": [],
   "source": [
    "#Adding a column to the data frame scoring the review (1-5) called \"sentiment\"\n",
    "langosta['sentiment'] = langosta['review'].apply(lambda x: sentiment_score(x[:512]))"
   ]
  },
  {
   "cell_type": "code",
   "execution_count": 21,
   "id": "33b6d744",
   "metadata": {},
   "outputs": [
    {
     "data": {
      "text/html": [
       "<div>\n",
       "<style scoped>\n",
       "    .dataframe tbody tr th:only-of-type {\n",
       "        vertical-align: middle;\n",
       "    }\n",
       "\n",
       "    .dataframe tbody tr th {\n",
       "        vertical-align: top;\n",
       "    }\n",
       "\n",
       "    .dataframe thead th {\n",
       "        text-align: right;\n",
       "    }\n",
       "</style>\n",
       "<table border=\"1\" class=\"dataframe\">\n",
       "  <thead>\n",
       "    <tr style=\"text-align: right;\">\n",
       "      <th></th>\n",
       "      <th>review</th>\n",
       "      <th>sentiment</th>\n",
       "    </tr>\n",
       "  </thead>\n",
       "  <tbody>\n",
       "    <tr>\n",
       "      <th>0</th>\n",
       "      <td>Llegar a esta playa es fácil por la ubicación ...</td>\n",
       "      <td>3</td>\n",
       "    </tr>\n",
       "    <tr>\n",
       "      <th>1</th>\n",
       "      <td>Nos encanto la playa, súper limpia, poco oleaj...</td>\n",
       "      <td>5</td>\n",
       "    </tr>\n",
       "    <tr>\n",
       "      <th>2</th>\n",
       "      <td>Fuimos un miércoles y había muy poca gente, el...</td>\n",
       "      <td>5</td>\n",
       "    </tr>\n",
       "    <tr>\n",
       "      <th>3</th>\n",
       "      <td>Entrada gratuita y estacionamiento gratuito, h...</td>\n",
       "      <td>4</td>\n",
       "    </tr>\n",
       "    <tr>\n",
       "      <th>4</th>\n",
       "      <td>Se llega tomando el Omnibus, R1 ó R2 que por $...</td>\n",
       "      <td>4</td>\n",
       "    </tr>\n",
       "    <tr>\n",
       "      <th>5</th>\n",
       "      <td>Parece alberca, esta muy bajita, puedes meterm...</td>\n",
       "      <td>3</td>\n",
       "    </tr>\n",
       "    <tr>\n",
       "      <th>6</th>\n",
       "      <td>La playa está  muy limpia, la vista es agradab...</td>\n",
       "      <td>4</td>\n",
       "    </tr>\n",
       "    <tr>\n",
       "      <th>7</th>\n",
       "      <td>Playa ideal para familias con niños pequeños, ...</td>\n",
       "      <td>5</td>\n",
       "    </tr>\n",
       "    <tr>\n",
       "      <th>8</th>\n",
       "      <td>Linda, pero no es para nadar, es como un chapo...</td>\n",
       "      <td>3</td>\n",
       "    </tr>\n",
       "    <tr>\n",
       "      <th>9</th>\n",
       "      <td>Estábamos recorriendo las playas de Cancun y d...</td>\n",
       "      <td>5</td>\n",
       "    </tr>\n",
       "    <tr>\n",
       "      <th>10</th>\n",
       "      <td>Take the ferry from this beach to Isla Mujeres...</td>\n",
       "      <td>5</td>\n",
       "    </tr>\n",
       "    <tr>\n",
       "      <th>11</th>\n",
       "      <td>A really nice place to go when you are in Canc...</td>\n",
       "      <td>4</td>\n",
       "    </tr>\n",
       "    <tr>\n",
       "      <th>12</th>\n",
       "      <td>Playa Langosta is on the northern side of the ...</td>\n",
       "      <td>4</td>\n",
       "    </tr>\n",
       "    <tr>\n",
       "      <th>13</th>\n",
       "      <td>This is more on the north side where you 'll f...</td>\n",
       "      <td>3</td>\n",
       "    </tr>\n",
       "    <tr>\n",
       "      <th>14</th>\n",
       "      <td>a wise man once said \"I don’t like sand. It’s ...</td>\n",
       "      <td>1</td>\n",
       "    </tr>\n",
       "    <tr>\n",
       "      <th>15</th>\n",
       "      <td>It’s nice,  it it’s a public beach. The only n...</td>\n",
       "      <td>4</td>\n",
       "    </tr>\n",
       "    <tr>\n",
       "      <th>16</th>\n",
       "      <td>A great place to jump off to Isla Mujares. Sev...</td>\n",
       "      <td>4</td>\n",
       "    </tr>\n",
       "    <tr>\n",
       "      <th>17</th>\n",
       "      <td>Yes, it's nice, but once I got off the bus I s...</td>\n",
       "      <td>3</td>\n",
       "    </tr>\n",
       "    <tr>\n",
       "      <th>18</th>\n",
       "      <td>Playa Langosta is a clean, relaxing, family fr...</td>\n",
       "      <td>4</td>\n",
       "    </tr>\n",
       "    <tr>\n",
       "      <th>19</th>\n",
       "      <td>Nice beach, perhaps one of the best in Cancun....</td>\n",
       "      <td>4</td>\n",
       "    </tr>\n",
       "    <tr>\n",
       "      <th>20</th>\n",
       "      <td>Playa Langosta closed several years ago. Its b...</td>\n",
       "      <td>1</td>\n",
       "    </tr>\n",
       "  </tbody>\n",
       "</table>\n",
       "</div>"
      ],
      "text/plain": [
       "                                               review  sentiment\n",
       "0   Llegar a esta playa es fácil por la ubicación ...          3\n",
       "1   Nos encanto la playa, súper limpia, poco oleaj...          5\n",
       "2   Fuimos un miércoles y había muy poca gente, el...          5\n",
       "3   Entrada gratuita y estacionamiento gratuito, h...          4\n",
       "4   Se llega tomando el Omnibus, R1 ó R2 que por $...          4\n",
       "5   Parece alberca, esta muy bajita, puedes meterm...          3\n",
       "6   La playa está  muy limpia, la vista es agradab...          4\n",
       "7   Playa ideal para familias con niños pequeños, ...          5\n",
       "8   Linda, pero no es para nadar, es como un chapo...          3\n",
       "9   Estábamos recorriendo las playas de Cancun y d...          5\n",
       "10  Take the ferry from this beach to Isla Mujeres...          5\n",
       "11  A really nice place to go when you are in Canc...          4\n",
       "12  Playa Langosta is on the northern side of the ...          4\n",
       "13  This is more on the north side where you 'll f...          3\n",
       "14  a wise man once said \"I don’t like sand. It’s ...          1\n",
       "15  It’s nice,  it it’s a public beach. The only n...          4\n",
       "16  A great place to jump off to Isla Mujares. Sev...          4\n",
       "17  Yes, it's nice, but once I got off the bus I s...          3\n",
       "18  Playa Langosta is a clean, relaxing, family fr...          4\n",
       "19  Nice beach, perhaps one of the best in Cancun....          4\n",
       "20  Playa Langosta closed several years ago. Its b...          1"
      ]
     },
     "execution_count": 21,
     "metadata": {},
     "output_type": "execute_result"
    }
   ],
   "source": [
    "# Data Frame with a review and sentiment column\n",
    "langosta"
   ]
  },
  {
   "cell_type": "code",
   "execution_count": 22,
   "id": "47ced4d7",
   "metadata": {},
   "outputs": [
    {
     "data": {
      "text/html": [
       "<div>\n",
       "<style scoped>\n",
       "    .dataframe tbody tr th:only-of-type {\n",
       "        vertical-align: middle;\n",
       "    }\n",
       "\n",
       "    .dataframe tbody tr th {\n",
       "        vertical-align: top;\n",
       "    }\n",
       "\n",
       "    .dataframe thead th {\n",
       "        text-align: right;\n",
       "    }\n",
       "</style>\n",
       "<table border=\"1\" class=\"dataframe\">\n",
       "  <thead>\n",
       "    <tr style=\"text-align: right;\">\n",
       "      <th></th>\n",
       "      <th>sentiment</th>\n",
       "    </tr>\n",
       "  </thead>\n",
       "  <tbody>\n",
       "    <tr>\n",
       "      <th>count</th>\n",
       "      <td>21.000000</td>\n",
       "    </tr>\n",
       "    <tr>\n",
       "      <th>mean</th>\n",
       "      <td>3.714286</td>\n",
       "    </tr>\n",
       "    <tr>\n",
       "      <th>std</th>\n",
       "      <td>1.146423</td>\n",
       "    </tr>\n",
       "    <tr>\n",
       "      <th>min</th>\n",
       "      <td>1.000000</td>\n",
       "    </tr>\n",
       "    <tr>\n",
       "      <th>25%</th>\n",
       "      <td>3.000000</td>\n",
       "    </tr>\n",
       "    <tr>\n",
       "      <th>50%</th>\n",
       "      <td>4.000000</td>\n",
       "    </tr>\n",
       "    <tr>\n",
       "      <th>75%</th>\n",
       "      <td>4.000000</td>\n",
       "    </tr>\n",
       "    <tr>\n",
       "      <th>max</th>\n",
       "      <td>5.000000</td>\n",
       "    </tr>\n",
       "  </tbody>\n",
       "</table>\n",
       "</div>"
      ],
      "text/plain": [
       "       sentiment\n",
       "count  21.000000\n",
       "mean    3.714286\n",
       "std     1.146423\n",
       "min     1.000000\n",
       "25%     3.000000\n",
       "50%     4.000000\n",
       "75%     4.000000\n",
       "max     5.000000"
      ]
     },
     "execution_count": 22,
     "metadata": {},
     "output_type": "execute_result"
    }
   ],
   "source": [
    "# Summary \n",
    "langosta.describe()"
   ]
  },
  {
   "cell_type": "code",
   "execution_count": 24,
   "id": "2907dbca",
   "metadata": {},
   "outputs": [
    {
     "data": {
      "text/plain": [
       "4    9\n",
       "3    5\n",
       "5    5\n",
       "1    2\n",
       "Name: sentiment, dtype: int64"
      ]
     },
     "execution_count": 24,
     "metadata": {},
     "output_type": "execute_result"
    }
   ],
   "source": [
    "# Counting the values\n",
    "pd.value_counts(langosta[\"sentiment\"])"
   ]
  },
  {
   "cell_type": "code",
   "execution_count": 25,
   "id": "0bf19f15",
   "metadata": {},
   "outputs": [],
   "source": [
    "# Ploting a histogram\n",
    "ylangosta = langosta[\"sentiment\"].values"
   ]
  },
  {
   "cell_type": "code",
   "execution_count": 56,
   "id": "2f5bdeef",
   "metadata": {},
   "outputs": [
    {
     "data": {
      "image/png": "[encoded data removed]",
      "text/plain": [
       "<Figure size 432x288 with 1 Axes>"
      ]
     },
     "metadata": {
      "needs_background": "light"
     },
     "output_type": "display_data"
    }
   ],
   "source": [
    "plt.hist(ylangosta, color = '#228846')\n",
    "plt.title('Sentiment Analysis Playa Langosta')\n",
    "plt.xlabel('BERT grade')\n",
    "plt.ylabel('Number of reviews')\n",
    "plt.savefig('langosta.png', dpi=100)\n",
    "plt.show()"
   ]
  },
  {
   "cell_type": "markdown",
   "id": "51ce7dcc",
   "metadata": {},
   "source": [
    "3. Xcacel Beach"
   ]
  },
  {
   "cell_type": "code",
   "execution_count": 28,
   "id": "38e85dd1",
   "metadata": {},
   "outputs": [],
   "source": [
    "#df\n",
    "xcacel = pd.read_csv(\"xcacel.csv\")"
   ]
  },
  {
   "cell_type": "code",
   "execution_count": 29,
   "id": "085e0fbb",
   "metadata": {},
   "outputs": [],
   "source": [
    "#Adding a column to the data frame scoring the review (1-5) called \"sentiment\"\n",
    "xcacel['sentiment'] = xcacel['review'].apply(lambda x: sentiment_score(x[:512]))"
   ]
  },
  {
   "cell_type": "code",
   "execution_count": 30,
   "id": "8b4e2df8",
   "metadata": {},
   "outputs": [
    {
     "data": {
      "text/html": [
       "<div>\n",
       "<style scoped>\n",
       "    .dataframe tbody tr th:only-of-type {\n",
       "        vertical-align: middle;\n",
       "    }\n",
       "\n",
       "    .dataframe tbody tr th {\n",
       "        vertical-align: top;\n",
       "    }\n",
       "\n",
       "    .dataframe thead th {\n",
       "        text-align: right;\n",
       "    }\n",
       "</style>\n",
       "<table border=\"1\" class=\"dataframe\">\n",
       "  <thead>\n",
       "    <tr style=\"text-align: right;\">\n",
       "      <th></th>\n",
       "      <th>review</th>\n",
       "      <th>sentiment</th>\n",
       "    </tr>\n",
       "  </thead>\n",
       "  <tbody>\n",
       "    <tr>\n",
       "      <th>0</th>\n",
       "      <td>Antes el ingreso a esta playa era a voluntad. ...</td>\n",
       "      <td>3</td>\n",
       "    </tr>\n",
       "    <tr>\n",
       "      <th>1</th>\n",
       "      <td>Que cosa de playa, es una alberca infinita, si...</td>\n",
       "      <td>2</td>\n",
       "    </tr>\n",
       "    <tr>\n",
       "      <th>2</th>\n",
       "      <td>Situado entre Tulum y Akumal. 12 km al sur de ...</td>\n",
       "      <td>5</td>\n",
       "    </tr>\n",
       "    <tr>\n",
       "      <th>3</th>\n",
       "      <td>Es una playa bonita, vi mucho sargazo,  podría...</td>\n",
       "      <td>4</td>\n",
       "    </tr>\n",
       "    <tr>\n",
       "      <th>4</th>\n",
       "      <td>Hermosa playa a unos 40 km de playa del Carmen...</td>\n",
       "      <td>5</td>\n",
       "    </tr>\n",
       "    <tr>\n",
       "      <th>5</th>\n",
       "      <td>Tenia buenas recomendaciones para conocer esta...</td>\n",
       "      <td>1</td>\n",
       "    </tr>\n",
       "    <tr>\n",
       "      <th>6</th>\n",
       "      <td>Xcacel es una playa muy bonita fui el año pasa...</td>\n",
       "      <td>5</td>\n",
       "    </tr>\n",
       "    <tr>\n",
       "      <th>7</th>\n",
       "      <td>Lo pasamos genial , hicimos dos excursiones de...</td>\n",
       "      <td>5</td>\n",
       "    </tr>\n",
       "    <tr>\n",
       "      <th>8</th>\n",
       "      <td>Es una de las mejores playas no solo de MÉXICO...</td>\n",
       "      <td>5</td>\n",
       "    </tr>\n",
       "    <tr>\n",
       "      <th>9</th>\n",
       "      <td>Una maravilla de lugar mar abierto donde el me...</td>\n",
       "      <td>5</td>\n",
       "    </tr>\n",
       "    <tr>\n",
       "      <th>10</th>\n",
       "      <td>If you like (truly) quiet beaches, head here. ...</td>\n",
       "      <td>2</td>\n",
       "    </tr>\n",
       "    <tr>\n",
       "      <th>11</th>\n",
       "      <td>Tranquil and quiet. Exactly what you want for ...</td>\n",
       "      <td>5</td>\n",
       "    </tr>\n",
       "    <tr>\n",
       "      <th>12</th>\n",
       "      <td>Xcacelito is a sanctuary for nesting turtles w...</td>\n",
       "      <td>5</td>\n",
       "    </tr>\n",
       "    <tr>\n",
       "      <th>13</th>\n",
       "      <td>Just got back from this beach. We had visited ...</td>\n",
       "      <td>1</td>\n",
       "    </tr>\n",
       "    <tr>\n",
       "      <th>14</th>\n",
       "      <td>Some helpful details that we wish we knew: We ...</td>\n",
       "      <td>3</td>\n",
       "    </tr>\n",
       "    <tr>\n",
       "      <th>15</th>\n",
       "      <td>This place is paradise! To get here you need t...</td>\n",
       "      <td>5</td>\n",
       "    </tr>\n",
       "    <tr>\n",
       "      <th>16</th>\n",
       "      <td>Our family (including kids 13 and 15) went to ...</td>\n",
       "      <td>4</td>\n",
       "    </tr>\n",
       "    <tr>\n",
       "      <th>17</th>\n",
       "      <td>We drove to Xcacel From Puerto Aventuras and w...</td>\n",
       "      <td>1</td>\n",
       "    </tr>\n",
       "    <tr>\n",
       "      <th>18</th>\n",
       "      <td>So my hubby and I love this beach. We’ve been ...</td>\n",
       "      <td>4</td>\n",
       "    </tr>\n",
       "    <tr>\n",
       "      <th>19</th>\n",
       "      <td>I went to Xcacel Beach and Cenote last year an...</td>\n",
       "      <td>1</td>\n",
       "    </tr>\n",
       "  </tbody>\n",
       "</table>\n",
       "</div>"
      ],
      "text/plain": [
       "                                               review  sentiment\n",
       "0   Antes el ingreso a esta playa era a voluntad. ...          3\n",
       "1   Que cosa de playa, es una alberca infinita, si...          2\n",
       "2   Situado entre Tulum y Akumal. 12 km al sur de ...          5\n",
       "3   Es una playa bonita, vi mucho sargazo,  podría...          4\n",
       "4   Hermosa playa a unos 40 km de playa del Carmen...          5\n",
       "5   Tenia buenas recomendaciones para conocer esta...          1\n",
       "6   Xcacel es una playa muy bonita fui el año pasa...          5\n",
       "7   Lo pasamos genial , hicimos dos excursiones de...          5\n",
       "8   Es una de las mejores playas no solo de MÉXICO...          5\n",
       "9   Una maravilla de lugar mar abierto donde el me...          5\n",
       "10  If you like (truly) quiet beaches, head here. ...          2\n",
       "11  Tranquil and quiet. Exactly what you want for ...          5\n",
       "12  Xcacelito is a sanctuary for nesting turtles w...          5\n",
       "13  Just got back from this beach. We had visited ...          1\n",
       "14  Some helpful details that we wish we knew: We ...          3\n",
       "15  This place is paradise! To get here you need t...          5\n",
       "16  Our family (including kids 13 and 15) went to ...          4\n",
       "17  We drove to Xcacel From Puerto Aventuras and w...          1\n",
       "18  So my hubby and I love this beach. We’ve been ...          4\n",
       "19  I went to Xcacel Beach and Cenote last year an...          1"
      ]
     },
     "execution_count": 30,
     "metadata": {},
     "output_type": "execute_result"
    }
   ],
   "source": [
    "# Data Frame with a review and sentiment column\n",
    "xcacel"
   ]
  },
  {
   "cell_type": "code",
   "execution_count": 31,
   "id": "695ffd3e",
   "metadata": {},
   "outputs": [
    {
     "data": {
      "text/html": [
       "<div>\n",
       "<style scoped>\n",
       "    .dataframe tbody tr th:only-of-type {\n",
       "        vertical-align: middle;\n",
       "    }\n",
       "\n",
       "    .dataframe tbody tr th {\n",
       "        vertical-align: top;\n",
       "    }\n",
       "\n",
       "    .dataframe thead th {\n",
       "        text-align: right;\n",
       "    }\n",
       "</style>\n",
       "<table border=\"1\" class=\"dataframe\">\n",
       "  <thead>\n",
       "    <tr style=\"text-align: right;\">\n",
       "      <th></th>\n",
       "      <th>sentiment</th>\n",
       "    </tr>\n",
       "  </thead>\n",
       "  <tbody>\n",
       "    <tr>\n",
       "      <th>count</th>\n",
       "      <td>20.000000</td>\n",
       "    </tr>\n",
       "    <tr>\n",
       "      <th>mean</th>\n",
       "      <td>3.550000</td>\n",
       "    </tr>\n",
       "    <tr>\n",
       "      <th>std</th>\n",
       "      <td>1.637553</td>\n",
       "    </tr>\n",
       "    <tr>\n",
       "      <th>min</th>\n",
       "      <td>1.000000</td>\n",
       "    </tr>\n",
       "    <tr>\n",
       "      <th>25%</th>\n",
       "      <td>2.000000</td>\n",
       "    </tr>\n",
       "    <tr>\n",
       "      <th>50%</th>\n",
       "      <td>4.000000</td>\n",
       "    </tr>\n",
       "    <tr>\n",
       "      <th>75%</th>\n",
       "      <td>5.000000</td>\n",
       "    </tr>\n",
       "    <tr>\n",
       "      <th>max</th>\n",
       "      <td>5.000000</td>\n",
       "    </tr>\n",
       "  </tbody>\n",
       "</table>\n",
       "</div>"
      ],
      "text/plain": [
       "       sentiment\n",
       "count  20.000000\n",
       "mean    3.550000\n",
       "std     1.637553\n",
       "min     1.000000\n",
       "25%     2.000000\n",
       "50%     4.000000\n",
       "75%     5.000000\n",
       "max     5.000000"
      ]
     },
     "execution_count": 31,
     "metadata": {},
     "output_type": "execute_result"
    }
   ],
   "source": [
    "# Summary \n",
    "xcacel.describe()"
   ]
  },
  {
   "cell_type": "code",
   "execution_count": 32,
   "id": "80601614",
   "metadata": {},
   "outputs": [
    {
     "data": {
      "text/plain": [
       "5    9\n",
       "1    4\n",
       "4    3\n",
       "3    2\n",
       "2    2\n",
       "Name: sentiment, dtype: int64"
      ]
     },
     "execution_count": 32,
     "metadata": {},
     "output_type": "execute_result"
    }
   ],
   "source": [
    "# Counting the values\n",
    "pd.value_counts(xcacel[\"sentiment\"])"
   ]
  },
  {
   "cell_type": "code",
   "execution_count": 33,
   "id": "65b12457",
   "metadata": {},
   "outputs": [],
   "source": [
    "# Ploting a histogram\n",
    "yxcacel = xcacel[\"sentiment\"].values"
   ]
  },
  {
   "cell_type": "code",
   "execution_count": 55,
   "id": "8e9a666c",
   "metadata": {},
   "outputs": [
    {
     "data": {
      "image/png": "[encoded data removed]",
      "text/plain": [
       "<Figure size 432x288 with 1 Axes>"
      ]
     },
     "metadata": {
      "needs_background": "light"
     },
     "output_type": "display_data"
    }
   ],
   "source": [
    "plt.hist(yxcacel, color = '#278806')\n",
    "plt.title('Sentiment Analysis Xcacel Beach')\n",
    "plt.xlabel('BERT grade')\n",
    "plt.ylabel('Number of reviews')\n",
    "plt.savefig('xcacel.png', dpi=100)\n",
    "plt.show()"
   ]
  },
  {
   "cell_type": "markdown",
   "id": "b55118a4",
   "metadata": {},
   "source": [
    "4. Playa Caracol"
   ]
  },
  {
   "cell_type": "code",
   "execution_count": 35,
   "id": "1e34a00b",
   "metadata": {},
   "outputs": [],
   "source": [
    "#df\n",
    "caracol = pd.read_csv(\"caracoles.csv\")"
   ]
  },
  {
   "cell_type": "code",
   "execution_count": 36,
   "id": "9a134a0d",
   "metadata": {},
   "outputs": [],
   "source": [
    "#Adding a column to the data frame scoring the review (1-5) called \"sentiment\"\n",
    "caracol['sentiment'] = caracol['review'].apply(lambda x: sentiment_score(x[:512]))"
   ]
  },
  {
   "cell_type": "code",
   "execution_count": 37,
   "id": "75666624",
   "metadata": {},
   "outputs": [
    {
     "data": {
      "text/html": [
       "<div>\n",
       "<style scoped>\n",
       "    .dataframe tbody tr th:only-of-type {\n",
       "        vertical-align: middle;\n",
       "    }\n",
       "\n",
       "    .dataframe tbody tr th {\n",
       "        vertical-align: top;\n",
       "    }\n",
       "\n",
       "    .dataframe thead th {\n",
       "        text-align: right;\n",
       "    }\n",
       "</style>\n",
       "<table border=\"1\" class=\"dataframe\">\n",
       "  <thead>\n",
       "    <tr style=\"text-align: right;\">\n",
       "      <th></th>\n",
       "      <th>review</th>\n",
       "      <th>sentiment</th>\n",
       "    </tr>\n",
       "  </thead>\n",
       "  <tbody>\n",
       "    <tr>\n",
       "      <th>0</th>\n",
       "      <td>The touristy center of the region, with presti...</td>\n",
       "      <td>5</td>\n",
       "    </tr>\n",
       "    <tr>\n",
       "      <th>1</th>\n",
       "      <td>You can go with family, couple or friends and ...</td>\n",
       "      <td>4</td>\n",
       "    </tr>\n",
       "    <tr>\n",
       "      <th>2</th>\n",
       "      <td>Playa Caracol is at the northern tip of Cancun...</td>\n",
       "      <td>4</td>\n",
       "    </tr>\n",
       "    <tr>\n",
       "      <th>3</th>\n",
       "      <td>Cancun beaches like they said, its beautiful, ...</td>\n",
       "      <td>4</td>\n",
       "    </tr>\n",
       "    <tr>\n",
       "      <th>4</th>\n",
       "      <td>Totally average beach. Swamped with hawkers se...</td>\n",
       "      <td>1</td>\n",
       "    </tr>\n",
       "    <tr>\n",
       "      <th>5</th>\n",
       "      <td>What a lovely place to be at! Refreshing  afte...</td>\n",
       "      <td>5</td>\n",
       "    </tr>\n",
       "    <tr>\n",
       "      <th>6</th>\n",
       "      <td>Small beach but close to the OXXO for beer etc...</td>\n",
       "      <td>4</td>\n",
       "    </tr>\n",
       "    <tr>\n",
       "      <th>7</th>\n",
       "      <td>We missed the Ultramar ($35 roundtrip pp) and ...</td>\n",
       "      <td>3</td>\n",
       "    </tr>\n",
       "    <tr>\n",
       "      <th>8</th>\n",
       "      <td>When you are at the beach you will be asked to...</td>\n",
       "      <td>5</td>\n",
       "    </tr>\n",
       "    <tr>\n",
       "      <th>9</th>\n",
       "      <td>We visit this beach and it’s quiet still water...</td>\n",
       "      <td>4</td>\n",
       "    </tr>\n",
       "    <tr>\n",
       "      <th>10</th>\n",
       "      <td>A small, yet great beach on north end of zona ...</td>\n",
       "      <td>4</td>\n",
       "    </tr>\n",
       "    <tr>\n",
       "      <th>11</th>\n",
       "      <td>Es una de las mejores playas públicas de Cancu...</td>\n",
       "      <td>5</td>\n",
       "    </tr>\n",
       "    <tr>\n",
       "      <th>12</th>\n",
       "      <td>No hay manera de describir las playas del cari...</td>\n",
       "      <td>5</td>\n",
       "    </tr>\n",
       "    <tr>\n",
       "      <th>13</th>\n",
       "      <td>Atención muy buena, el personal es muy amable,...</td>\n",
       "      <td>5</td>\n",
       "    </tr>\n",
       "    <tr>\n",
       "      <th>14</th>\n",
       "      <td>Hermosa playa ,.pero para disfrutarla aún mas ...</td>\n",
       "      <td>3</td>\n",
       "    </tr>\n",
       "    <tr>\n",
       "      <th>15</th>\n",
       "      <td>Maravillosa y Sensacional playa,  mar tranquil...</td>\n",
       "      <td>5</td>\n",
       "    </tr>\n",
       "    <tr>\n",
       "      <th>16</th>\n",
       "      <td>De ómnibus, tomando el R1 ó R2, Que por $12 Me...</td>\n",
       "      <td>4</td>\n",
       "    </tr>\n",
       "    <tr>\n",
       "      <th>17</th>\n",
       "      <td>Super padrisima playa!! Sus colores son bellis...</td>\n",
       "      <td>5</td>\n",
       "    </tr>\n",
       "    <tr>\n",
       "      <th>18</th>\n",
       "      <td>Es una pena que la playa caracol se la hayan a...</td>\n",
       "      <td>1</td>\n",
       "    </tr>\n",
       "    <tr>\n",
       "      <th>19</th>\n",
       "      <td>Espectacular playa muy hermoso todo paisajes h...</td>\n",
       "      <td>5</td>\n",
       "    </tr>\n",
       "    <tr>\n",
       "      <th>20</th>\n",
       "      <td>Esta muy bien, el oleaje es tranquilo, lo únic...</td>\n",
       "      <td>4</td>\n",
       "    </tr>\n",
       "  </tbody>\n",
       "</table>\n",
       "</div>"
      ],
      "text/plain": [
       "                                               review  sentiment\n",
       "0   The touristy center of the region, with presti...          5\n",
       "1   You can go with family, couple or friends and ...          4\n",
       "2   Playa Caracol is at the northern tip of Cancun...          4\n",
       "3   Cancun beaches like they said, its beautiful, ...          4\n",
       "4   Totally average beach. Swamped with hawkers se...          1\n",
       "5   What a lovely place to be at! Refreshing  afte...          5\n",
       "6   Small beach but close to the OXXO for beer etc...          4\n",
       "7   We missed the Ultramar ($35 roundtrip pp) and ...          3\n",
       "8   When you are at the beach you will be asked to...          5\n",
       "9   We visit this beach and it’s quiet still water...          4\n",
       "10  A small, yet great beach on north end of zona ...          4\n",
       "11  Es una de las mejores playas públicas de Cancu...          5\n",
       "12  No hay manera de describir las playas del cari...          5\n",
       "13  Atención muy buena, el personal es muy amable,...          5\n",
       "14  Hermosa playa ,.pero para disfrutarla aún mas ...          3\n",
       "15  Maravillosa y Sensacional playa,  mar tranquil...          5\n",
       "16  De ómnibus, tomando el R1 ó R2, Que por $12 Me...          4\n",
       "17  Super padrisima playa!! Sus colores son bellis...          5\n",
       "18  Es una pena que la playa caracol se la hayan a...          1\n",
       "19  Espectacular playa muy hermoso todo paisajes h...          5\n",
       "20  Esta muy bien, el oleaje es tranquilo, lo únic...          4"
      ]
     },
     "execution_count": 37,
     "metadata": {},
     "output_type": "execute_result"
    }
   ],
   "source": [
    "# Data Frame with a review and sentiment column\n",
    "caracol"
   ]
  },
  {
   "cell_type": "code",
   "execution_count": 39,
   "id": "ffc2ca5b",
   "metadata": {},
   "outputs": [
    {
     "data": {
      "text/html": [
       "<div>\n",
       "<style scoped>\n",
       "    .dataframe tbody tr th:only-of-type {\n",
       "        vertical-align: middle;\n",
       "    }\n",
       "\n",
       "    .dataframe tbody tr th {\n",
       "        vertical-align: top;\n",
       "    }\n",
       "\n",
       "    .dataframe thead th {\n",
       "        text-align: right;\n",
       "    }\n",
       "</style>\n",
       "<table border=\"1\" class=\"dataframe\">\n",
       "  <thead>\n",
       "    <tr style=\"text-align: right;\">\n",
       "      <th></th>\n",
       "      <th>sentiment</th>\n",
       "    </tr>\n",
       "  </thead>\n",
       "  <tbody>\n",
       "    <tr>\n",
       "      <th>count</th>\n",
       "      <td>21.000000</td>\n",
       "    </tr>\n",
       "    <tr>\n",
       "      <th>mean</th>\n",
       "      <td>4.047619</td>\n",
       "    </tr>\n",
       "    <tr>\n",
       "      <th>std</th>\n",
       "      <td>1.203170</td>\n",
       "    </tr>\n",
       "    <tr>\n",
       "      <th>min</th>\n",
       "      <td>1.000000</td>\n",
       "    </tr>\n",
       "    <tr>\n",
       "      <th>25%</th>\n",
       "      <td>4.000000</td>\n",
       "    </tr>\n",
       "    <tr>\n",
       "      <th>50%</th>\n",
       "      <td>4.000000</td>\n",
       "    </tr>\n",
       "    <tr>\n",
       "      <th>75%</th>\n",
       "      <td>5.000000</td>\n",
       "    </tr>\n",
       "    <tr>\n",
       "      <th>max</th>\n",
       "      <td>5.000000</td>\n",
       "    </tr>\n",
       "  </tbody>\n",
       "</table>\n",
       "</div>"
      ],
      "text/plain": [
       "       sentiment\n",
       "count  21.000000\n",
       "mean    4.047619\n",
       "std     1.203170\n",
       "min     1.000000\n",
       "25%     4.000000\n",
       "50%     4.000000\n",
       "75%     5.000000\n",
       "max     5.000000"
      ]
     },
     "execution_count": 39,
     "metadata": {},
     "output_type": "execute_result"
    }
   ],
   "source": [
    "# Summary \n",
    "caracol.describe()"
   ]
  },
  {
   "cell_type": "code",
   "execution_count": 40,
   "id": "fd2b1eac",
   "metadata": {},
   "outputs": [
    {
     "data": {
      "text/plain": [
       "5    9\n",
       "4    8\n",
       "1    2\n",
       "3    2\n",
       "Name: sentiment, dtype: int64"
      ]
     },
     "execution_count": 40,
     "metadata": {},
     "output_type": "execute_result"
    }
   ],
   "source": [
    "# Counting the values\n",
    "pd.value_counts(caracol[\"sentiment\"])"
   ]
  },
  {
   "cell_type": "code",
   "execution_count": 41,
   "id": "813409c7",
   "metadata": {},
   "outputs": [],
   "source": [
    "# Ploting a histogram\n",
    "ycaracol = caracol[\"sentiment\"].values"
   ]
  },
  {
   "cell_type": "code",
   "execution_count": 54,
   "id": "12adf0e1",
   "metadata": {},
   "outputs": [
    {
     "data": {
      "image/png": "[encoded data removed]",
      "text/plain": [
       "<Figure size 432x288 with 1 Axes>"
      ]
     },
     "metadata": {
      "needs_background": "light"
     },
     "output_type": "display_data"
    }
   ],
   "source": [
    "plt.hist(ycaracol, color = '#733806')\n",
    "plt.title('Sentiment Analysis Playa Caracol')\n",
    "plt.xlabel('BERT grade')\n",
    "plt.ylabel('Number of reviews')\n",
    "plt.savefig('caracol.png', dpi=100)\n",
    "plt.show()"
   ]
  },
  {
   "cell_type": "markdown",
   "id": "f2838ece",
   "metadata": {},
   "source": [
    "5. Playa Tortugas"
   ]
  },
  {
   "cell_type": "code",
   "execution_count": 43,
   "id": "89924f6b",
   "metadata": {},
   "outputs": [],
   "source": [
    "#df\n",
    "tortugas = pd.read_csv(\"tortuga.csv\")"
   ]
  },
  {
   "cell_type": "code",
   "execution_count": 44,
   "id": "99d30a6d",
   "metadata": {},
   "outputs": [],
   "source": [
    "#Adding a column to the data frame scoring the review (1-5) called \"sentiment\"\n",
    "tortugas['sentiment'] = tortugas['review'].apply(lambda x: sentiment_score(x[:512]))"
   ]
  },
  {
   "cell_type": "code",
   "execution_count": 45,
   "id": "07ec36f8",
   "metadata": {
    "scrolled": true
   },
   "outputs": [
    {
     "data": {
      "text/html": [
       "<div>\n",
       "<style scoped>\n",
       "    .dataframe tbody tr th:only-of-type {\n",
       "        vertical-align: middle;\n",
       "    }\n",
       "\n",
       "    .dataframe tbody tr th {\n",
       "        vertical-align: top;\n",
       "    }\n",
       "\n",
       "    .dataframe thead th {\n",
       "        text-align: right;\n",
       "    }\n",
       "</style>\n",
       "<table border=\"1\" class=\"dataframe\">\n",
       "  <thead>\n",
       "    <tr style=\"text-align: right;\">\n",
       "      <th></th>\n",
       "      <th>review</th>\n",
       "      <th>sentiment</th>\n",
       "    </tr>\n",
       "  </thead>\n",
       "  <tbody>\n",
       "    <tr>\n",
       "      <th>0</th>\n",
       "      <td>Una gran playa pública con puerto marítimo, es...</td>\n",
       "      <td>5</td>\n",
       "    </tr>\n",
       "    <tr>\n",
       "      <th>1</th>\n",
       "      <td>El 31 de marzo de 2021 mi familia(6) y yo fuim...</td>\n",
       "      <td>1</td>\n",
       "    </tr>\n",
       "    <tr>\n",
       "      <th>2</th>\n",
       "      <td>En sí la playa es muy bonita, y el mar es exce...</td>\n",
       "      <td>3</td>\n",
       "    </tr>\n",
       "    <tr>\n",
       "      <th>3</th>\n",
       "      <td>Playa tortugas un lugar hermoso, pero lastima ...</td>\n",
       "      <td>2</td>\n",
       "    </tr>\n",
       "    <tr>\n",
       "      <th>4</th>\n",
       "      <td>De ómnibus, tomando el R1 ó R2, Que por $12 Me...</td>\n",
       "      <td>4</td>\n",
       "    </tr>\n",
       "    <tr>\n",
       "      <th>5</th>\n",
       "      <td>Cancún tiene muchas playas hermosas con una gr...</td>\n",
       "      <td>4</td>\n",
       "    </tr>\n",
       "    <tr>\n",
       "      <th>6</th>\n",
       "      <td>Es una de las playas más lindas de Cancun. La ...</td>\n",
       "      <td>5</td>\n",
       "    </tr>\n",
       "    <tr>\n",
       "      <th>7</th>\n",
       "      <td>Visité Playa Tortugas en Diciembre con mi fami...</td>\n",
       "      <td>4</td>\n",
       "    </tr>\n",
       "    <tr>\n",
       "      <th>8</th>\n",
       "      <td>La playa es pequeña, con oleaje muy leve, idea...</td>\n",
       "      <td>3</td>\n",
       "    </tr>\n",
       "    <tr>\n",
       "      <th>9</th>\n",
       "      <td>En parqueo venden el pase catamaran es estafa ...</td>\n",
       "      <td>1</td>\n",
       "    </tr>\n",
       "    <tr>\n",
       "      <th>10</th>\n",
       "      <td>This beach is lined with open-air cafes, resta...</td>\n",
       "      <td>5</td>\n",
       "    </tr>\n",
       "    <tr>\n",
       "      <th>11</th>\n",
       "      <td>My daughter had the time of her life while sta...</td>\n",
       "      <td>5</td>\n",
       "    </tr>\n",
       "    <tr>\n",
       "      <th>12</th>\n",
       "      <td>This is not the biggest beach in Cancun. It ha...</td>\n",
       "      <td>3</td>\n",
       "    </tr>\n",
       "    <tr>\n",
       "      <th>13</th>\n",
       "      <td>The beach club is fantastic, and Julio booked ...</td>\n",
       "      <td>5</td>\n",
       "    </tr>\n",
       "    <tr>\n",
       "      <th>14</th>\n",
       "      <td>We rented a yacht for “7 hours” that included ...</td>\n",
       "      <td>1</td>\n",
       "    </tr>\n",
       "    <tr>\n",
       "      <th>15</th>\n",
       "      <td>If you want to pay for sitting in a junkyard, ...</td>\n",
       "      <td>1</td>\n",
       "    </tr>\n",
       "    <tr>\n",
       "      <th>16</th>\n",
       "      <td>We spent the day at Playa Tortugas. The beach ...</td>\n",
       "      <td>4</td>\n",
       "    </tr>\n",
       "    <tr>\n",
       "      <th>17</th>\n",
       "      <td>My Husband and I went to the playa tortuga one...</td>\n",
       "      <td>1</td>\n",
       "    </tr>\n",
       "    <tr>\n",
       "      <th>18</th>\n",
       "      <td>You can purchase round trip tickets to and fro...</td>\n",
       "      <td>5</td>\n",
       "    </tr>\n",
       "    <tr>\n",
       "      <th>19</th>\n",
       "      <td>Good luck with fighting for a space on this tw...</td>\n",
       "      <td>1</td>\n",
       "    </tr>\n",
       "    <tr>\n",
       "      <th>20</th>\n",
       "      <td>I am writing this REVIEW so everyone who visit...</td>\n",
       "      <td>1</td>\n",
       "    </tr>\n",
       "  </tbody>\n",
       "</table>\n",
       "</div>"
      ],
      "text/plain": [
       "                                               review  sentiment\n",
       "0   Una gran playa pública con puerto marítimo, es...          5\n",
       "1   El 31 de marzo de 2021 mi familia(6) y yo fuim...          1\n",
       "2   En sí la playa es muy bonita, y el mar es exce...          3\n",
       "3   Playa tortugas un lugar hermoso, pero lastima ...          2\n",
       "4   De ómnibus, tomando el R1 ó R2, Que por $12 Me...          4\n",
       "5   Cancún tiene muchas playas hermosas con una gr...          4\n",
       "6   Es una de las playas más lindas de Cancun. La ...          5\n",
       "7   Visité Playa Tortugas en Diciembre con mi fami...          4\n",
       "8   La playa es pequeña, con oleaje muy leve, idea...          3\n",
       "9   En parqueo venden el pase catamaran es estafa ...          1\n",
       "10  This beach is lined with open-air cafes, resta...          5\n",
       "11  My daughter had the time of her life while sta...          5\n",
       "12  This is not the biggest beach in Cancun. It ha...          3\n",
       "13  The beach club is fantastic, and Julio booked ...          5\n",
       "14  We rented a yacht for “7 hours” that included ...          1\n",
       "15  If you want to pay for sitting in a junkyard, ...          1\n",
       "16  We spent the day at Playa Tortugas. The beach ...          4\n",
       "17  My Husband and I went to the playa tortuga one...          1\n",
       "18  You can purchase round trip tickets to and fro...          5\n",
       "19  Good luck with fighting for a space on this tw...          1\n",
       "20  I am writing this REVIEW so everyone who visit...          1"
      ]
     },
     "execution_count": 45,
     "metadata": {},
     "output_type": "execute_result"
    }
   ],
   "source": [
    "# Data Frame with a review and sentiment column\n",
    "tortugas"
   ]
  },
  {
   "cell_type": "code",
   "execution_count": 46,
   "id": "d6d40b31",
   "metadata": {},
   "outputs": [
    {
     "data": {
      "text/html": [
       "<div>\n",
       "<style scoped>\n",
       "    .dataframe tbody tr th:only-of-type {\n",
       "        vertical-align: middle;\n",
       "    }\n",
       "\n",
       "    .dataframe tbody tr th {\n",
       "        vertical-align: top;\n",
       "    }\n",
       "\n",
       "    .dataframe thead th {\n",
       "        text-align: right;\n",
       "    }\n",
       "</style>\n",
       "<table border=\"1\" class=\"dataframe\">\n",
       "  <thead>\n",
       "    <tr style=\"text-align: right;\">\n",
       "      <th></th>\n",
       "      <th>sentiment</th>\n",
       "    </tr>\n",
       "  </thead>\n",
       "  <tbody>\n",
       "    <tr>\n",
       "      <th>count</th>\n",
       "      <td>21.000000</td>\n",
       "    </tr>\n",
       "    <tr>\n",
       "      <th>mean</th>\n",
       "      <td>3.047619</td>\n",
       "    </tr>\n",
       "    <tr>\n",
       "      <th>std</th>\n",
       "      <td>1.687489</td>\n",
       "    </tr>\n",
       "    <tr>\n",
       "      <th>min</th>\n",
       "      <td>1.000000</td>\n",
       "    </tr>\n",
       "    <tr>\n",
       "      <th>25%</th>\n",
       "      <td>1.000000</td>\n",
       "    </tr>\n",
       "    <tr>\n",
       "      <th>50%</th>\n",
       "      <td>3.000000</td>\n",
       "    </tr>\n",
       "    <tr>\n",
       "      <th>75%</th>\n",
       "      <td>5.000000</td>\n",
       "    </tr>\n",
       "    <tr>\n",
       "      <th>max</th>\n",
       "      <td>5.000000</td>\n",
       "    </tr>\n",
       "  </tbody>\n",
       "</table>\n",
       "</div>"
      ],
      "text/plain": [
       "       sentiment\n",
       "count  21.000000\n",
       "mean    3.047619\n",
       "std     1.687489\n",
       "min     1.000000\n",
       "25%     1.000000\n",
       "50%     3.000000\n",
       "75%     5.000000\n",
       "max     5.000000"
      ]
     },
     "execution_count": 46,
     "metadata": {},
     "output_type": "execute_result"
    }
   ],
   "source": [
    "# Summary \n",
    "tortugas.describe()"
   ]
  },
  {
   "cell_type": "code",
   "execution_count": 47,
   "id": "d2abaad9",
   "metadata": {},
   "outputs": [
    {
     "data": {
      "text/plain": [
       "1    7\n",
       "5    6\n",
       "4    4\n",
       "3    3\n",
       "2    1\n",
       "Name: sentiment, dtype: int64"
      ]
     },
     "execution_count": 47,
     "metadata": {},
     "output_type": "execute_result"
    }
   ],
   "source": [
    "# Counting the values\n",
    "pd.value_counts(tortugas[\"sentiment\"])"
   ]
  },
  {
   "cell_type": "code",
   "execution_count": 49,
   "id": "3053bc7b",
   "metadata": {},
   "outputs": [],
   "source": [
    "# Ploting a histogram\n",
    "ytortugas = tortugas[\"sentiment\"].values"
   ]
  },
  {
   "cell_type": "code",
   "execution_count": 58,
   "id": "f64af1b1",
   "metadata": {},
   "outputs": [
    {
     "data": {
      "image/png": "[encoded data removed]",
      "text/plain": [
       "<Figure size 432x288 with 1 Axes>"
      ]
     },
     "metadata": {
      "needs_background": "light"
     },
     "output_type": "display_data"
    }
   ],
   "source": [
    "plt.hist(ytortugas, color = '#121106')\n",
    "plt.title('Sentiment Analysis Playa Tortugas')\n",
    "plt.xlabel('BERT grade')\n",
    "plt.ylabel('Number of reviews')\n",
    "plt.savefig('tortugas.png', dpi=100)\n",
    "plt.show()"
   ]
  },
  {
   "cell_type": "markdown",
   "id": "cb75486c",
   "metadata": {},
   "source": [
    "# Analysis of Spanish-English reviews"
   ]
  },
  {
   "cell_type": "markdown",
   "id": "52b3bd82",
   "metadata": {},
   "source": [
    "In this repo I analized 10 spanish and 10 english reviews of a popular travel plataform which are considered to understand perceptions of local-latin visitors and other countries."
   ]
  },
  {
   "cell_type": "markdown",
   "id": "a65e41bc",
   "metadata": {},
   "source": [
    "1. Spanish reviews"
   ]
  },
  {
   "cell_type": "code",
   "execution_count": 59,
   "id": "b16fdcc6",
   "metadata": {},
   "outputs": [],
   "source": [
    "#df of spanish reviews\n",
    "spanish = pd.read_csv(\"dfspanish.csv\")"
   ]
  },
  {
   "cell_type": "code",
   "execution_count": 60,
   "id": "339e6e01",
   "metadata": {},
   "outputs": [],
   "source": [
    "#Adding a column to the data frame scoring the review (1-5) called \"sentiment\"\n",
    "spanish['sentiment'] = spanish['review'].apply(lambda x: sentiment_score(x[:512]))"
   ]
  },
  {
   "cell_type": "code",
   "execution_count": 62,
   "id": "b4770869",
   "metadata": {},
   "outputs": [
    {
     "data": {
      "text/html": [
       "<div>\n",
       "<style scoped>\n",
       "    .dataframe tbody tr th:only-of-type {\n",
       "        vertical-align: middle;\n",
       "    }\n",
       "\n",
       "    .dataframe tbody tr th {\n",
       "        vertical-align: top;\n",
       "    }\n",
       "\n",
       "    .dataframe thead th {\n",
       "        text-align: right;\n",
       "    }\n",
       "</style>\n",
       "<table border=\"1\" class=\"dataframe\">\n",
       "  <thead>\n",
       "    <tr style=\"text-align: right;\">\n",
       "      <th></th>\n",
       "      <th>review</th>\n",
       "      <th>sentiment</th>\n",
       "    </tr>\n",
       "  </thead>\n",
       "  <tbody>\n",
       "    <tr>\n",
       "      <th>0</th>\n",
       "      <td>Es una de las mejores playas públicas de Cancu...</td>\n",
       "      <td>5</td>\n",
       "    </tr>\n",
       "    <tr>\n",
       "      <th>1</th>\n",
       "      <td>No hay manera de describir las playas del cari...</td>\n",
       "      <td>5</td>\n",
       "    </tr>\n",
       "    <tr>\n",
       "      <th>2</th>\n",
       "      <td>Atención muy buena, el personal es muy amable,...</td>\n",
       "      <td>5</td>\n",
       "    </tr>\n",
       "    <tr>\n",
       "      <th>3</th>\n",
       "      <td>Hermosa playa ,.pero para disfrutarla aún mas ...</td>\n",
       "      <td>3</td>\n",
       "    </tr>\n",
       "    <tr>\n",
       "      <th>4</th>\n",
       "      <td>Maravillosa y Sensacional playa,  mar tranquil...</td>\n",
       "      <td>5</td>\n",
       "    </tr>\n",
       "  </tbody>\n",
       "</table>\n",
       "</div>"
      ],
      "text/plain": [
       "                                              review  sentiment\n",
       "0  Es una de las mejores playas públicas de Cancu...          5\n",
       "1  No hay manera de describir las playas del cari...          5\n",
       "2  Atención muy buena, el personal es muy amable,...          5\n",
       "3  Hermosa playa ,.pero para disfrutarla aún mas ...          3\n",
       "4  Maravillosa y Sensacional playa,  mar tranquil...          5"
      ]
     },
     "execution_count": 62,
     "metadata": {},
     "output_type": "execute_result"
    }
   ],
   "source": [
    "# Data Frame with a review and sentiment column\n",
    "spanish.head()"
   ]
  },
  {
   "cell_type": "code",
   "execution_count": 63,
   "id": "c1bbcddd",
   "metadata": {},
   "outputs": [
    {
     "data": {
      "text/html": [
       "<div>\n",
       "<style scoped>\n",
       "    .dataframe tbody tr th:only-of-type {\n",
       "        vertical-align: middle;\n",
       "    }\n",
       "\n",
       "    .dataframe tbody tr th {\n",
       "        vertical-align: top;\n",
       "    }\n",
       "\n",
       "    .dataframe thead th {\n",
       "        text-align: right;\n",
       "    }\n",
       "</style>\n",
       "<table border=\"1\" class=\"dataframe\">\n",
       "  <thead>\n",
       "    <tr style=\"text-align: right;\">\n",
       "      <th></th>\n",
       "      <th>sentiment</th>\n",
       "    </tr>\n",
       "  </thead>\n",
       "  <tbody>\n",
       "    <tr>\n",
       "      <th>count</th>\n",
       "      <td>50.000000</td>\n",
       "    </tr>\n",
       "    <tr>\n",
       "      <th>mean</th>\n",
       "      <td>4.000000</td>\n",
       "    </tr>\n",
       "    <tr>\n",
       "      <th>std</th>\n",
       "      <td>1.228904</td>\n",
       "    </tr>\n",
       "    <tr>\n",
       "      <th>min</th>\n",
       "      <td>1.000000</td>\n",
       "    </tr>\n",
       "    <tr>\n",
       "      <th>25%</th>\n",
       "      <td>3.250000</td>\n",
       "    </tr>\n",
       "    <tr>\n",
       "      <th>50%</th>\n",
       "      <td>4.000000</td>\n",
       "    </tr>\n",
       "    <tr>\n",
       "      <th>75%</th>\n",
       "      <td>5.000000</td>\n",
       "    </tr>\n",
       "    <tr>\n",
       "      <th>max</th>\n",
       "      <td>5.000000</td>\n",
       "    </tr>\n",
       "  </tbody>\n",
       "</table>\n",
       "</div>"
      ],
      "text/plain": [
       "       sentiment\n",
       "count  50.000000\n",
       "mean    4.000000\n",
       "std     1.228904\n",
       "min     1.000000\n",
       "25%     3.250000\n",
       "50%     4.000000\n",
       "75%     5.000000\n",
       "max     5.000000"
      ]
     },
     "execution_count": 63,
     "metadata": {},
     "output_type": "execute_result"
    }
   ],
   "source": [
    "# Summary \n",
    "spanish.describe()"
   ]
  },
  {
   "cell_type": "code",
   "execution_count": 64,
   "id": "287ec36f",
   "metadata": {},
   "outputs": [
    {
     "data": {
      "text/plain": [
       "5    23\n",
       "4    14\n",
       "3     7\n",
       "1     4\n",
       "2     2\n",
       "Name: sentiment, dtype: int64"
      ]
     },
     "execution_count": 64,
     "metadata": {},
     "output_type": "execute_result"
    }
   ],
   "source": [
    "# Counting the values\n",
    "pd.value_counts(spanish[\"sentiment\"])"
   ]
  },
  {
   "cell_type": "code",
   "execution_count": 65,
   "id": "a69e631d",
   "metadata": {},
   "outputs": [],
   "source": [
    "# Ploting a histogram\n",
    "yspanish = spanish[\"sentiment\"].values"
   ]
  },
  {
   "cell_type": "code",
   "execution_count": 66,
   "id": "51074c9a",
   "metadata": {},
   "outputs": [
    {
     "data": {
      "image/png": "[encoded data removed]",
      "text/plain": [
       "<Figure size 432x288 with 1 Axes>"
      ]
     },
     "metadata": {
      "needs_background": "light"
     },
     "output_type": "display_data"
    }
   ],
   "source": [
    "plt.hist(yspanish, color = '#126506')\n",
    "plt.title('Sentiment Analysis Spanish language reviews')\n",
    "plt.xlabel('BERT grade')\n",
    "plt.ylabel('Number of reviews')\n",
    "plt.savefig('spanish.png', dpi=100)\n",
    "plt.show()"
   ]
  },
  {
   "cell_type": "markdown",
   "id": "71aa6175",
   "metadata": {},
   "source": [
    "2. English Reviews"
   ]
  },
  {
   "cell_type": "code",
   "execution_count": 67,
   "id": "d0ebad21",
   "metadata": {},
   "outputs": [],
   "source": [
    "#df of english reviews\n",
    "english = pd.read_csv(\"dfenglish.csv\")"
   ]
  },
  {
   "cell_type": "code",
   "execution_count": 68,
   "id": "e504a714",
   "metadata": {},
   "outputs": [],
   "source": [
    "#Adding a column to the data frame scoring the review (1-5) called \"sentiment\"\n",
    "english['sentiment'] = english['review'].apply(lambda x: sentiment_score(x[:512]))"
   ]
  },
  {
   "cell_type": "code",
   "execution_count": 69,
   "id": "1055b4df",
   "metadata": {},
   "outputs": [
    {
     "data": {
      "text/html": [
       "<div>\n",
       "<style scoped>\n",
       "    .dataframe tbody tr th:only-of-type {\n",
       "        vertical-align: middle;\n",
       "    }\n",
       "\n",
       "    .dataframe tbody tr th {\n",
       "        vertical-align: top;\n",
       "    }\n",
       "\n",
       "    .dataframe thead th {\n",
       "        text-align: right;\n",
       "    }\n",
       "</style>\n",
       "<table border=\"1\" class=\"dataframe\">\n",
       "  <thead>\n",
       "    <tr style=\"text-align: right;\">\n",
       "      <th></th>\n",
       "      <th>review</th>\n",
       "      <th>sentiment</th>\n",
       "    </tr>\n",
       "  </thead>\n",
       "  <tbody>\n",
       "    <tr>\n",
       "      <th>0</th>\n",
       "      <td>The touristy center of the region, with presti...</td>\n",
       "      <td>5</td>\n",
       "    </tr>\n",
       "    <tr>\n",
       "      <th>1</th>\n",
       "      <td>You can go with family, couple or friends and ...</td>\n",
       "      <td>4</td>\n",
       "    </tr>\n",
       "    <tr>\n",
       "      <th>2</th>\n",
       "      <td>Playa Caracol is at the northern tip of Cancun...</td>\n",
       "      <td>4</td>\n",
       "    </tr>\n",
       "    <tr>\n",
       "      <th>3</th>\n",
       "      <td>Cancun beaches like they said, its beautiful, ...</td>\n",
       "      <td>4</td>\n",
       "    </tr>\n",
       "    <tr>\n",
       "      <th>4</th>\n",
       "      <td>Totally average beach. Swamped with hawkers se...</td>\n",
       "      <td>1</td>\n",
       "    </tr>\n",
       "  </tbody>\n",
       "</table>\n",
       "</div>"
      ],
      "text/plain": [
       "                                              review  sentiment\n",
       "0  The touristy center of the region, with presti...          5\n",
       "1  You can go with family, couple or friends and ...          4\n",
       "2  Playa Caracol is at the northern tip of Cancun...          4\n",
       "3  Cancun beaches like they said, its beautiful, ...          4\n",
       "4  Totally average beach. Swamped with hawkers se...          1"
      ]
     },
     "execution_count": 69,
     "metadata": {},
     "output_type": "execute_result"
    }
   ],
   "source": [
    "# Data Frame with a review and sentiment column\n",
    "english.head()"
   ]
  },
  {
   "cell_type": "code",
   "execution_count": 70,
   "id": "bf1a6557",
   "metadata": {},
   "outputs": [
    {
     "data": {
      "text/html": [
       "<div>\n",
       "<style scoped>\n",
       "    .dataframe tbody tr th:only-of-type {\n",
       "        vertical-align: middle;\n",
       "    }\n",
       "\n",
       "    .dataframe tbody tr th {\n",
       "        vertical-align: top;\n",
       "    }\n",
       "\n",
       "    .dataframe thead th {\n",
       "        text-align: right;\n",
       "    }\n",
       "</style>\n",
       "<table border=\"1\" class=\"dataframe\">\n",
       "  <thead>\n",
       "    <tr style=\"text-align: right;\">\n",
       "      <th></th>\n",
       "      <th>sentiment</th>\n",
       "    </tr>\n",
       "  </thead>\n",
       "  <tbody>\n",
       "    <tr>\n",
       "      <th>count</th>\n",
       "      <td>53.000000</td>\n",
       "    </tr>\n",
       "    <tr>\n",
       "      <th>mean</th>\n",
       "      <td>3.396226</td>\n",
       "    </tr>\n",
       "    <tr>\n",
       "      <th>std</th>\n",
       "      <td>1.472042</td>\n",
       "    </tr>\n",
       "    <tr>\n",
       "      <th>min</th>\n",
       "      <td>1.000000</td>\n",
       "    </tr>\n",
       "    <tr>\n",
       "      <th>25%</th>\n",
       "      <td>2.000000</td>\n",
       "    </tr>\n",
       "    <tr>\n",
       "      <th>50%</th>\n",
       "      <td>4.000000</td>\n",
       "    </tr>\n",
       "    <tr>\n",
       "      <th>75%</th>\n",
       "      <td>5.000000</td>\n",
       "    </tr>\n",
       "    <tr>\n",
       "      <th>max</th>\n",
       "      <td>5.000000</td>\n",
       "    </tr>\n",
       "  </tbody>\n",
       "</table>\n",
       "</div>"
      ],
      "text/plain": [
       "       sentiment\n",
       "count  53.000000\n",
       "mean    3.396226\n",
       "std     1.472042\n",
       "min     1.000000\n",
       "25%     2.000000\n",
       "50%     4.000000\n",
       "75%     5.000000\n",
       "max     5.000000"
      ]
     },
     "execution_count": 70,
     "metadata": {},
     "output_type": "execute_result"
    }
   ],
   "source": [
    "# Summary \n",
    "english.describe()"
   ]
  },
  {
   "cell_type": "code",
   "execution_count": 71,
   "id": "cbe7ffb3",
   "metadata": {},
   "outputs": [
    {
     "data": {
      "text/plain": [
       "4    18\n",
       "5    14\n",
       "1    11\n",
       "3     7\n",
       "2     3\n",
       "Name: sentiment, dtype: int64"
      ]
     },
     "execution_count": 71,
     "metadata": {},
     "output_type": "execute_result"
    }
   ],
   "source": [
    "# Counting the values\n",
    "pd.value_counts(english[\"sentiment\"])"
   ]
  },
  {
   "cell_type": "code",
   "execution_count": 72,
   "id": "975ab162",
   "metadata": {},
   "outputs": [],
   "source": [
    "# Ploting a histogram\n",
    "yenglish = english[\"sentiment\"].values"
   ]
  },
  {
   "cell_type": "code",
   "execution_count": 74,
   "id": "c0b8c10c",
   "metadata": {},
   "outputs": [
    {
     "data": {
      "image/png": "[encoded data removed]",
      "text/plain": [
       "<Figure size 432x288 with 1 Axes>"
      ]
     },
     "metadata": {
      "needs_background": "light"
     },
     "output_type": "display_data"
    }
   ],
   "source": [
    "plt.hist(yenglish, color = '#826506')\n",
    "plt.title('Sentiment Analysis English language reviews')\n",
    "plt.xlabel('BERT grade')\n",
    "plt.ylabel('Number of reviews')\n",
    "plt.savefig('english.png', dpi=100)\n",
    "plt.show()"
   ]
  },
  {
   "cell_type": "markdown",
   "id": "3552f617",
   "metadata": {},
   "source": [
    "Comparing the results between english and spanish spoken visitors---> local and latin people have a better perception and understand more the context of the public beaches in Cancun, they gave them an overall of 4.0. In the other hand american and non spanish spoken have a mean of 3.39.   "
   ]
  },
  {
   "cell_type": "markdown",
   "id": "7a1b0ebc",
   "metadata": {},
   "source": [
    "# Concat english and spanish reviews"
   ]
  },
  {
   "cell_type": "code",
   "execution_count": 75,
   "id": "8faffff0",
   "metadata": {},
   "outputs": [],
   "source": [
    "dfglobal = pd.concat([spanish,english], sort=False)"
   ]
  },
  {
   "cell_type": "code",
   "execution_count": 76,
   "id": "7e3b987d",
   "metadata": {},
   "outputs": [
    {
     "data": {
      "text/html": [
       "<div>\n",
       "<style scoped>\n",
       "    .dataframe tbody tr th:only-of-type {\n",
       "        vertical-align: middle;\n",
       "    }\n",
       "\n",
       "    .dataframe tbody tr th {\n",
       "        vertical-align: top;\n",
       "    }\n",
       "\n",
       "    .dataframe thead th {\n",
       "        text-align: right;\n",
       "    }\n",
       "</style>\n",
       "<table border=\"1\" class=\"dataframe\">\n",
       "  <thead>\n",
       "    <tr style=\"text-align: right;\">\n",
       "      <th></th>\n",
       "      <th>review</th>\n",
       "      <th>sentiment</th>\n",
       "    </tr>\n",
       "  </thead>\n",
       "  <tbody>\n",
       "    <tr>\n",
       "      <th>0</th>\n",
       "      <td>Es una de las mejores playas públicas de Cancu...</td>\n",
       "      <td>5</td>\n",
       "    </tr>\n",
       "    <tr>\n",
       "      <th>1</th>\n",
       "      <td>No hay manera de describir las playas del cari...</td>\n",
       "      <td>5</td>\n",
       "    </tr>\n",
       "    <tr>\n",
       "      <th>2</th>\n",
       "      <td>Atención muy buena, el personal es muy amable,...</td>\n",
       "      <td>5</td>\n",
       "    </tr>\n",
       "    <tr>\n",
       "      <th>3</th>\n",
       "      <td>Hermosa playa ,.pero para disfrutarla aún mas ...</td>\n",
       "      <td>3</td>\n",
       "    </tr>\n",
       "    <tr>\n",
       "      <th>4</th>\n",
       "      <td>Maravillosa y Sensacional playa,  mar tranquil...</td>\n",
       "      <td>5</td>\n",
       "    </tr>\n",
       "    <tr>\n",
       "      <th>...</th>\n",
       "      <td>...</td>\n",
       "      <td>...</td>\n",
       "    </tr>\n",
       "    <tr>\n",
       "      <th>48</th>\n",
       "      <td>This place is paradise! To get here you need t...</td>\n",
       "      <td>5</td>\n",
       "    </tr>\n",
       "    <tr>\n",
       "      <th>49</th>\n",
       "      <td>Our family (including kids 13 and 15) went to ...</td>\n",
       "      <td>4</td>\n",
       "    </tr>\n",
       "    <tr>\n",
       "      <th>50</th>\n",
       "      <td>We drove to Xcacel From Puerto Aventuras and w...</td>\n",
       "      <td>1</td>\n",
       "    </tr>\n",
       "    <tr>\n",
       "      <th>51</th>\n",
       "      <td>So my hubby and I love this beach. We’ve been ...</td>\n",
       "      <td>4</td>\n",
       "    </tr>\n",
       "    <tr>\n",
       "      <th>52</th>\n",
       "      <td>I went to Xcacel Beach and Cenote last year an...</td>\n",
       "      <td>1</td>\n",
       "    </tr>\n",
       "  </tbody>\n",
       "</table>\n",
       "<p>103 rows × 2 columns</p>\n",
       "</div>"
      ],
      "text/plain": [
       "                                               review  sentiment\n",
       "0   Es una de las mejores playas públicas de Cancu...          5\n",
       "1   No hay manera de describir las playas del cari...          5\n",
       "2   Atención muy buena, el personal es muy amable,...          5\n",
       "3   Hermosa playa ,.pero para disfrutarla aún mas ...          3\n",
       "4   Maravillosa y Sensacional playa,  mar tranquil...          5\n",
       "..                                                ...        ...\n",
       "48  This place is paradise! To get here you need t...          5\n",
       "49  Our family (including kids 13 and 15) went to ...          4\n",
       "50  We drove to Xcacel From Puerto Aventuras and w...          1\n",
       "51  So my hubby and I love this beach. We’ve been ...          4\n",
       "52  I went to Xcacel Beach and Cenote last year an...          1\n",
       "\n",
       "[103 rows x 2 columns]"
      ]
     },
     "execution_count": 76,
     "metadata": {},
     "output_type": "execute_result"
    }
   ],
   "source": [
    "dfglobal"
   ]
  },
  {
   "cell_type": "code",
   "execution_count": 78,
   "id": "3a69a456",
   "metadata": {},
   "outputs": [],
   "source": [
    "#Adding a column to the data frame scoring the review (1-5) called \"sentiment\"\n",
    "dfglobal['sentiment'] = dfglobal['review'].apply(lambda x: sentiment_score(x[:512]))"
   ]
  },
  {
   "cell_type": "code",
   "execution_count": 79,
   "id": "c67242a0",
   "metadata": {},
   "outputs": [
    {
     "data": {
      "text/html": [
       "<div>\n",
       "<style scoped>\n",
       "    .dataframe tbody tr th:only-of-type {\n",
       "        vertical-align: middle;\n",
       "    }\n",
       "\n",
       "    .dataframe tbody tr th {\n",
       "        vertical-align: top;\n",
       "    }\n",
       "\n",
       "    .dataframe thead th {\n",
       "        text-align: right;\n",
       "    }\n",
       "</style>\n",
       "<table border=\"1\" class=\"dataframe\">\n",
       "  <thead>\n",
       "    <tr style=\"text-align: right;\">\n",
       "      <th></th>\n",
       "      <th>sentiment</th>\n",
       "    </tr>\n",
       "  </thead>\n",
       "  <tbody>\n",
       "    <tr>\n",
       "      <th>count</th>\n",
       "      <td>103.000000</td>\n",
       "    </tr>\n",
       "    <tr>\n",
       "      <th>mean</th>\n",
       "      <td>3.689320</td>\n",
       "    </tr>\n",
       "    <tr>\n",
       "      <th>std</th>\n",
       "      <td>1.386413</td>\n",
       "    </tr>\n",
       "    <tr>\n",
       "      <th>min</th>\n",
       "      <td>1.000000</td>\n",
       "    </tr>\n",
       "    <tr>\n",
       "      <th>25%</th>\n",
       "      <td>3.000000</td>\n",
       "    </tr>\n",
       "    <tr>\n",
       "      <th>50%</th>\n",
       "      <td>4.000000</td>\n",
       "    </tr>\n",
       "    <tr>\n",
       "      <th>75%</th>\n",
       "      <td>5.000000</td>\n",
       "    </tr>\n",
       "    <tr>\n",
       "      <th>max</th>\n",
       "      <td>5.000000</td>\n",
       "    </tr>\n",
       "  </tbody>\n",
       "</table>\n",
       "</div>"
      ],
      "text/plain": [
       "        sentiment\n",
       "count  103.000000\n",
       "mean     3.689320\n",
       "std      1.386413\n",
       "min      1.000000\n",
       "25%      3.000000\n",
       "50%      4.000000\n",
       "75%      5.000000\n",
       "max      5.000000"
      ]
     },
     "execution_count": 79,
     "metadata": {},
     "output_type": "execute_result"
    }
   ],
   "source": [
    "# Summary \n",
    "dfglobal.describe()"
   ]
  },
  {
   "cell_type": "code",
   "execution_count": 80,
   "id": "7e621b2e",
   "metadata": {},
   "outputs": [
    {
     "data": {
      "text/plain": [
       "5    37\n",
       "4    32\n",
       "1    15\n",
       "3    14\n",
       "2     5\n",
       "Name: sentiment, dtype: int64"
      ]
     },
     "execution_count": 80,
     "metadata": {},
     "output_type": "execute_result"
    }
   ],
   "source": [
    "# Counting the values\n",
    "pd.value_counts(dfglobal[\"sentiment\"])"
   ]
  },
  {
   "cell_type": "code",
   "execution_count": 81,
   "id": "87bae28e",
   "metadata": {},
   "outputs": [],
   "source": [
    "# Ploting a histogram\n",
    "ydfglobal = dfglobal[\"sentiment\"].values"
   ]
  },
  {
   "cell_type": "code",
   "execution_count": 82,
   "id": "5b89f104",
   "metadata": {},
   "outputs": [
    {
     "data": {
      "image/png": "[encoded data removed]",
      "text/plain": [
       "<Figure size 432x288 with 1 Axes>"
      ]
     },
     "metadata": {
      "needs_background": "light"
     },
     "output_type": "display_data"
    }
   ],
   "source": [
    "plt.hist(yenglish, color = '#526506')\n",
    "plt.title('Sentiment Analysis all language reviews')\n",
    "plt.xlabel('BERT grade')\n",
    "plt.ylabel('Number of reviews')\n",
    "plt.savefig('all.png', dpi=100)\n",
    "plt.show()"
   ]
  },
  {
   "cell_type": "code",
   "execution_count": null,
   "id": "d1b53687",
   "metadata": {},
   "outputs": [],
   "source": []
  }
 ],
 "metadata": {
  "kernelspec": {
   "display_name": "Python 3 (ipykernel)",
   "language": "python",
   "name": "python3"
  },
  "language_info": {
   "codemirror_mode": {
    "name": "ipython",
    "version": 3
   },
   "file_extension": ".py",
   "mimetype": "text/x-python",
   "name": "python",
   "nbconvert_exporter": "python",
   "pygments_lexer": "ipython3",
   "version": "3.8.8"
  }
 },
 "nbformat": 4,
 "nbformat_minor": 5
}

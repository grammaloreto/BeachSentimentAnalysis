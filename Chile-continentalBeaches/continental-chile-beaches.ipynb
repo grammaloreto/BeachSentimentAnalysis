{
 "cells": [
  {
   "cell_type": "markdown",
   "id": "ba5347ee",
   "metadata": {},
   "source": [
    "# Sentiment Analysis continental beaches of Chile"
   ]
  },
  {
   "cell_type": "markdown",
   "id": "ab1624e4",
   "metadata": {},
   "source": [
    "Installing Transformers and dependencies"
   ]
  },
  {
   "cell_type": "code",
   "execution_count": null,
   "id": "64126e3d",
   "metadata": {},
   "outputs": [],
   "source": [
    "!pip install transformers "
   ]
  },
  {
   "cell_type": "code",
   "execution_count": 2,
   "id": "ba3a2213",
   "metadata": {},
   "outputs": [],
   "source": [
    "from transformers import AutoTokenizer, AutoModelForSequenceClassification #Tokens\n",
    "import torch # PyTorch"
   ]
  },
  {
   "cell_type": "code",
   "execution_count": 3,
   "id": "44d269a2",
   "metadata": {},
   "outputs": [],
   "source": [
    "# For plots(histograms) and fix tables\n",
    "import pandas as pd\n",
    "import numpy as np\n",
    "import matplotlib.pyplot as plt\n",
    "import seaborn as sns\n",
    "%matplotlib inline"
   ]
  },
  {
   "cell_type": "markdown",
   "id": "23098755",
   "metadata": {},
   "source": [
    "Using a BERT Model of NLPtown. They train the model with reviews from 1-5 in different languages."
   ]
  },
  {
   "cell_type": "code",
   "execution_count": 4,
   "id": "dae46346",
   "metadata": {},
   "outputs": [],
   "source": [
    "tokenizer = AutoTokenizer.from_pretrained(\"nlptown/bert-base-multilingual-uncased-sentiment\")\n",
    "\n",
    "model = AutoModelForSequenceClassification.from_pretrained(\"nlptown/bert-base-multilingual-uncased-sentiment\")"
   ]
  },
  {
   "cell_type": "code",
   "execution_count": 5,
   "id": "0535f7f4",
   "metadata": {},
   "outputs": [],
   "source": [
    "tokens = tokenizer.encode('I hate this beach!', return_tensors='pt')"
   ]
  },
  {
   "cell_type": "code",
   "execution_count": 6,
   "id": "2aa0f435",
   "metadata": {},
   "outputs": [
    {
     "data": {
      "text/plain": [
       "tensor([[  101,   151, 39487, 10372, 14575,   106,   102]])"
      ]
     },
     "execution_count": 6,
     "metadata": {},
     "output_type": "execute_result"
    }
   ],
   "source": [
    "tokens"
   ]
  },
  {
   "cell_type": "code",
   "execution_count": 7,
   "id": "cd9c329a",
   "metadata": {},
   "outputs": [],
   "source": [
    "result = model(tokens)"
   ]
  },
  {
   "cell_type": "code",
   "execution_count": 8,
   "id": "85041d6f",
   "metadata": {},
   "outputs": [],
   "source": [
    "# Function that evaluates all reviews in data frames  \n",
    "def sentiment_score(review):\n",
    "    tokens = tokenizer.encode(review, return_tensors='pt')\n",
    "    result = model(tokens)\n",
    "    return int(torch.argmax(result.logits))+1"
   ]
  },
  {
   "cell_type": "markdown",
   "id": "06ebfdc1",
   "metadata": {},
   "source": [
    "## Analysis of 8 chilean beach reviews in english and spanish"
   ]
  },
  {
   "cell_type": "markdown",
   "id": "0f2cf639",
   "metadata": {},
   "source": [
    "1. Playa Reñaca"
   ]
  },
  {
   "cell_type": "code",
   "execution_count": 9,
   "id": "98978a32",
   "metadata": {},
   "outputs": [],
   "source": [
    "renaca = pd.read_csv(\"renaca.csv\")"
   ]
  },
  {
   "cell_type": "code",
   "execution_count": 10,
   "id": "019e1cb5",
   "metadata": {},
   "outputs": [
    {
     "data": {
      "text/html": [
       "<div>\n",
       "<style scoped>\n",
       "    .dataframe tbody tr th:only-of-type {\n",
       "        vertical-align: middle;\n",
       "    }\n",
       "\n",
       "    .dataframe tbody tr th {\n",
       "        vertical-align: top;\n",
       "    }\n",
       "\n",
       "    .dataframe thead th {\n",
       "        text-align: right;\n",
       "    }\n",
       "</style>\n",
       "<table border=\"1\" class=\"dataframe\">\n",
       "  <thead>\n",
       "    <tr style=\"text-align: right;\">\n",
       "      <th></th>\n",
       "      <th>review</th>\n",
       "    </tr>\n",
       "  </thead>\n",
       "  <tbody>\n",
       "    <tr>\n",
       "      <th>0</th>\n",
       "      <td>Primera vez en la zona. Viña me gustó, Reñaca ...</td>\n",
       "    </tr>\n",
       "    <tr>\n",
       "      <th>1</th>\n",
       "      <td>Reñaca está ubicada al norte de la comuna de v...</td>\n",
       "    </tr>\n",
       "    <tr>\n",
       "      <th>2</th>\n",
       "      <td>Hace años que venimos a esta playa, claramente...</td>\n",
       "    </tr>\n",
       "    <tr>\n",
       "      <th>3</th>\n",
       "      <td>La playa está generalmente limpia y es espacio...</td>\n",
       "    </tr>\n",
       "    <tr>\n",
       "      <th>4</th>\n",
       "      <td>Es amplia, limpia y linda. Sin dudas la mejor ...</td>\n",
       "    </tr>\n",
       "    <tr>\n",
       "      <th>5</th>\n",
       "      <td>Lindas playas , tienen cartel de prohibido bañ...</td>\n",
       "    </tr>\n",
       "    <tr>\n",
       "      <th>6</th>\n",
       "      <td>Linda playa para caminar, para tomar sol y div...</td>\n",
       "    </tr>\n",
       "    <tr>\n",
       "      <th>7</th>\n",
       "      <td>Bonita playa,para descansar, tranquilo en fami...</td>\n",
       "    </tr>\n",
       "    <tr>\n",
       "      <th>8</th>\n",
       "      <td>Creo que es la única buena playa de Viña, aunq...</td>\n",
       "    </tr>\n",
       "    <tr>\n",
       "      <th>9</th>\n",
       "      <td>Playas muy tranquilas y limpias, con seguridad...</td>\n",
       "    </tr>\n",
       "    <tr>\n",
       "      <th>10</th>\n",
       "      <td>The biggest and most popular beach in Vina del...</td>\n",
       "    </tr>\n",
       "    <tr>\n",
       "      <th>11</th>\n",
       "      <td>Playa Renaca is a scenic place with rocks and ...</td>\n",
       "    </tr>\n",
       "    <tr>\n",
       "      <th>12</th>\n",
       "      <td>We went there for our anniversary and it was a...</td>\n",
       "    </tr>\n",
       "    <tr>\n",
       "      <th>13</th>\n",
       "      <td>We wondered along the beach and very much enjo...</td>\n",
       "    </tr>\n",
       "    <tr>\n",
       "      <th>14</th>\n",
       "      <td>My wife, 11 year old daughter and I ventured o...</td>\n",
       "    </tr>\n",
       "    <tr>\n",
       "      <th>15</th>\n",
       "      <td>This was a big surprise when we took the bus f...</td>\n",
       "    </tr>\n",
       "    <tr>\n",
       "      <th>16</th>\n",
       "      <td>This lovel beach has wonderful views from its ...</td>\n",
       "    </tr>\n",
       "    <tr>\n",
       "      <th>17</th>\n",
       "      <td>The renaca beach is very large with huge waves...</td>\n",
       "    </tr>\n",
       "    <tr>\n",
       "      <th>18</th>\n",
       "      <td>During the summer months of Chile, this beach ...</td>\n",
       "    </tr>\n",
       "    <tr>\n",
       "      <th>19</th>\n",
       "      <td>You couldn't find a better beach, very spaciou...</td>\n",
       "    </tr>\n",
       "    <tr>\n",
       "      <th>20</th>\n",
       "      <td>Not much to do, but walking along the beach an...</td>\n",
       "    </tr>\n",
       "  </tbody>\n",
       "</table>\n",
       "</div>"
      ],
      "text/plain": [
       "                                               review\n",
       "0   Primera vez en la zona. Viña me gustó, Reñaca ...\n",
       "1   Reñaca está ubicada al norte de la comuna de v...\n",
       "2   Hace años que venimos a esta playa, claramente...\n",
       "3   La playa está generalmente limpia y es espacio...\n",
       "4   Es amplia, limpia y linda. Sin dudas la mejor ...\n",
       "5   Lindas playas , tienen cartel de prohibido bañ...\n",
       "6   Linda playa para caminar, para tomar sol y div...\n",
       "7   Bonita playa,para descansar, tranquilo en fami...\n",
       "8   Creo que es la única buena playa de Viña, aunq...\n",
       "9   Playas muy tranquilas y limpias, con seguridad...\n",
       "10  The biggest and most popular beach in Vina del...\n",
       "11  Playa Renaca is a scenic place with rocks and ...\n",
       "12  We went there for our anniversary and it was a...\n",
       "13  We wondered along the beach and very much enjo...\n",
       "14  My wife, 11 year old daughter and I ventured o...\n",
       "15  This was a big surprise when we took the bus f...\n",
       "16  This lovel beach has wonderful views from its ...\n",
       "17  The renaca beach is very large with huge waves...\n",
       "18  During the summer months of Chile, this beach ...\n",
       "19  You couldn't find a better beach, very spaciou...\n",
       "20  Not much to do, but walking along the beach an..."
      ]
     },
     "execution_count": 10,
     "metadata": {},
     "output_type": "execute_result"
    }
   ],
   "source": [
    "#df\n",
    "renaca"
   ]
  },
  {
   "cell_type": "code",
   "execution_count": 11,
   "id": "7852b8f4",
   "metadata": {},
   "outputs": [],
   "source": [
    "#Adding a column to the data frame scoring the review (1-5) called \"sentiment\"\n",
    "renaca['sentiment'] = renaca['review'].apply(lambda x: sentiment_score(x[:512]))"
   ]
  },
  {
   "cell_type": "code",
   "execution_count": 12,
   "id": "38137df7",
   "metadata": {},
   "outputs": [
    {
     "data": {
      "text/html": [
       "<div>\n",
       "<style scoped>\n",
       "    .dataframe tbody tr th:only-of-type {\n",
       "        vertical-align: middle;\n",
       "    }\n",
       "\n",
       "    .dataframe tbody tr th {\n",
       "        vertical-align: top;\n",
       "    }\n",
       "\n",
       "    .dataframe thead th {\n",
       "        text-align: right;\n",
       "    }\n",
       "</style>\n",
       "<table border=\"1\" class=\"dataframe\">\n",
       "  <thead>\n",
       "    <tr style=\"text-align: right;\">\n",
       "      <th></th>\n",
       "      <th>review</th>\n",
       "      <th>sentiment</th>\n",
       "    </tr>\n",
       "  </thead>\n",
       "  <tbody>\n",
       "    <tr>\n",
       "      <th>0</th>\n",
       "      <td>Primera vez en la zona. Viña me gustó, Reñaca ...</td>\n",
       "      <td>3</td>\n",
       "    </tr>\n",
       "    <tr>\n",
       "      <th>1</th>\n",
       "      <td>Reñaca está ubicada al norte de la comuna de v...</td>\n",
       "      <td>4</td>\n",
       "    </tr>\n",
       "    <tr>\n",
       "      <th>2</th>\n",
       "      <td>Hace años que venimos a esta playa, claramente...</td>\n",
       "      <td>5</td>\n",
       "    </tr>\n",
       "    <tr>\n",
       "      <th>3</th>\n",
       "      <td>La playa está generalmente limpia y es espacio...</td>\n",
       "      <td>3</td>\n",
       "    </tr>\n",
       "    <tr>\n",
       "      <th>4</th>\n",
       "      <td>Es amplia, limpia y linda. Sin dudas la mejor ...</td>\n",
       "      <td>4</td>\n",
       "    </tr>\n",
       "    <tr>\n",
       "      <th>5</th>\n",
       "      <td>Lindas playas , tienen cartel de prohibido bañ...</td>\n",
       "      <td>1</td>\n",
       "    </tr>\n",
       "    <tr>\n",
       "      <th>6</th>\n",
       "      <td>Linda playa para caminar, para tomar sol y div...</td>\n",
       "      <td>4</td>\n",
       "    </tr>\n",
       "    <tr>\n",
       "      <th>7</th>\n",
       "      <td>Bonita playa,para descansar, tranquilo en fami...</td>\n",
       "      <td>4</td>\n",
       "    </tr>\n",
       "    <tr>\n",
       "      <th>8</th>\n",
       "      <td>Creo que es la única buena playa de Viña, aunq...</td>\n",
       "      <td>3</td>\n",
       "    </tr>\n",
       "    <tr>\n",
       "      <th>9</th>\n",
       "      <td>Playas muy tranquilas y limpias, con seguridad...</td>\n",
       "      <td>5</td>\n",
       "    </tr>\n",
       "    <tr>\n",
       "      <th>10</th>\n",
       "      <td>The biggest and most popular beach in Vina del...</td>\n",
       "      <td>5</td>\n",
       "    </tr>\n",
       "    <tr>\n",
       "      <th>11</th>\n",
       "      <td>Playa Renaca is a scenic place with rocks and ...</td>\n",
       "      <td>4</td>\n",
       "    </tr>\n",
       "    <tr>\n",
       "      <th>12</th>\n",
       "      <td>We went there for our anniversary and it was a...</td>\n",
       "      <td>5</td>\n",
       "    </tr>\n",
       "    <tr>\n",
       "      <th>13</th>\n",
       "      <td>We wondered along the beach and very much enjo...</td>\n",
       "      <td>5</td>\n",
       "    </tr>\n",
       "    <tr>\n",
       "      <th>14</th>\n",
       "      <td>My wife, 11 year old daughter and I ventured o...</td>\n",
       "      <td>3</td>\n",
       "    </tr>\n",
       "    <tr>\n",
       "      <th>15</th>\n",
       "      <td>This was a big surprise when we took the bus f...</td>\n",
       "      <td>4</td>\n",
       "    </tr>\n",
       "    <tr>\n",
       "      <th>16</th>\n",
       "      <td>This lovel beach has wonderful views from its ...</td>\n",
       "      <td>5</td>\n",
       "    </tr>\n",
       "    <tr>\n",
       "      <th>17</th>\n",
       "      <td>The renaca beach is very large with huge waves...</td>\n",
       "      <td>4</td>\n",
       "    </tr>\n",
       "    <tr>\n",
       "      <th>18</th>\n",
       "      <td>During the summer months of Chile, this beach ...</td>\n",
       "      <td>5</td>\n",
       "    </tr>\n",
       "    <tr>\n",
       "      <th>19</th>\n",
       "      <td>You couldn't find a better beach, very spaciou...</td>\n",
       "      <td>5</td>\n",
       "    </tr>\n",
       "    <tr>\n",
       "      <th>20</th>\n",
       "      <td>Not much to do, but walking along the beach an...</td>\n",
       "      <td>3</td>\n",
       "    </tr>\n",
       "  </tbody>\n",
       "</table>\n",
       "</div>"
      ],
      "text/plain": [
       "                                               review  sentiment\n",
       "0   Primera vez en la zona. Viña me gustó, Reñaca ...          3\n",
       "1   Reñaca está ubicada al norte de la comuna de v...          4\n",
       "2   Hace años que venimos a esta playa, claramente...          5\n",
       "3   La playa está generalmente limpia y es espacio...          3\n",
       "4   Es amplia, limpia y linda. Sin dudas la mejor ...          4\n",
       "5   Lindas playas , tienen cartel de prohibido bañ...          1\n",
       "6   Linda playa para caminar, para tomar sol y div...          4\n",
       "7   Bonita playa,para descansar, tranquilo en fami...          4\n",
       "8   Creo que es la única buena playa de Viña, aunq...          3\n",
       "9   Playas muy tranquilas y limpias, con seguridad...          5\n",
       "10  The biggest and most popular beach in Vina del...          5\n",
       "11  Playa Renaca is a scenic place with rocks and ...          4\n",
       "12  We went there for our anniversary and it was a...          5\n",
       "13  We wondered along the beach and very much enjo...          5\n",
       "14  My wife, 11 year old daughter and I ventured o...          3\n",
       "15  This was a big surprise when we took the bus f...          4\n",
       "16  This lovel beach has wonderful views from its ...          5\n",
       "17  The renaca beach is very large with huge waves...          4\n",
       "18  During the summer months of Chile, this beach ...          5\n",
       "19  You couldn't find a better beach, very spaciou...          5\n",
       "20  Not much to do, but walking along the beach an...          3"
      ]
     },
     "execution_count": 12,
     "metadata": {},
     "output_type": "execute_result"
    }
   ],
   "source": [
    "# Data Frame with a review and sentiment column\n",
    "renaca"
   ]
  },
  {
   "cell_type": "code",
   "execution_count": 13,
   "id": "252db950",
   "metadata": {},
   "outputs": [
    {
     "data": {
      "text/html": [
       "<div>\n",
       "<style scoped>\n",
       "    .dataframe tbody tr th:only-of-type {\n",
       "        vertical-align: middle;\n",
       "    }\n",
       "\n",
       "    .dataframe tbody tr th {\n",
       "        vertical-align: top;\n",
       "    }\n",
       "\n",
       "    .dataframe thead th {\n",
       "        text-align: right;\n",
       "    }\n",
       "</style>\n",
       "<table border=\"1\" class=\"dataframe\">\n",
       "  <thead>\n",
       "    <tr style=\"text-align: right;\">\n",
       "      <th></th>\n",
       "      <th>sentiment</th>\n",
       "    </tr>\n",
       "  </thead>\n",
       "  <tbody>\n",
       "    <tr>\n",
       "      <th>count</th>\n",
       "      <td>21.000000</td>\n",
       "    </tr>\n",
       "    <tr>\n",
       "      <th>mean</th>\n",
       "      <td>4.000000</td>\n",
       "    </tr>\n",
       "    <tr>\n",
       "      <th>std</th>\n",
       "      <td>1.048809</td>\n",
       "    </tr>\n",
       "    <tr>\n",
       "      <th>min</th>\n",
       "      <td>1.000000</td>\n",
       "    </tr>\n",
       "    <tr>\n",
       "      <th>25%</th>\n",
       "      <td>3.000000</td>\n",
       "    </tr>\n",
       "    <tr>\n",
       "      <th>50%</th>\n",
       "      <td>4.000000</td>\n",
       "    </tr>\n",
       "    <tr>\n",
       "      <th>75%</th>\n",
       "      <td>5.000000</td>\n",
       "    </tr>\n",
       "    <tr>\n",
       "      <th>max</th>\n",
       "      <td>5.000000</td>\n",
       "    </tr>\n",
       "  </tbody>\n",
       "</table>\n",
       "</div>"
      ],
      "text/plain": [
       "       sentiment\n",
       "count  21.000000\n",
       "mean    4.000000\n",
       "std     1.048809\n",
       "min     1.000000\n",
       "25%     3.000000\n",
       "50%     4.000000\n",
       "75%     5.000000\n",
       "max     5.000000"
      ]
     },
     "execution_count": 13,
     "metadata": {},
     "output_type": "execute_result"
    }
   ],
   "source": [
    "# Summary \n",
    "renaca.describe()"
   ]
  },
  {
   "cell_type": "code",
   "execution_count": 14,
   "id": "449985e5",
   "metadata": {},
   "outputs": [
    {
     "data": {
      "text/plain": [
       "5    8\n",
       "4    7\n",
       "3    5\n",
       "1    1\n",
       "Name: sentiment, dtype: int64"
      ]
     },
     "execution_count": 14,
     "metadata": {},
     "output_type": "execute_result"
    }
   ],
   "source": [
    "# Counting the values\n",
    "pd.value_counts(renaca[\"sentiment\"])"
   ]
  },
  {
   "cell_type": "code",
   "execution_count": 15,
   "id": "3cfb5ef3",
   "metadata": {},
   "outputs": [],
   "source": [
    "# Ploting a histogram\n",
    "yrenaca = renaca[\"sentiment\"].values"
   ]
  },
  {
   "cell_type": "code",
   "execution_count": 17,
   "id": "67c4d058",
   "metadata": {},
   "outputs": [
    {
     "data": {
      "image/png": "[encoded data removed]",
      "text/plain": [
       "<Figure size 432x288 with 1 Axes>"
      ]
     },
     "metadata": {
      "needs_background": "light"
     },
     "output_type": "display_data"
    }
   ],
   "source": [
    "plt.hist(yrenaca, color = '#154656')\n",
    "plt.title('Sentiment Analysis Playa Reñaca')\n",
    "plt.xlabel('BERT sentiment grade')\n",
    "plt.ylabel('Number of reviews')\n",
    "plt.savefig('renaca.png', dpi=100)\n",
    "plt.show()"
   ]
  },
  {
   "cell_type": "markdown",
   "id": "a3e493c7",
   "metadata": {},
   "source": [
    "2. Playa Cavancha"
   ]
  },
  {
   "cell_type": "code",
   "execution_count": null,
   "id": "0595dc93",
   "metadata": {},
   "outputs": [],
   "source": [
    "cavancha = pd.read_csv(\"cavancha.csv\")\n",
    "cavancha"
   ]
  },
  {
   "cell_type": "code",
   "execution_count": 19,
   "id": "04a02d70",
   "metadata": {},
   "outputs": [],
   "source": [
    "#Adding a column to the data frame scoring the review (1-5) called \"sentiment\"\n",
    "cavancha['sentiment'] = cavancha['review'].apply(lambda x: sentiment_score(x[:512]))"
   ]
  },
  {
   "cell_type": "code",
   "execution_count": 20,
   "id": "02b93913",
   "metadata": {},
   "outputs": [
    {
     "data": {
      "text/html": [
       "<div>\n",
       "<style scoped>\n",
       "    .dataframe tbody tr th:only-of-type {\n",
       "        vertical-align: middle;\n",
       "    }\n",
       "\n",
       "    .dataframe tbody tr th {\n",
       "        vertical-align: top;\n",
       "    }\n",
       "\n",
       "    .dataframe thead th {\n",
       "        text-align: right;\n",
       "    }\n",
       "</style>\n",
       "<table border=\"1\" class=\"dataframe\">\n",
       "  <thead>\n",
       "    <tr style=\"text-align: right;\">\n",
       "      <th></th>\n",
       "      <th>review</th>\n",
       "      <th>sentiment</th>\n",
       "    </tr>\n",
       "  </thead>\n",
       "  <tbody>\n",
       "    <tr>\n",
       "      <th>0</th>\n",
       "      <td>Cavancha es la playa ubicada en pleno centro d...</td>\n",
       "      <td>4</td>\n",
       "    </tr>\n",
       "    <tr>\n",
       "      <th>1</th>\n",
       "      <td>Excelente lugar para la familia. Playa Cavanch...</td>\n",
       "      <td>5</td>\n",
       "    </tr>\n",
       "    <tr>\n",
       "      <th>2</th>\n",
       "      <td>Lleno de quitasoles que arriendan, no dejan es...</td>\n",
       "      <td>1</td>\n",
       "    </tr>\n",
       "    <tr>\n",
       "      <th>3</th>\n",
       "      <td>Es una playa amplia con muchas actividades par...</td>\n",
       "      <td>4</td>\n",
       "    </tr>\n",
       "    <tr>\n",
       "      <th>4</th>\n",
       "      <td>Excelente playa donde puedes caminar libre en ...</td>\n",
       "      <td>5</td>\n",
       "    </tr>\n",
       "    <tr>\n",
       "      <th>5</th>\n",
       "      <td>Muy buena playa,  bien cuidada, limpia y el pa...</td>\n",
       "      <td>5</td>\n",
       "    </tr>\n",
       "    <tr>\n",
       "      <th>6</th>\n",
       "      <td>Bajamos a la playa. bastante mas limpia que ha...</td>\n",
       "      <td>2</td>\n",
       "    </tr>\n",
       "    <tr>\n",
       "      <th>7</th>\n",
       "      <td>Puedes realizar largas caminatas, disfrutando ...</td>\n",
       "      <td>5</td>\n",
       "    </tr>\n",
       "    <tr>\n",
       "      <th>8</th>\n",
       "      <td>Sitio muy bonito para correr en la mañana y lu...</td>\n",
       "      <td>4</td>\n",
       "    </tr>\n",
       "    <tr>\n",
       "      <th>9</th>\n",
       "      <td>Playa totalmente llena, muchos niños jugando e...</td>\n",
       "      <td>5</td>\n",
       "    </tr>\n",
       "    <tr>\n",
       "      <th>10</th>\n",
       "      <td>Con vista a los botecitos de pescadores y la p...</td>\n",
       "      <td>4</td>\n",
       "    </tr>\n",
       "    <tr>\n",
       "      <th>11</th>\n",
       "      <td>Cavancha beach is the second one in the center...</td>\n",
       "      <td>4</td>\n",
       "    </tr>\n",
       "    <tr>\n",
       "      <th>12</th>\n",
       "      <td>Cavancha is really nice year round as the weat...</td>\n",
       "      <td>4</td>\n",
       "    </tr>\n",
       "    <tr>\n",
       "      <th>13</th>\n",
       "      <td>We went with my boyfriend with the bicicles fr...</td>\n",
       "      <td>4</td>\n",
       "    </tr>\n",
       "    <tr>\n",
       "      <th>14</th>\n",
       "      <td>Needs more cleaning and people more educated a...</td>\n",
       "      <td>3</td>\n",
       "    </tr>\n",
       "    <tr>\n",
       "      <th>15</th>\n",
       "      <td>Sunset in Iquique is very beautiful and romant...</td>\n",
       "      <td>5</td>\n",
       "    </tr>\n",
       "    <tr>\n",
       "      <th>16</th>\n",
       "      <td>This is the place to be on a hot day but get t...</td>\n",
       "      <td>4</td>\n",
       "    </tr>\n",
       "    <tr>\n",
       "      <th>17</th>\n",
       "      <td>The beach is always a wonderful destination, a...</td>\n",
       "      <td>4</td>\n",
       "    </tr>\n",
       "    <tr>\n",
       "      <th>18</th>\n",
       "      <td>Beach is crowded but perfect for families with...</td>\n",
       "      <td>4</td>\n",
       "    </tr>\n",
       "    <tr>\n",
       "      <th>19</th>\n",
       "      <td>Good beach to come with family and friends. It...</td>\n",
       "      <td>4</td>\n",
       "    </tr>\n",
       "    <tr>\n",
       "      <th>20</th>\n",
       "      <td>Although not quite on Rio de Janeiro standards...</td>\n",
       "      <td>4</td>\n",
       "    </tr>\n",
       "  </tbody>\n",
       "</table>\n",
       "</div>"
      ],
      "text/plain": [
       "                                               review  sentiment\n",
       "0   Cavancha es la playa ubicada en pleno centro d...          4\n",
       "1   Excelente lugar para la familia. Playa Cavanch...          5\n",
       "2   Lleno de quitasoles que arriendan, no dejan es...          1\n",
       "3   Es una playa amplia con muchas actividades par...          4\n",
       "4   Excelente playa donde puedes caminar libre en ...          5\n",
       "5   Muy buena playa,  bien cuidada, limpia y el pa...          5\n",
       "6   Bajamos a la playa. bastante mas limpia que ha...          2\n",
       "7   Puedes realizar largas caminatas, disfrutando ...          5\n",
       "8   Sitio muy bonito para correr en la mañana y lu...          4\n",
       "9   Playa totalmente llena, muchos niños jugando e...          5\n",
       "10  Con vista a los botecitos de pescadores y la p...          4\n",
       "11  Cavancha beach is the second one in the center...          4\n",
       "12  Cavancha is really nice year round as the weat...          4\n",
       "13  We went with my boyfriend with the bicicles fr...          4\n",
       "14  Needs more cleaning and people more educated a...          3\n",
       "15  Sunset in Iquique is very beautiful and romant...          5\n",
       "16  This is the place to be on a hot day but get t...          4\n",
       "17  The beach is always a wonderful destination, a...          4\n",
       "18  Beach is crowded but perfect for families with...          4\n",
       "19  Good beach to come with family and friends. It...          4\n",
       "20  Although not quite on Rio de Janeiro standards...          4"
      ]
     },
     "execution_count": 20,
     "metadata": {},
     "output_type": "execute_result"
    }
   ],
   "source": [
    "cavancha"
   ]
  },
  {
   "cell_type": "code",
   "execution_count": 21,
   "id": "a6660570",
   "metadata": {},
   "outputs": [
    {
     "data": {
      "text/html": [
       "<div>\n",
       "<style scoped>\n",
       "    .dataframe tbody tr th:only-of-type {\n",
       "        vertical-align: middle;\n",
       "    }\n",
       "\n",
       "    .dataframe tbody tr th {\n",
       "        vertical-align: top;\n",
       "    }\n",
       "\n",
       "    .dataframe thead th {\n",
       "        text-align: right;\n",
       "    }\n",
       "</style>\n",
       "<table border=\"1\" class=\"dataframe\">\n",
       "  <thead>\n",
       "    <tr style=\"text-align: right;\">\n",
       "      <th></th>\n",
       "      <th>sentiment</th>\n",
       "    </tr>\n",
       "  </thead>\n",
       "  <tbody>\n",
       "    <tr>\n",
       "      <th>count</th>\n",
       "      <td>21.0</td>\n",
       "    </tr>\n",
       "    <tr>\n",
       "      <th>mean</th>\n",
       "      <td>4.0</td>\n",
       "    </tr>\n",
       "    <tr>\n",
       "      <th>std</th>\n",
       "      <td>1.0</td>\n",
       "    </tr>\n",
       "    <tr>\n",
       "      <th>min</th>\n",
       "      <td>1.0</td>\n",
       "    </tr>\n",
       "    <tr>\n",
       "      <th>25%</th>\n",
       "      <td>4.0</td>\n",
       "    </tr>\n",
       "    <tr>\n",
       "      <th>50%</th>\n",
       "      <td>4.0</td>\n",
       "    </tr>\n",
       "    <tr>\n",
       "      <th>75%</th>\n",
       "      <td>5.0</td>\n",
       "    </tr>\n",
       "    <tr>\n",
       "      <th>max</th>\n",
       "      <td>5.0</td>\n",
       "    </tr>\n",
       "  </tbody>\n",
       "</table>\n",
       "</div>"
      ],
      "text/plain": [
       "       sentiment\n",
       "count       21.0\n",
       "mean         4.0\n",
       "std          1.0\n",
       "min          1.0\n",
       "25%          4.0\n",
       "50%          4.0\n",
       "75%          5.0\n",
       "max          5.0"
      ]
     },
     "execution_count": 21,
     "metadata": {},
     "output_type": "execute_result"
    }
   ],
   "source": [
    "# Summary \n",
    "cavancha.describe()"
   ]
  },
  {
   "cell_type": "code",
   "execution_count": 22,
   "id": "5a6ebedc",
   "metadata": {},
   "outputs": [
    {
     "data": {
      "text/plain": [
       "4    12\n",
       "5     6\n",
       "1     1\n",
       "2     1\n",
       "3     1\n",
       "Name: sentiment, dtype: int64"
      ]
     },
     "execution_count": 22,
     "metadata": {},
     "output_type": "execute_result"
    }
   ],
   "source": [
    "# Counting the values\n",
    "pd.value_counts(cavancha[\"sentiment\"])"
   ]
  },
  {
   "cell_type": "code",
   "execution_count": 23,
   "id": "0839e32b",
   "metadata": {},
   "outputs": [],
   "source": [
    "# Ploting a histogram\n",
    "ycavancha = cavancha[\"sentiment\"].values"
   ]
  },
  {
   "cell_type": "code",
   "execution_count": 24,
   "id": "3962ca7c",
   "metadata": {},
   "outputs": [
    {
     "data": {
      "image/png": "[encoded data removed]",
      "text/plain": [
       "<Figure size 432x288 with 1 Axes>"
      ]
     },
     "metadata": {
      "needs_background": "light"
     },
     "output_type": "display_data"
    }
   ],
   "source": [
    "plt.hist(ycavancha, color = '#354656')\n",
    "plt.title('Sentiment Analysis Playa Cavancha')\n",
    "plt.xlabel('BERT sentiment grade')\n",
    "plt.ylabel('Number of reviews')\n",
    "plt.savefig('cavancha.png', dpi=100)\n",
    "plt.show()"
   ]
  },
  {
   "cell_type": "markdown",
   "id": "38c33b2a",
   "metadata": {},
   "source": [
    "3. Playa Punta de Lobos"
   ]
  },
  {
   "cell_type": "code",
   "execution_count": null,
   "id": "5125cd40",
   "metadata": {},
   "outputs": [],
   "source": [
    "lobos = pd.read_csv(\"lobos.csv\")\n",
    "lobos"
   ]
  },
  {
   "cell_type": "code",
   "execution_count": 26,
   "id": "f8d6b434",
   "metadata": {},
   "outputs": [],
   "source": [
    "#Adding a column to the data frame scoring the review (1-5) called \"sentiment\"\n",
    "lobos['sentiment'] = lobos['review'].apply(lambda x: sentiment_score(x[:512]))"
   ]
  },
  {
   "cell_type": "code",
   "execution_count": 27,
   "id": "15153e44",
   "metadata": {},
   "outputs": [
    {
     "data": {
      "text/html": [
       "<div>\n",
       "<style scoped>\n",
       "    .dataframe tbody tr th:only-of-type {\n",
       "        vertical-align: middle;\n",
       "    }\n",
       "\n",
       "    .dataframe tbody tr th {\n",
       "        vertical-align: top;\n",
       "    }\n",
       "\n",
       "    .dataframe thead th {\n",
       "        text-align: right;\n",
       "    }\n",
       "</style>\n",
       "<table border=\"1\" class=\"dataframe\">\n",
       "  <thead>\n",
       "    <tr style=\"text-align: right;\">\n",
       "      <th></th>\n",
       "      <th>review</th>\n",
       "      <th>sentiment</th>\n",
       "    </tr>\n",
       "  </thead>\n",
       "  <tbody>\n",
       "    <tr>\n",
       "      <th>0</th>\n",
       "      <td>Es un lugar hermoso, que provoca volver cada d...</td>\n",
       "      <td>5</td>\n",
       "    </tr>\n",
       "    <tr>\n",
       "      <th>1</th>\n",
       "      <td>Lugar precioso con vistas al Pacífico de posta...</td>\n",
       "      <td>3</td>\n",
       "    </tr>\n",
       "    <tr>\n",
       "      <th>2</th>\n",
       "      <td>Cafes, foodtrucks, alojamientos, restaurantes,...</td>\n",
       "      <td>5</td>\n",
       "    </tr>\n",
       "    <tr>\n",
       "      <th>3</th>\n",
       "      <td>Un lugar maravilloso, donde puedes reconectar ...</td>\n",
       "      <td>5</td>\n",
       "    </tr>\n",
       "    <tr>\n",
       "      <th>4</th>\n",
       "      <td>Fuimos de paseo primero para conocer los acant...</td>\n",
       "      <td>5</td>\n",
       "    </tr>\n",
       "    <tr>\n",
       "      <th>5</th>\n",
       "      <td>En un lugar magico ,muy bien cuidado y la pano...</td>\n",
       "      <td>5</td>\n",
       "    </tr>\n",
       "    <tr>\n",
       "      <th>6</th>\n",
       "      <td>Lindo paisaje, hay la posiblidad de hacer herm...</td>\n",
       "      <td>5</td>\n",
       "    </tr>\n",
       "    <tr>\n",
       "      <th>7</th>\n",
       "      <td>hermoso lugar, magico ver a cada surfista , be...</td>\n",
       "      <td>5</td>\n",
       "    </tr>\n",
       "    <tr>\n",
       "      <th>8</th>\n",
       "      <td>Pararse en los miradores de Punta de Lobos a o...</td>\n",
       "      <td>5</td>\n",
       "    </tr>\n",
       "    <tr>\n",
       "      <th>9</th>\n",
       "      <td>Linda vista, lugar hermoso para hscer fotos y ...</td>\n",
       "      <td>5</td>\n",
       "    </tr>\n",
       "    <tr>\n",
       "      <th>10</th>\n",
       "      <td>Driving from Colchagua valley we drove through...</td>\n",
       "      <td>4</td>\n",
       "    </tr>\n",
       "    <tr>\n",
       "      <th>11</th>\n",
       "      <td>Great location to surf. Beautiful beach. Lot o...</td>\n",
       "      <td>4</td>\n",
       "    </tr>\n",
       "    <tr>\n",
       "      <th>12</th>\n",
       "      <td>a nature reserve with world-class waves, wonde...</td>\n",
       "      <td>5</td>\n",
       "    </tr>\n",
       "    <tr>\n",
       "      <th>13</th>\n",
       "      <td>Take a colectivo there and explore the area if...</td>\n",
       "      <td>5</td>\n",
       "    </tr>\n",
       "    <tr>\n",
       "      <th>14</th>\n",
       "      <td>Regardless if you surf or not, the view is ama...</td>\n",
       "      <td>4</td>\n",
       "    </tr>\n",
       "    <tr>\n",
       "      <th>15</th>\n",
       "      <td>Beautiful Beach to walk for endless miles and ...</td>\n",
       "      <td>5</td>\n",
       "    </tr>\n",
       "    <tr>\n",
       "      <th>16</th>\n",
       "      <td>Punta de lobos is a very special place. The sp...</td>\n",
       "      <td>5</td>\n",
       "    </tr>\n",
       "    <tr>\n",
       "      <th>17</th>\n",
       "      <td>this beach is a bit far away to pichilemu, a l...</td>\n",
       "      <td>3</td>\n",
       "    </tr>\n",
       "    <tr>\n",
       "      <th>18</th>\n",
       "      <td>Punta de Lobos (Sea Wolf's Point) is the name ...</td>\n",
       "      <td>5</td>\n",
       "    </tr>\n",
       "    <tr>\n",
       "      <th>19</th>\n",
       "      <td>A rapidly growing area. Beach very busy at hig...</td>\n",
       "      <td>4</td>\n",
       "    </tr>\n",
       "  </tbody>\n",
       "</table>\n",
       "</div>"
      ],
      "text/plain": [
       "                                               review  sentiment\n",
       "0   Es un lugar hermoso, que provoca volver cada d...          5\n",
       "1   Lugar precioso con vistas al Pacífico de posta...          3\n",
       "2   Cafes, foodtrucks, alojamientos, restaurantes,...          5\n",
       "3   Un lugar maravilloso, donde puedes reconectar ...          5\n",
       "4   Fuimos de paseo primero para conocer los acant...          5\n",
       "5   En un lugar magico ,muy bien cuidado y la pano...          5\n",
       "6   Lindo paisaje, hay la posiblidad de hacer herm...          5\n",
       "7   hermoso lugar, magico ver a cada surfista , be...          5\n",
       "8   Pararse en los miradores de Punta de Lobos a o...          5\n",
       "9   Linda vista, lugar hermoso para hscer fotos y ...          5\n",
       "10  Driving from Colchagua valley we drove through...          4\n",
       "11  Great location to surf. Beautiful beach. Lot o...          4\n",
       "12  a nature reserve with world-class waves, wonde...          5\n",
       "13  Take a colectivo there and explore the area if...          5\n",
       "14  Regardless if you surf or not, the view is ama...          4\n",
       "15  Beautiful Beach to walk for endless miles and ...          5\n",
       "16  Punta de lobos is a very special place. The sp...          5\n",
       "17  this beach is a bit far away to pichilemu, a l...          3\n",
       "18  Punta de Lobos (Sea Wolf's Point) is the name ...          5\n",
       "19  A rapidly growing area. Beach very busy at hig...          4"
      ]
     },
     "execution_count": 27,
     "metadata": {},
     "output_type": "execute_result"
    }
   ],
   "source": [
    "lobos"
   ]
  },
  {
   "cell_type": "code",
   "execution_count": 28,
   "id": "3e7c38d4",
   "metadata": {},
   "outputs": [
    {
     "data": {
      "text/html": [
       "<div>\n",
       "<style scoped>\n",
       "    .dataframe tbody tr th:only-of-type {\n",
       "        vertical-align: middle;\n",
       "    }\n",
       "\n",
       "    .dataframe tbody tr th {\n",
       "        vertical-align: top;\n",
       "    }\n",
       "\n",
       "    .dataframe thead th {\n",
       "        text-align: right;\n",
       "    }\n",
       "</style>\n",
       "<table border=\"1\" class=\"dataframe\">\n",
       "  <thead>\n",
       "    <tr style=\"text-align: right;\">\n",
       "      <th></th>\n",
       "      <th>sentiment</th>\n",
       "    </tr>\n",
       "  </thead>\n",
       "  <tbody>\n",
       "    <tr>\n",
       "      <th>count</th>\n",
       "      <td>20.000000</td>\n",
       "    </tr>\n",
       "    <tr>\n",
       "      <th>mean</th>\n",
       "      <td>4.600000</td>\n",
       "    </tr>\n",
       "    <tr>\n",
       "      <th>std</th>\n",
       "      <td>0.680557</td>\n",
       "    </tr>\n",
       "    <tr>\n",
       "      <th>min</th>\n",
       "      <td>3.000000</td>\n",
       "    </tr>\n",
       "    <tr>\n",
       "      <th>25%</th>\n",
       "      <td>4.000000</td>\n",
       "    </tr>\n",
       "    <tr>\n",
       "      <th>50%</th>\n",
       "      <td>5.000000</td>\n",
       "    </tr>\n",
       "    <tr>\n",
       "      <th>75%</th>\n",
       "      <td>5.000000</td>\n",
       "    </tr>\n",
       "    <tr>\n",
       "      <th>max</th>\n",
       "      <td>5.000000</td>\n",
       "    </tr>\n",
       "  </tbody>\n",
       "</table>\n",
       "</div>"
      ],
      "text/plain": [
       "       sentiment\n",
       "count  20.000000\n",
       "mean    4.600000\n",
       "std     0.680557\n",
       "min     3.000000\n",
       "25%     4.000000\n",
       "50%     5.000000\n",
       "75%     5.000000\n",
       "max     5.000000"
      ]
     },
     "execution_count": 28,
     "metadata": {},
     "output_type": "execute_result"
    }
   ],
   "source": [
    "# Summary \n",
    "lobos.describe()"
   ]
  },
  {
   "cell_type": "code",
   "execution_count": 29,
   "id": "03ef0d94",
   "metadata": {},
   "outputs": [
    {
     "data": {
      "text/plain": [
       "5    14\n",
       "4     4\n",
       "3     2\n",
       "Name: sentiment, dtype: int64"
      ]
     },
     "execution_count": 29,
     "metadata": {},
     "output_type": "execute_result"
    }
   ],
   "source": [
    "# Counting the values\n",
    "pd.value_counts(lobos[\"sentiment\"])"
   ]
  },
  {
   "cell_type": "code",
   "execution_count": 30,
   "id": "70e039bb",
   "metadata": {},
   "outputs": [],
   "source": [
    "# Ploting a histogram\n",
    "ylobos = lobos[\"sentiment\"].values"
   ]
  },
  {
   "cell_type": "code",
   "execution_count": 31,
   "id": "353f7c26",
   "metadata": {},
   "outputs": [
    {
     "data": {
      "image/png": "[encoded data removed]",
      "text/plain": [
       "<Figure size 432x288 with 1 Axes>"
      ]
     },
     "metadata": {
      "needs_background": "light"
     },
     "output_type": "display_data"
    }
   ],
   "source": [
    "plt.hist(ylobos, color = '#554656')\n",
    "plt.title('Sentiment Analysis Playa Punta de Lobos')\n",
    "plt.xlabel('BERT sentiment grade')\n",
    "plt.ylabel('Number of reviews')\n",
    "plt.savefig('lobos.png', dpi=100)\n",
    "plt.show()"
   ]
  },
  {
   "cell_type": "markdown",
   "id": "d2958313",
   "metadata": {},
   "source": [
    "4. Playa Zapallar"
   ]
  },
  {
   "cell_type": "code",
   "execution_count": null,
   "id": "fd46768a",
   "metadata": {},
   "outputs": [],
   "source": [
    "#df\n",
    "zapallar = pd.read_csv(\"zapallar.csv\")\n",
    "zapallar"
   ]
  },
  {
   "cell_type": "code",
   "execution_count": 33,
   "id": "9b6fc6a8",
   "metadata": {},
   "outputs": [],
   "source": [
    "#Adding a column to the data frame scoring the review (1-5) called \"sentiment\"\n",
    "zapallar['sentiment'] = zapallar['review'].apply(lambda x: sentiment_score(x[:512]))"
   ]
  },
  {
   "cell_type": "code",
   "execution_count": 34,
   "id": "e56e5e12",
   "metadata": {},
   "outputs": [
    {
     "data": {
      "text/html": [
       "<div>\n",
       "<style scoped>\n",
       "    .dataframe tbody tr th:only-of-type {\n",
       "        vertical-align: middle;\n",
       "    }\n",
       "\n",
       "    .dataframe tbody tr th {\n",
       "        vertical-align: top;\n",
       "    }\n",
       "\n",
       "    .dataframe thead th {\n",
       "        text-align: right;\n",
       "    }\n",
       "</style>\n",
       "<table border=\"1\" class=\"dataframe\">\n",
       "  <thead>\n",
       "    <tr style=\"text-align: right;\">\n",
       "      <th></th>\n",
       "      <th>review</th>\n",
       "      <th>sentiment</th>\n",
       "    </tr>\n",
       "  </thead>\n",
       "  <tbody>\n",
       "    <tr>\n",
       "      <th>0</th>\n",
       "      <td>La playa de zapallar es única, una de las más ...</td>\n",
       "      <td>4</td>\n",
       "    </tr>\n",
       "    <tr>\n",
       "      <th>1</th>\n",
       "      <td>es mi refugio, mi casa desde mi niñez.... ador...</td>\n",
       "      <td>5</td>\n",
       "    </tr>\n",
       "    <tr>\n",
       "      <th>2</th>\n",
       "      <td>No hay tanta gente como en otras playas. Muy l...</td>\n",
       "      <td>5</td>\n",
       "    </tr>\n",
       "    <tr>\n",
       "      <th>3</th>\n",
       "      <td>Linda vista y lugar tranquilo. Un excelente ba...</td>\n",
       "      <td>5</td>\n",
       "    </tr>\n",
       "    <tr>\n",
       "      <th>4</th>\n",
       "      <td>Zapallar tiene una playa muy linda con sendero...</td>\n",
       "      <td>5</td>\n",
       "    </tr>\n",
       "    <tr>\n",
       "      <th>5</th>\n",
       "      <td>Puedes disfrutar su playa con tranquilidad; ar...</td>\n",
       "      <td>4</td>\n",
       "    </tr>\n",
       "    <tr>\n",
       "      <th>6</th>\n",
       "      <td>Excelente playa, ideal para nadar y pasar el d...</td>\n",
       "      <td>5</td>\n",
       "    </tr>\n",
       "    <tr>\n",
       "      <th>7</th>\n",
       "      <td>Preocupación por el cliente, muy buena atenció...</td>\n",
       "      <td>4</td>\n",
       "    </tr>\n",
       "    <tr>\n",
       "      <th>8</th>\n",
       "      <td>La playa me encanto, súper limpia, tranquila y...</td>\n",
       "      <td>5</td>\n",
       "    </tr>\n",
       "    <tr>\n",
       "      <th>9</th>\n",
       "      <td>Es una playa pequeña muy acogedora, limpia las...</td>\n",
       "      <td>5</td>\n",
       "    </tr>\n",
       "    <tr>\n",
       "      <th>10</th>\n",
       "      <td>One of the most beautiful places in the middle...</td>\n",
       "      <td>5</td>\n",
       "    </tr>\n",
       "    <tr>\n",
       "      <th>11</th>\n",
       "      <td>About a 1 hour drive North from Concon. A beau...</td>\n",
       "      <td>4</td>\n",
       "    </tr>\n",
       "    <tr>\n",
       "      <th>12</th>\n",
       "      <td>Great place to see/ visit and see the nature. ...</td>\n",
       "      <td>5</td>\n",
       "    </tr>\n",
       "    <tr>\n",
       "      <th>13</th>\n",
       "      <td>The water is freezing cold.  No surprise there...</td>\n",
       "      <td>4</td>\n",
       "    </tr>\n",
       "    <tr>\n",
       "      <th>14</th>\n",
       "      <td>I would have to say this is the Camden, Maine ...</td>\n",
       "      <td>5</td>\n",
       "    </tr>\n",
       "    <tr>\n",
       "      <th>15</th>\n",
       "      <td>Beautiful beach with great view and calm ocean...</td>\n",
       "      <td>4</td>\n",
       "    </tr>\n",
       "    <tr>\n",
       "      <th>16</th>\n",
       "      <td>It is a nice, small beach without services, on...</td>\n",
       "      <td>4</td>\n",
       "    </tr>\n",
       "    <tr>\n",
       "      <th>17</th>\n",
       "      <td>The beach is very beautiful, reminds me of Sou...</td>\n",
       "      <td>3</td>\n",
       "    </tr>\n",
       "    <tr>\n",
       "      <th>18</th>\n",
       "      <td>this stop was a total surprise on my trip. Thi...</td>\n",
       "      <td>5</td>\n",
       "    </tr>\n",
       "    <tr>\n",
       "      <th>19</th>\n",
       "      <td>This little beach is very well known in Zapall...</td>\n",
       "      <td>5</td>\n",
       "    </tr>\n",
       "  </tbody>\n",
       "</table>\n",
       "</div>"
      ],
      "text/plain": [
       "                                               review  sentiment\n",
       "0   La playa de zapallar es única, una de las más ...          4\n",
       "1   es mi refugio, mi casa desde mi niñez.... ador...          5\n",
       "2   No hay tanta gente como en otras playas. Muy l...          5\n",
       "3   Linda vista y lugar tranquilo. Un excelente ba...          5\n",
       "4   Zapallar tiene una playa muy linda con sendero...          5\n",
       "5   Puedes disfrutar su playa con tranquilidad; ar...          4\n",
       "6   Excelente playa, ideal para nadar y pasar el d...          5\n",
       "7   Preocupación por el cliente, muy buena atenció...          4\n",
       "8   La playa me encanto, súper limpia, tranquila y...          5\n",
       "9   Es una playa pequeña muy acogedora, limpia las...          5\n",
       "10  One of the most beautiful places in the middle...          5\n",
       "11  About a 1 hour drive North from Concon. A beau...          4\n",
       "12  Great place to see/ visit and see the nature. ...          5\n",
       "13  The water is freezing cold.  No surprise there...          4\n",
       "14  I would have to say this is the Camden, Maine ...          5\n",
       "15  Beautiful beach with great view and calm ocean...          4\n",
       "16  It is a nice, small beach without services, on...          4\n",
       "17  The beach is very beautiful, reminds me of Sou...          3\n",
       "18  this stop was a total surprise on my trip. Thi...          5\n",
       "19  This little beach is very well known in Zapall...          5"
      ]
     },
     "execution_count": 34,
     "metadata": {},
     "output_type": "execute_result"
    }
   ],
   "source": [
    "# Data Frame with a review and sentiment column\n",
    "zapallar"
   ]
  },
  {
   "cell_type": "code",
   "execution_count": 35,
   "id": "e4b3b0bd",
   "metadata": {},
   "outputs": [
    {
     "data": {
      "text/html": [
       "<div>\n",
       "<style scoped>\n",
       "    .dataframe tbody tr th:only-of-type {\n",
       "        vertical-align: middle;\n",
       "    }\n",
       "\n",
       "    .dataframe tbody tr th {\n",
       "        vertical-align: top;\n",
       "    }\n",
       "\n",
       "    .dataframe thead th {\n",
       "        text-align: right;\n",
       "    }\n",
       "</style>\n",
       "<table border=\"1\" class=\"dataframe\">\n",
       "  <thead>\n",
       "    <tr style=\"text-align: right;\">\n",
       "      <th></th>\n",
       "      <th>sentiment</th>\n",
       "    </tr>\n",
       "  </thead>\n",
       "  <tbody>\n",
       "    <tr>\n",
       "      <th>count</th>\n",
       "      <td>20.000000</td>\n",
       "    </tr>\n",
       "    <tr>\n",
       "      <th>mean</th>\n",
       "      <td>4.550000</td>\n",
       "    </tr>\n",
       "    <tr>\n",
       "      <th>std</th>\n",
       "      <td>0.604805</td>\n",
       "    </tr>\n",
       "    <tr>\n",
       "      <th>min</th>\n",
       "      <td>3.000000</td>\n",
       "    </tr>\n",
       "    <tr>\n",
       "      <th>25%</th>\n",
       "      <td>4.000000</td>\n",
       "    </tr>\n",
       "    <tr>\n",
       "      <th>50%</th>\n",
       "      <td>5.000000</td>\n",
       "    </tr>\n",
       "    <tr>\n",
       "      <th>75%</th>\n",
       "      <td>5.000000</td>\n",
       "    </tr>\n",
       "    <tr>\n",
       "      <th>max</th>\n",
       "      <td>5.000000</td>\n",
       "    </tr>\n",
       "  </tbody>\n",
       "</table>\n",
       "</div>"
      ],
      "text/plain": [
       "       sentiment\n",
       "count  20.000000\n",
       "mean    4.550000\n",
       "std     0.604805\n",
       "min     3.000000\n",
       "25%     4.000000\n",
       "50%     5.000000\n",
       "75%     5.000000\n",
       "max     5.000000"
      ]
     },
     "execution_count": 35,
     "metadata": {},
     "output_type": "execute_result"
    }
   ],
   "source": [
    "# Summary \n",
    "zapallar.describe()"
   ]
  },
  {
   "cell_type": "code",
   "execution_count": 36,
   "id": "56c0d7ce",
   "metadata": {},
   "outputs": [
    {
     "data": {
      "text/plain": [
       "5    12\n",
       "4     7\n",
       "3     1\n",
       "Name: sentiment, dtype: int64"
      ]
     },
     "execution_count": 36,
     "metadata": {},
     "output_type": "execute_result"
    }
   ],
   "source": [
    "# Counting the values\n",
    "pd.value_counts(zapallar[\"sentiment\"])"
   ]
  },
  {
   "cell_type": "code",
   "execution_count": 37,
   "id": "d0258d73",
   "metadata": {},
   "outputs": [],
   "source": [
    "# Ploting a histogram\n",
    "yzapallar = zapallar[\"sentiment\"].values"
   ]
  },
  {
   "cell_type": "code",
   "execution_count": 38,
   "id": "864f8cf7",
   "metadata": {},
   "outputs": [
    {
     "data": {
      "image/png": "[encoded data removed]",
      "text/plain": [
       "<Figure size 432x288 with 1 Axes>"
      ]
     },
     "metadata": {
      "needs_background": "light"
     },
     "output_type": "display_data"
    }
   ],
   "source": [
    "plt.hist(yzapallar, color = '#828846')\n",
    "plt.title('Sentiment Analysis Playa Zapallar')\n",
    "plt.xlabel('BERT sentiment grade')\n",
    "plt.ylabel('Number of reviews')\n",
    "plt.savefig('zapallar.png', dpi=100)\n",
    "plt.show()"
   ]
  },
  {
   "cell_type": "markdown",
   "id": "8152a5e7",
   "metadata": {},
   "source": [
    "5. Playa La Virgen"
   ]
  },
  {
   "cell_type": "code",
   "execution_count": null,
   "id": "1c76a45d",
   "metadata": {},
   "outputs": [],
   "source": [
    "#df\n",
    "virgen = pd.read_csv(\"virgen.csv\")\n",
    "virgen"
   ]
  },
  {
   "cell_type": "code",
   "execution_count": 40,
   "id": "2789623b",
   "metadata": {},
   "outputs": [],
   "source": [
    "#Adding a column to the data frame scoring the review (1-5) called \"sentiment\"\n",
    "virgen['sentiment'] = virgen['review'].apply(lambda x: sentiment_score(x[:512]))"
   ]
  },
  {
   "cell_type": "code",
   "execution_count": 41,
   "id": "a9f39eb3",
   "metadata": {},
   "outputs": [
    {
     "data": {
      "text/html": [
       "<div>\n",
       "<style scoped>\n",
       "    .dataframe tbody tr th:only-of-type {\n",
       "        vertical-align: middle;\n",
       "    }\n",
       "\n",
       "    .dataframe tbody tr th {\n",
       "        vertical-align: top;\n",
       "    }\n",
       "\n",
       "    .dataframe thead th {\n",
       "        text-align: right;\n",
       "    }\n",
       "</style>\n",
       "<table border=\"1\" class=\"dataframe\">\n",
       "  <thead>\n",
       "    <tr style=\"text-align: right;\">\n",
       "      <th></th>\n",
       "      <th>review</th>\n",
       "      <th>sentiment</th>\n",
       "    </tr>\n",
       "  </thead>\n",
       "  <tbody>\n",
       "    <tr>\n",
       "      <th>0</th>\n",
       "      <td>Llegamos al camping el lunes 21 de febrero muy...</td>\n",
       "      <td>5</td>\n",
       "    </tr>\n",
       "    <tr>\n",
       "      <th>1</th>\n",
       "      <td>Hermosa playa de arenas blancas, oleaje tranqu...</td>\n",
       "      <td>5</td>\n",
       "    </tr>\n",
       "    <tr>\n",
       "      <th>2</th>\n",
       "      <td>Sin duda alguna, Playa La Virgen es la mejor p...</td>\n",
       "      <td>5</td>\n",
       "    </tr>\n",
       "    <tr>\n",
       "      <th>3</th>\n",
       "      <td>Muy buena experiencia en Playa La Virgen, exce...</td>\n",
       "      <td>5</td>\n",
       "    </tr>\n",
       "    <tr>\n",
       "      <th>4</th>\n",
       "      <td>Lugar paradisíaco, muy bueno el camping, muy b...</td>\n",
       "      <td>5</td>\n",
       "    </tr>\n",
       "    <tr>\n",
       "      <th>5</th>\n",
       "      <td>Soy campista regular de esta playa, visitándol...</td>\n",
       "      <td>4</td>\n",
       "    </tr>\n",
       "    <tr>\n",
       "      <th>6</th>\n",
       "      <td>Amo el camping de playa la virgen.La desconexi...</td>\n",
       "      <td>5</td>\n",
       "    </tr>\n",
       "    <tr>\n",
       "      <th>7</th>\n",
       "      <td>Espectacular estadía, cabaña de lujo, limpia, ...</td>\n",
       "      <td>5</td>\n",
       "    </tr>\n",
       "    <tr>\n",
       "      <th>8</th>\n",
       "      <td>Un lugar mágico, limpio, bien cuidado (no perm...</td>\n",
       "      <td>5</td>\n",
       "    </tr>\n",
       "    <tr>\n",
       "      <th>9</th>\n",
       "      <td>Este año fue la segunda vez que veraneamos en ...</td>\n",
       "      <td>5</td>\n",
       "    </tr>\n",
       "    <tr>\n",
       "      <th>10</th>\n",
       "      <td>A bit over an hour from Bahía Inglesa. On your...</td>\n",
       "      <td>3</td>\n",
       "    </tr>\n",
       "    <tr>\n",
       "      <th>11</th>\n",
       "      <td>It's nice enough. Spent a day there but nothin...</td>\n",
       "      <td>3</td>\n",
       "    </tr>\n",
       "    <tr>\n",
       "      <th>12</th>\n",
       "      <td>We visited this beach on a sunny day, the wate...</td>\n",
       "      <td>2</td>\n",
       "    </tr>\n",
       "    <tr>\n",
       "      <th>13</th>\n",
       "      <td>Chile is not particularly known  for having wh...</td>\n",
       "      <td>4</td>\n",
       "    </tr>\n",
       "    <tr>\n",
       "      <th>14</th>\n",
       "      <td>It was worth it the effort to get there! But g...</td>\n",
       "      <td>3</td>\n",
       "    </tr>\n",
       "    <tr>\n",
       "      <th>15</th>\n",
       "      <td>We went to this beach because of all stories.I...</td>\n",
       "      <td>1</td>\n",
       "    </tr>\n",
       "    <tr>\n",
       "      <th>16</th>\n",
       "      <td>Lovely beach, around 1 hour from Bahía, you’ll...</td>\n",
       "      <td>5</td>\n",
       "    </tr>\n",
       "    <tr>\n",
       "      <th>17</th>\n",
       "      <td>We went there with a rental car and it was a n...</td>\n",
       "      <td>5</td>\n",
       "    </tr>\n",
       "    <tr>\n",
       "      <th>18</th>\n",
       "      <td>One of the beat beached in the Region III of C...</td>\n",
       "      <td>5</td>\n",
       "    </tr>\n",
       "    <tr>\n",
       "      <th>19</th>\n",
       "      <td>It was a beautiful day when I went, but the be...</td>\n",
       "      <td>3</td>\n",
       "    </tr>\n",
       "  </tbody>\n",
       "</table>\n",
       "</div>"
      ],
      "text/plain": [
       "                                               review  sentiment\n",
       "0   Llegamos al camping el lunes 21 de febrero muy...          5\n",
       "1   Hermosa playa de arenas blancas, oleaje tranqu...          5\n",
       "2   Sin duda alguna, Playa La Virgen es la mejor p...          5\n",
       "3   Muy buena experiencia en Playa La Virgen, exce...          5\n",
       "4   Lugar paradisíaco, muy bueno el camping, muy b...          5\n",
       "5   Soy campista regular de esta playa, visitándol...          4\n",
       "6   Amo el camping de playa la virgen.La desconexi...          5\n",
       "7   Espectacular estadía, cabaña de lujo, limpia, ...          5\n",
       "8   Un lugar mágico, limpio, bien cuidado (no perm...          5\n",
       "9   Este año fue la segunda vez que veraneamos en ...          5\n",
       "10  A bit over an hour from Bahía Inglesa. On your...          3\n",
       "11  It's nice enough. Spent a day there but nothin...          3\n",
       "12  We visited this beach on a sunny day, the wate...          2\n",
       "13  Chile is not particularly known  for having wh...          4\n",
       "14  It was worth it the effort to get there! But g...          3\n",
       "15  We went to this beach because of all stories.I...          1\n",
       "16  Lovely beach, around 1 hour from Bahía, you’ll...          5\n",
       "17  We went there with a rental car and it was a n...          5\n",
       "18  One of the beat beached in the Region III of C...          5\n",
       "19  It was a beautiful day when I went, but the be...          3"
      ]
     },
     "execution_count": 41,
     "metadata": {},
     "output_type": "execute_result"
    }
   ],
   "source": [
    "virgen"
   ]
  },
  {
   "cell_type": "code",
   "execution_count": 42,
   "id": "10800680",
   "metadata": {},
   "outputs": [
    {
     "data": {
      "text/html": [
       "<div>\n",
       "<style scoped>\n",
       "    .dataframe tbody tr th:only-of-type {\n",
       "        vertical-align: middle;\n",
       "    }\n",
       "\n",
       "    .dataframe tbody tr th {\n",
       "        vertical-align: top;\n",
       "    }\n",
       "\n",
       "    .dataframe thead th {\n",
       "        text-align: right;\n",
       "    }\n",
       "</style>\n",
       "<table border=\"1\" class=\"dataframe\">\n",
       "  <thead>\n",
       "    <tr style=\"text-align: right;\">\n",
       "      <th></th>\n",
       "      <th>sentiment</th>\n",
       "    </tr>\n",
       "  </thead>\n",
       "  <tbody>\n",
       "    <tr>\n",
       "      <th>count</th>\n",
       "      <td>20.000000</td>\n",
       "    </tr>\n",
       "    <tr>\n",
       "      <th>mean</th>\n",
       "      <td>4.150000</td>\n",
       "    </tr>\n",
       "    <tr>\n",
       "      <th>std</th>\n",
       "      <td>1.225819</td>\n",
       "    </tr>\n",
       "    <tr>\n",
       "      <th>min</th>\n",
       "      <td>1.000000</td>\n",
       "    </tr>\n",
       "    <tr>\n",
       "      <th>25%</th>\n",
       "      <td>3.000000</td>\n",
       "    </tr>\n",
       "    <tr>\n",
       "      <th>50%</th>\n",
       "      <td>5.000000</td>\n",
       "    </tr>\n",
       "    <tr>\n",
       "      <th>75%</th>\n",
       "      <td>5.000000</td>\n",
       "    </tr>\n",
       "    <tr>\n",
       "      <th>max</th>\n",
       "      <td>5.000000</td>\n",
       "    </tr>\n",
       "  </tbody>\n",
       "</table>\n",
       "</div>"
      ],
      "text/plain": [
       "       sentiment\n",
       "count  20.000000\n",
       "mean    4.150000\n",
       "std     1.225819\n",
       "min     1.000000\n",
       "25%     3.000000\n",
       "50%     5.000000\n",
       "75%     5.000000\n",
       "max     5.000000"
      ]
     },
     "execution_count": 42,
     "metadata": {},
     "output_type": "execute_result"
    }
   ],
   "source": [
    "# Summary \n",
    "virgen.describe()"
   ]
  },
  {
   "cell_type": "code",
   "execution_count": 44,
   "id": "9cec6b92",
   "metadata": {},
   "outputs": [
    {
     "data": {
      "text/plain": [
       "5    12\n",
       "3     4\n",
       "4     2\n",
       "2     1\n",
       "1     1\n",
       "Name: sentiment, dtype: int64"
      ]
     },
     "execution_count": 44,
     "metadata": {},
     "output_type": "execute_result"
    }
   ],
   "source": [
    "# Counting the values\n",
    "pd.value_counts(virgen[\"sentiment\"])"
   ]
  },
  {
   "cell_type": "code",
   "execution_count": 45,
   "id": "94634d7d",
   "metadata": {},
   "outputs": [],
   "source": [
    "# Ploting a histogram\n",
    "yvirgen = virgen[\"sentiment\"].values"
   ]
  },
  {
   "cell_type": "code",
   "execution_count": 46,
   "id": "5900b6f2",
   "metadata": {},
   "outputs": [
    {
     "data": {
      "image/png": "[encoded data removed]",
      "text/plain": [
       "<Figure size 432x288 with 1 Axes>"
      ]
     },
     "metadata": {
      "needs_background": "light"
     },
     "output_type": "display_data"
    }
   ],
   "source": [
    "plt.hist(yvirgen, color = '#888846')\n",
    "plt.title('Sentiment Analysis Playa La Virgen')\n",
    "plt.xlabel('BERT sentiment grade')\n",
    "plt.ylabel('Number of reviews')\n",
    "plt.savefig('virgen.png', dpi=100)\n",
    "plt.show()"
   ]
  },
  {
   "cell_type": "markdown",
   "id": "a1da1f49",
   "metadata": {},
   "source": [
    "6. Totoralillo"
   ]
  },
  {
   "cell_type": "code",
   "execution_count": 48,
   "id": "cfa0426a",
   "metadata": {},
   "outputs": [],
   "source": [
    "#df\n",
    "totoralillo = pd.read_csv(\"totoralillo.csv\")"
   ]
  },
  {
   "cell_type": "code",
   "execution_count": 49,
   "id": "962b80bf",
   "metadata": {},
   "outputs": [],
   "source": [
    "#Adding a column to the data frame scoring the review (1-5) called \"sentiment\"\n",
    "totoralillo['sentiment'] = totoralillo['review'].apply(lambda x: sentiment_score(x[:512]))"
   ]
  },
  {
   "cell_type": "code",
   "execution_count": 50,
   "id": "630fd96d",
   "metadata": {},
   "outputs": [
    {
     "data": {
      "text/html": [
       "<div>\n",
       "<style scoped>\n",
       "    .dataframe tbody tr th:only-of-type {\n",
       "        vertical-align: middle;\n",
       "    }\n",
       "\n",
       "    .dataframe tbody tr th {\n",
       "        vertical-align: top;\n",
       "    }\n",
       "\n",
       "    .dataframe thead th {\n",
       "        text-align: right;\n",
       "    }\n",
       "</style>\n",
       "<table border=\"1\" class=\"dataframe\">\n",
       "  <thead>\n",
       "    <tr style=\"text-align: right;\">\n",
       "      <th></th>\n",
       "      <th>review</th>\n",
       "      <th>sentiment</th>\n",
       "    </tr>\n",
       "  </thead>\n",
       "  <tbody>\n",
       "    <tr>\n",
       "      <th>0</th>\n",
       "      <td>Malaaaaaa, Playa chica, llena de rocas Malos b...</td>\n",
       "      <td>1</td>\n",
       "    </tr>\n",
       "    <tr>\n",
       "      <th>1</th>\n",
       "      <td>La playa en si es un espectáculo. Lo que es TE...</td>\n",
       "      <td>1</td>\n",
       "    </tr>\n",
       "    <tr>\n",
       "      <th>2</th>\n",
       "      <td>Es una hermosa playa, la facilidad para estaci...</td>\n",
       "      <td>5</td>\n",
       "    </tr>\n",
       "    <tr>\n",
       "      <th>3</th>\n",
       "      <td>El lugar es hermoso, pero la intervención huma...</td>\n",
       "      <td>1</td>\n",
       "    </tr>\n",
       "    <tr>\n",
       "      <th>4</th>\n",
       "      <td>Es un lugar maravilloso y paradisiaco. El ento...</td>\n",
       "      <td>4</td>\n",
       "    </tr>\n",
       "    <tr>\n",
       "      <th>5</th>\n",
       "      <td>Es una de mis playas favoritas en Chile, nada ...</td>\n",
       "      <td>5</td>\n",
       "    </tr>\n",
       "    <tr>\n",
       "      <th>6</th>\n",
       "      <td>Playa de un azul muy lindo, no es taan helada,...</td>\n",
       "      <td>5</td>\n",
       "    </tr>\n",
       "    <tr>\n",
       "      <th>7</th>\n",
       "      <td>Playa muy bonita, estaba muy lleno pero igual ...</td>\n",
       "      <td>4</td>\n",
       "    </tr>\n",
       "    <tr>\n",
       "      <th>8</th>\n",
       "      <td>Playa de arena blanca (no conchilla), playa mu...</td>\n",
       "      <td>4</td>\n",
       "    </tr>\n",
       "    <tr>\n",
       "      <th>9</th>\n",
       "      <td>Playa muy bonita. Agua turquesa y para nada fr...</td>\n",
       "      <td>2</td>\n",
       "    </tr>\n",
       "    <tr>\n",
       "      <th>10</th>\n",
       "      <td>if you wanted to be completly disconected from...</td>\n",
       "      <td>4</td>\n",
       "    </tr>\n",
       "    <tr>\n",
       "      <th>11</th>\n",
       "      <td>A very nice beach on a 15 minutes drive from L...</td>\n",
       "      <td>4</td>\n",
       "    </tr>\n",
       "    <tr>\n",
       "      <th>12</th>\n",
       "      <td>Nice beach with white sand, clear water and sm...</td>\n",
       "      <td>5</td>\n",
       "    </tr>\n",
       "    <tr>\n",
       "      <th>13</th>\n",
       "      <td>I came here based on image search: I’ve never ...</td>\n",
       "      <td>1</td>\n",
       "    </tr>\n",
       "    <tr>\n",
       "      <th>14</th>\n",
       "      <td>Nice spot for lunch and pictures. Spent 3 hour...</td>\n",
       "      <td>5</td>\n",
       "    </tr>\n",
       "    <tr>\n",
       "      <th>15</th>\n",
       "      <td>I have to say that it is really beautiful, and...</td>\n",
       "      <td>2</td>\n",
       "    </tr>\n",
       "    <tr>\n",
       "      <th>16</th>\n",
       "      <td>The view is amazing but very crowded in the pe...</td>\n",
       "      <td>4</td>\n",
       "    </tr>\n",
       "    <tr>\n",
       "      <th>17</th>\n",
       "      <td>This place in awesome and the beach is totally...</td>\n",
       "      <td>5</td>\n",
       "    </tr>\n",
       "    <tr>\n",
       "      <th>18</th>\n",
       "      <td>This is a really nice beach to stay for the wh...</td>\n",
       "      <td>5</td>\n",
       "    </tr>\n",
       "    <tr>\n",
       "      <th>19</th>\n",
       "      <td>visit this impressive natural beach, no waves ...</td>\n",
       "      <td>5</td>\n",
       "    </tr>\n",
       "  </tbody>\n",
       "</table>\n",
       "</div>"
      ],
      "text/plain": [
       "                                               review  sentiment\n",
       "0   Malaaaaaa, Playa chica, llena de rocas Malos b...          1\n",
       "1   La playa en si es un espectáculo. Lo que es TE...          1\n",
       "2   Es una hermosa playa, la facilidad para estaci...          5\n",
       "3   El lugar es hermoso, pero la intervención huma...          1\n",
       "4   Es un lugar maravilloso y paradisiaco. El ento...          4\n",
       "5   Es una de mis playas favoritas en Chile, nada ...          5\n",
       "6   Playa de un azul muy lindo, no es taan helada,...          5\n",
       "7   Playa muy bonita, estaba muy lleno pero igual ...          4\n",
       "8   Playa de arena blanca (no conchilla), playa mu...          4\n",
       "9   Playa muy bonita. Agua turquesa y para nada fr...          2\n",
       "10  if you wanted to be completly disconected from...          4\n",
       "11  A very nice beach on a 15 minutes drive from L...          4\n",
       "12  Nice beach with white sand, clear water and sm...          5\n",
       "13  I came here based on image search: I’ve never ...          1\n",
       "14  Nice spot for lunch and pictures. Spent 3 hour...          5\n",
       "15  I have to say that it is really beautiful, and...          2\n",
       "16  The view is amazing but very crowded in the pe...          4\n",
       "17  This place in awesome and the beach is totally...          5\n",
       "18  This is a really nice beach to stay for the wh...          5\n",
       "19  visit this impressive natural beach, no waves ...          5"
      ]
     },
     "execution_count": 50,
     "metadata": {},
     "output_type": "execute_result"
    }
   ],
   "source": [
    "totoralillo"
   ]
  },
  {
   "cell_type": "code",
   "execution_count": 51,
   "id": "d959ae55",
   "metadata": {},
   "outputs": [
    {
     "data": {
      "text/html": [
       "<div>\n",
       "<style scoped>\n",
       "    .dataframe tbody tr th:only-of-type {\n",
       "        vertical-align: middle;\n",
       "    }\n",
       "\n",
       "    .dataframe tbody tr th {\n",
       "        vertical-align: top;\n",
       "    }\n",
       "\n",
       "    .dataframe thead th {\n",
       "        text-align: right;\n",
       "    }\n",
       "</style>\n",
       "<table border=\"1\" class=\"dataframe\">\n",
       "  <thead>\n",
       "    <tr style=\"text-align: right;\">\n",
       "      <th></th>\n",
       "      <th>sentiment</th>\n",
       "    </tr>\n",
       "  </thead>\n",
       "  <tbody>\n",
       "    <tr>\n",
       "      <th>count</th>\n",
       "      <td>20.000000</td>\n",
       "    </tr>\n",
       "    <tr>\n",
       "      <th>mean</th>\n",
       "      <td>3.600000</td>\n",
       "    </tr>\n",
       "    <tr>\n",
       "      <th>std</th>\n",
       "      <td>1.602629</td>\n",
       "    </tr>\n",
       "    <tr>\n",
       "      <th>min</th>\n",
       "      <td>1.000000</td>\n",
       "    </tr>\n",
       "    <tr>\n",
       "      <th>25%</th>\n",
       "      <td>2.000000</td>\n",
       "    </tr>\n",
       "    <tr>\n",
       "      <th>50%</th>\n",
       "      <td>4.000000</td>\n",
       "    </tr>\n",
       "    <tr>\n",
       "      <th>75%</th>\n",
       "      <td>5.000000</td>\n",
       "    </tr>\n",
       "    <tr>\n",
       "      <th>max</th>\n",
       "      <td>5.000000</td>\n",
       "    </tr>\n",
       "  </tbody>\n",
       "</table>\n",
       "</div>"
      ],
      "text/plain": [
       "       sentiment\n",
       "count  20.000000\n",
       "mean    3.600000\n",
       "std     1.602629\n",
       "min     1.000000\n",
       "25%     2.000000\n",
       "50%     4.000000\n",
       "75%     5.000000\n",
       "max     5.000000"
      ]
     },
     "execution_count": 51,
     "metadata": {},
     "output_type": "execute_result"
    }
   ],
   "source": [
    "# Summary \n",
    "totoralillo.describe()"
   ]
  },
  {
   "cell_type": "code",
   "execution_count": 52,
   "id": "b4e66f8c",
   "metadata": {},
   "outputs": [
    {
     "data": {
      "text/plain": [
       "5    8\n",
       "4    6\n",
       "1    4\n",
       "2    2\n",
       "Name: sentiment, dtype: int64"
      ]
     },
     "execution_count": 52,
     "metadata": {},
     "output_type": "execute_result"
    }
   ],
   "source": [
    "# Counting the values\n",
    "pd.value_counts(totoralillo[\"sentiment\"])"
   ]
  },
  {
   "cell_type": "code",
   "execution_count": 53,
   "id": "499f56a0",
   "metadata": {},
   "outputs": [],
   "source": [
    "# Ploting a histogram\n",
    "ytotoralillo = totoralillo[\"sentiment\"].values"
   ]
  },
  {
   "cell_type": "code",
   "execution_count": 54,
   "id": "5552c1b8",
   "metadata": {},
   "outputs": [
    {
     "data": {
      "image/png": "[encoded data removed]",
      "text/plain": [
       "<Figure size 432x288 with 1 Axes>"
      ]
     },
     "metadata": {
      "needs_background": "light"
     },
     "output_type": "display_data"
    }
   ],
   "source": [
    "plt.hist(ytotoralillo, color = '#228846')\n",
    "plt.title('Sentiment Analysis Totoralillo')\n",
    "plt.xlabel('BERT sentiment grade')\n",
    "plt.ylabel('Number of reviews')\n",
    "plt.savefig('totoralillo.png', dpi=100)\n",
    "plt.show()"
   ]
  },
  {
   "cell_type": "markdown",
   "id": "5bf5bc34",
   "metadata": {},
   "source": [
    "7. Playa El Canelillo"
   ]
  },
  {
   "cell_type": "code",
   "execution_count": 55,
   "id": "7bb5ac3b",
   "metadata": {},
   "outputs": [],
   "source": [
    "#df\n",
    "canelillo = pd.read_csv(\"canelillo.csv\")"
   ]
  },
  {
   "cell_type": "code",
   "execution_count": 56,
   "id": "08cf27ef",
   "metadata": {},
   "outputs": [],
   "source": [
    "#Adding a column to the data frame scoring the review (1-5) called \"sentiment\"\n",
    "canelillo['sentiment'] = canelillo['review'].apply(lambda x: sentiment_score(x[:512]))"
   ]
  },
  {
   "cell_type": "code",
   "execution_count": 57,
   "id": "12b3e3be",
   "metadata": {},
   "outputs": [
    {
     "data": {
      "text/html": [
       "<div>\n",
       "<style scoped>\n",
       "    .dataframe tbody tr th:only-of-type {\n",
       "        vertical-align: middle;\n",
       "    }\n",
       "\n",
       "    .dataframe tbody tr th {\n",
       "        vertical-align: top;\n",
       "    }\n",
       "\n",
       "    .dataframe thead th {\n",
       "        text-align: right;\n",
       "    }\n",
       "</style>\n",
       "<table border=\"1\" class=\"dataframe\">\n",
       "  <thead>\n",
       "    <tr style=\"text-align: right;\">\n",
       "      <th></th>\n",
       "      <th>review</th>\n",
       "      <th>sentiment</th>\n",
       "    </tr>\n",
       "  </thead>\n",
       "  <tbody>\n",
       "    <tr>\n",
       "      <th>0</th>\n",
       "      <td>preciosa de aguas cristalinas y mar tranquilo!...</td>\n",
       "      <td>4</td>\n",
       "    </tr>\n",
       "    <tr>\n",
       "      <th>1</th>\n",
       "      <td>Estaba muy llena la playa, los que van llegand...</td>\n",
       "      <td>2</td>\n",
       "    </tr>\n",
       "    <tr>\n",
       "      <th>2</th>\n",
       "      <td>Es un hermoso lugar, de lejos parece una playa...</td>\n",
       "      <td>2</td>\n",
       "    </tr>\n",
       "    <tr>\n",
       "      <th>3</th>\n",
       "      <td>Crecí visitando Algarrobo desde que nací, pero...</td>\n",
       "      <td>2</td>\n",
       "    </tr>\n",
       "    <tr>\n",
       "      <th>4</th>\n",
       "      <td>Una hermosa playa con vistas inigualables,un b...</td>\n",
       "      <td>5</td>\n",
       "    </tr>\n",
       "    <tr>\n",
       "      <th>5</th>\n",
       "      <td>si uno quiere ir hay que estacionar el auto bi...</td>\n",
       "      <td>3</td>\n",
       "    </tr>\n",
       "    <tr>\n",
       "      <th>6</th>\n",
       "      <td>Es una playa donde se puede bañar y disfrutar ...</td>\n",
       "      <td>4</td>\n",
       "    </tr>\n",
       "    <tr>\n",
       "      <th>7</th>\n",
       "      <td>Lugar con gran potencial para el turismos. Her...</td>\n",
       "      <td>4</td>\n",
       "    </tr>\n",
       "    <tr>\n",
       "      <th>8</th>\n",
       "      <td>La playa es muy linda, paisaje espectacular, a...</td>\n",
       "      <td>2</td>\n",
       "    </tr>\n",
       "    <tr>\n",
       "      <th>9</th>\n",
       "      <td>Segundo año consecutivo que voy, a la playa y ...</td>\n",
       "      <td>5</td>\n",
       "    </tr>\n",
       "    <tr>\n",
       "      <th>10</th>\n",
       "      <td>I spent half a day at this beach a year ago on...</td>\n",
       "      <td>5</td>\n",
       "    </tr>\n",
       "    <tr>\n",
       "      <th>11</th>\n",
       "      <td>I stayed in the complex that is there and it w...</td>\n",
       "      <td>5</td>\n",
       "    </tr>\n",
       "    <tr>\n",
       "      <th>12</th>\n",
       "      <td>Ive had being in many places around the World ...</td>\n",
       "      <td>5</td>\n",
       "    </tr>\n",
       "    <tr>\n",
       "      <th>13</th>\n",
       "      <td>Calm water perfect for kid, if you go in low s...</td>\n",
       "      <td>5</td>\n",
       "    </tr>\n",
       "    <tr>\n",
       "      <th>14</th>\n",
       "      <td>You can enjoy a day walking beneath the big th...</td>\n",
       "      <td>4</td>\n",
       "    </tr>\n",
       "    <tr>\n",
       "      <th>15</th>\n",
       "      <td>The place is very beautiful, the beach is smal...</td>\n",
       "      <td>5</td>\n",
       "    </tr>\n",
       "    <tr>\n",
       "      <th>16</th>\n",
       "      <td>If you are nearby Algarrobo in the summer this...</td>\n",
       "      <td>4</td>\n",
       "    </tr>\n",
       "    <tr>\n",
       "      <th>17</th>\n",
       "      <td>To many people for confort...good for hiking b...</td>\n",
       "      <td>3</td>\n",
       "    </tr>\n",
       "    <tr>\n",
       "      <th>18</th>\n",
       "      <td>Exceptional natural beauty formerly, woods ext...</td>\n",
       "      <td>5</td>\n",
       "    </tr>\n",
       "    <tr>\n",
       "      <th>19</th>\n",
       "      <td>Such a lovely beach and worth visiting it. Alt...</td>\n",
       "      <td>5</td>\n",
       "    </tr>\n",
       "  </tbody>\n",
       "</table>\n",
       "</div>"
      ],
      "text/plain": [
       "                                               review  sentiment\n",
       "0   preciosa de aguas cristalinas y mar tranquilo!...          4\n",
       "1   Estaba muy llena la playa, los que van llegand...          2\n",
       "2   Es un hermoso lugar, de lejos parece una playa...          2\n",
       "3   Crecí visitando Algarrobo desde que nací, pero...          2\n",
       "4   Una hermosa playa con vistas inigualables,un b...          5\n",
       "5   si uno quiere ir hay que estacionar el auto bi...          3\n",
       "6   Es una playa donde se puede bañar y disfrutar ...          4\n",
       "7   Lugar con gran potencial para el turismos. Her...          4\n",
       "8   La playa es muy linda, paisaje espectacular, a...          2\n",
       "9   Segundo año consecutivo que voy, a la playa y ...          5\n",
       "10  I spent half a day at this beach a year ago on...          5\n",
       "11  I stayed in the complex that is there and it w...          5\n",
       "12  Ive had being in many places around the World ...          5\n",
       "13  Calm water perfect for kid, if you go in low s...          5\n",
       "14  You can enjoy a day walking beneath the big th...          4\n",
       "15  The place is very beautiful, the beach is smal...          5\n",
       "16  If you are nearby Algarrobo in the summer this...          4\n",
       "17  To many people for confort...good for hiking b...          3\n",
       "18  Exceptional natural beauty formerly, woods ext...          5\n",
       "19  Such a lovely beach and worth visiting it. Alt...          5"
      ]
     },
     "execution_count": 57,
     "metadata": {},
     "output_type": "execute_result"
    }
   ],
   "source": [
    "canelillo"
   ]
  },
  {
   "cell_type": "code",
   "execution_count": 58,
   "id": "de84b970",
   "metadata": {},
   "outputs": [
    {
     "data": {
      "text/html": [
       "<div>\n",
       "<style scoped>\n",
       "    .dataframe tbody tr th:only-of-type {\n",
       "        vertical-align: middle;\n",
       "    }\n",
       "\n",
       "    .dataframe tbody tr th {\n",
       "        vertical-align: top;\n",
       "    }\n",
       "\n",
       "    .dataframe thead th {\n",
       "        text-align: right;\n",
       "    }\n",
       "</style>\n",
       "<table border=\"1\" class=\"dataframe\">\n",
       "  <thead>\n",
       "    <tr style=\"text-align: right;\">\n",
       "      <th></th>\n",
       "      <th>sentiment</th>\n",
       "    </tr>\n",
       "  </thead>\n",
       "  <tbody>\n",
       "    <tr>\n",
       "      <th>count</th>\n",
       "      <td>20.000000</td>\n",
       "    </tr>\n",
       "    <tr>\n",
       "      <th>mean</th>\n",
       "      <td>3.950000</td>\n",
       "    </tr>\n",
       "    <tr>\n",
       "      <th>std</th>\n",
       "      <td>1.190975</td>\n",
       "    </tr>\n",
       "    <tr>\n",
       "      <th>min</th>\n",
       "      <td>2.000000</td>\n",
       "    </tr>\n",
       "    <tr>\n",
       "      <th>25%</th>\n",
       "      <td>3.000000</td>\n",
       "    </tr>\n",
       "    <tr>\n",
       "      <th>50%</th>\n",
       "      <td>4.000000</td>\n",
       "    </tr>\n",
       "    <tr>\n",
       "      <th>75%</th>\n",
       "      <td>5.000000</td>\n",
       "    </tr>\n",
       "    <tr>\n",
       "      <th>max</th>\n",
       "      <td>5.000000</td>\n",
       "    </tr>\n",
       "  </tbody>\n",
       "</table>\n",
       "</div>"
      ],
      "text/plain": [
       "       sentiment\n",
       "count  20.000000\n",
       "mean    3.950000\n",
       "std     1.190975\n",
       "min     2.000000\n",
       "25%     3.000000\n",
       "50%     4.000000\n",
       "75%     5.000000\n",
       "max     5.000000"
      ]
     },
     "execution_count": 58,
     "metadata": {},
     "output_type": "execute_result"
    }
   ],
   "source": [
    "# Summary \n",
    "canelillo.describe()"
   ]
  },
  {
   "cell_type": "code",
   "execution_count": 59,
   "id": "aec2159c",
   "metadata": {},
   "outputs": [
    {
     "data": {
      "text/plain": [
       "5    9\n",
       "4    5\n",
       "2    4\n",
       "3    2\n",
       "Name: sentiment, dtype: int64"
      ]
     },
     "execution_count": 59,
     "metadata": {},
     "output_type": "execute_result"
    }
   ],
   "source": [
    "# Counting the values\n",
    "pd.value_counts(canelillo[\"sentiment\"])"
   ]
  },
  {
   "cell_type": "code",
   "execution_count": 60,
   "id": "953ad755",
   "metadata": {},
   "outputs": [],
   "source": [
    "# Ploting a histogram\n",
    "ycanelillo = canelillo[\"sentiment\"].values"
   ]
  },
  {
   "cell_type": "code",
   "execution_count": 61,
   "id": "fe78a68b",
   "metadata": {},
   "outputs": [
    {
     "data": {
      "image/png": "[encoded data removed]",
      "text/plain": [
       "<Figure size 432x288 with 1 Axes>"
      ]
     },
     "metadata": {
      "needs_background": "light"
     },
     "output_type": "display_data"
    }
   ],
   "source": [
    "plt.hist(ycanelillo, color = '#733806')\n",
    "plt.title('Sentiment Analysis Playa Canelillo')\n",
    "plt.xlabel('BERT sentiment grade')\n",
    "plt.ylabel('Number of reviews')\n",
    "plt.savefig('canelillo.png', dpi=100)\n",
    "plt.show()"
   ]
  },
  {
   "cell_type": "markdown",
   "id": "99e20e21",
   "metadata": {},
   "source": [
    "8. Bahia Inglesa"
   ]
  },
  {
   "cell_type": "code",
   "execution_count": 62,
   "id": "ddc34f1d",
   "metadata": {},
   "outputs": [],
   "source": [
    "#df\n",
    "bahia = pd.read_csv(\"bahia.csv\")"
   ]
  },
  {
   "cell_type": "code",
   "execution_count": 63,
   "id": "a06670db",
   "metadata": {},
   "outputs": [],
   "source": [
    "#Adding a column to the data frame scoring the review (1-5) called \"sentiment\"\n",
    "bahia['sentiment'] = bahia['review'].apply(lambda x: sentiment_score(x[:512]))"
   ]
  },
  {
   "cell_type": "code",
   "execution_count": 64,
   "id": "3b22a9d6",
   "metadata": {},
   "outputs": [
    {
     "data": {
      "text/html": [
       "<div>\n",
       "<style scoped>\n",
       "    .dataframe tbody tr th:only-of-type {\n",
       "        vertical-align: middle;\n",
       "    }\n",
       "\n",
       "    .dataframe tbody tr th {\n",
       "        vertical-align: top;\n",
       "    }\n",
       "\n",
       "    .dataframe thead th {\n",
       "        text-align: right;\n",
       "    }\n",
       "</style>\n",
       "<table border=\"1\" class=\"dataframe\">\n",
       "  <thead>\n",
       "    <tr style=\"text-align: right;\">\n",
       "      <th></th>\n",
       "      <th>review</th>\n",
       "      <th>sentiment</th>\n",
       "    </tr>\n",
       "  </thead>\n",
       "  <tbody>\n",
       "    <tr>\n",
       "      <th>0</th>\n",
       "      <td>Bahía Inglesa may be the only beaching Chile t...</td>\n",
       "      <td>3</td>\n",
       "    </tr>\n",
       "    <tr>\n",
       "      <th>1</th>\n",
       "      <td>Tiny beach definitely worth visiting. We went ...</td>\n",
       "      <td>5</td>\n",
       "    </tr>\n",
       "    <tr>\n",
       "      <th>2</th>\n",
       "      <td>Just down the road from Caldera is this gorgeo...</td>\n",
       "      <td>4</td>\n",
       "    </tr>\n",
       "    <tr>\n",
       "      <th>3</th>\n",
       "      <td>A 2 star hotel. Is highly rated as Copiapo har...</td>\n",
       "      <td>2</td>\n",
       "    </tr>\n",
       "    <tr>\n",
       "      <th>4</th>\n",
       "      <td>We went there in the spring (October), and it ...</td>\n",
       "      <td>1</td>\n",
       "    </tr>\n",
       "    <tr>\n",
       "      <th>5</th>\n",
       "      <td>My boyfriend and I drove here expecting beauti...</td>\n",
       "      <td>2</td>\n",
       "    </tr>\n",
       "    <tr>\n",
       "      <th>6</th>\n",
       "      <td>Got the bus from Copiapo(bus station is locate...</td>\n",
       "      <td>4</td>\n",
       "    </tr>\n",
       "    <tr>\n",
       "      <th>7</th>\n",
       "      <td>On our way from the San Francisco Pass to Atac...</td>\n",
       "      <td>4</td>\n",
       "    </tr>\n",
       "    <tr>\n",
       "      <th>8</th>\n",
       "      <td>I was greatly surprised when I discovered this...</td>\n",
       "      <td>5</td>\n",
       "    </tr>\n",
       "    <tr>\n",
       "      <th>9</th>\n",
       "      <td>Bahia Inglesa is a small, laid back beach vill...</td>\n",
       "      <td>4</td>\n",
       "    </tr>\n",
       "    <tr>\n",
       "      <th>10</th>\n",
       "      <td>Bahía Inglesa es un lindo lugar, puedes quedar...</td>\n",
       "      <td>5</td>\n",
       "    </tr>\n",
       "    <tr>\n",
       "      <th>11</th>\n",
       "      <td>Muy rica playa, harto comercio, aunque harta g...</td>\n",
       "      <td>4</td>\n",
       "    </tr>\n",
       "    <tr>\n",
       "      <th>12</th>\n",
       "      <td>Hace algunos años hice una gran publicación so...</td>\n",
       "      <td>3</td>\n",
       "    </tr>\n",
       "    <tr>\n",
       "      <th>13</th>\n",
       "      <td>Sobrevalórada ( culpa de las estupidas fotogra...</td>\n",
       "      <td>2</td>\n",
       "    </tr>\n",
       "    <tr>\n",
       "      <th>14</th>\n",
       "      <td>El lugar es agradable con una bonita vista de ...</td>\n",
       "      <td>3</td>\n",
       "    </tr>\n",
       "    <tr>\n",
       "      <th>15</th>\n",
       "      <td>la playa es helada y el agua no es turquesa co...</td>\n",
       "      <td>2</td>\n",
       "    </tr>\n",
       "    <tr>\n",
       "      <th>16</th>\n",
       "      <td>Es una lástima la pobre infraestructuraDe la z...</td>\n",
       "      <td>1</td>\n",
       "    </tr>\n",
       "    <tr>\n",
       "      <th>17</th>\n",
       "      <td>Una playa muy bonita y un ambiente grato, es m...</td>\n",
       "      <td>5</td>\n",
       "    </tr>\n",
       "    <tr>\n",
       "      <th>18</th>\n",
       "      <td>Bahía Inglesa, es un balneario  pequeño y muy ...</td>\n",
       "      <td>4</td>\n",
       "    </tr>\n",
       "    <tr>\n",
       "      <th>19</th>\n",
       "      <td>Bahia Ingles es un pueblo pequeño pero lindo, ...</td>\n",
       "      <td>3</td>\n",
       "    </tr>\n",
       "  </tbody>\n",
       "</table>\n",
       "</div>"
      ],
      "text/plain": [
       "                                               review  sentiment\n",
       "0   Bahía Inglesa may be the only beaching Chile t...          3\n",
       "1   Tiny beach definitely worth visiting. We went ...          5\n",
       "2   Just down the road from Caldera is this gorgeo...          4\n",
       "3   A 2 star hotel. Is highly rated as Copiapo har...          2\n",
       "4   We went there in the spring (October), and it ...          1\n",
       "5   My boyfriend and I drove here expecting beauti...          2\n",
       "6   Got the bus from Copiapo(bus station is locate...          4\n",
       "7   On our way from the San Francisco Pass to Atac...          4\n",
       "8   I was greatly surprised when I discovered this...          5\n",
       "9   Bahia Inglesa is a small, laid back beach vill...          4\n",
       "10  Bahía Inglesa es un lindo lugar, puedes quedar...          5\n",
       "11  Muy rica playa, harto comercio, aunque harta g...          4\n",
       "12  Hace algunos años hice una gran publicación so...          3\n",
       "13  Sobrevalórada ( culpa de las estupidas fotogra...          2\n",
       "14  El lugar es agradable con una bonita vista de ...          3\n",
       "15  la playa es helada y el agua no es turquesa co...          2\n",
       "16  Es una lástima la pobre infraestructuraDe la z...          1\n",
       "17  Una playa muy bonita y un ambiente grato, es m...          5\n",
       "18  Bahía Inglesa, es un balneario  pequeño y muy ...          4\n",
       "19  Bahia Ingles es un pueblo pequeño pero lindo, ...          3"
      ]
     },
     "execution_count": 64,
     "metadata": {},
     "output_type": "execute_result"
    }
   ],
   "source": [
    "bahia"
   ]
  },
  {
   "cell_type": "code",
   "execution_count": 65,
   "id": "181a5ef0",
   "metadata": {},
   "outputs": [
    {
     "data": {
      "text/html": [
       "<div>\n",
       "<style scoped>\n",
       "    .dataframe tbody tr th:only-of-type {\n",
       "        vertical-align: middle;\n",
       "    }\n",
       "\n",
       "    .dataframe tbody tr th {\n",
       "        vertical-align: top;\n",
       "    }\n",
       "\n",
       "    .dataframe thead th {\n",
       "        text-align: right;\n",
       "    }\n",
       "</style>\n",
       "<table border=\"1\" class=\"dataframe\">\n",
       "  <thead>\n",
       "    <tr style=\"text-align: right;\">\n",
       "      <th></th>\n",
       "      <th>sentiment</th>\n",
       "    </tr>\n",
       "  </thead>\n",
       "  <tbody>\n",
       "    <tr>\n",
       "      <th>count</th>\n",
       "      <td>20.000000</td>\n",
       "    </tr>\n",
       "    <tr>\n",
       "      <th>mean</th>\n",
       "      <td>3.300000</td>\n",
       "    </tr>\n",
       "    <tr>\n",
       "      <th>std</th>\n",
       "      <td>1.301821</td>\n",
       "    </tr>\n",
       "    <tr>\n",
       "      <th>min</th>\n",
       "      <td>1.000000</td>\n",
       "    </tr>\n",
       "    <tr>\n",
       "      <th>25%</th>\n",
       "      <td>2.000000</td>\n",
       "    </tr>\n",
       "    <tr>\n",
       "      <th>50%</th>\n",
       "      <td>3.500000</td>\n",
       "    </tr>\n",
       "    <tr>\n",
       "      <th>75%</th>\n",
       "      <td>4.000000</td>\n",
       "    </tr>\n",
       "    <tr>\n",
       "      <th>max</th>\n",
       "      <td>5.000000</td>\n",
       "    </tr>\n",
       "  </tbody>\n",
       "</table>\n",
       "</div>"
      ],
      "text/plain": [
       "       sentiment\n",
       "count  20.000000\n",
       "mean    3.300000\n",
       "std     1.301821\n",
       "min     1.000000\n",
       "25%     2.000000\n",
       "50%     3.500000\n",
       "75%     4.000000\n",
       "max     5.000000"
      ]
     },
     "execution_count": 65,
     "metadata": {},
     "output_type": "execute_result"
    }
   ],
   "source": [
    "# Summary \n",
    "bahia.describe()"
   ]
  },
  {
   "cell_type": "code",
   "execution_count": 66,
   "id": "26369868",
   "metadata": {},
   "outputs": [
    {
     "data": {
      "text/plain": [
       "4    6\n",
       "3    4\n",
       "5    4\n",
       "2    4\n",
       "1    2\n",
       "Name: sentiment, dtype: int64"
      ]
     },
     "execution_count": 66,
     "metadata": {},
     "output_type": "execute_result"
    }
   ],
   "source": [
    "# Counting the values\n",
    "pd.value_counts(bahia[\"sentiment\"])"
   ]
  },
  {
   "cell_type": "code",
   "execution_count": 67,
   "id": "8894690f",
   "metadata": {},
   "outputs": [],
   "source": [
    "# Ploting a histogram\n",
    "ybahia = bahia[\"sentiment\"].values"
   ]
  },
  {
   "cell_type": "code",
   "execution_count": 68,
   "id": "d70c48e6",
   "metadata": {},
   "outputs": [
    {
     "data": {
      "image/png": "[encoded data removed]",
      "text/plain": [
       "<Figure size 432x288 with 1 Axes>"
      ]
     },
     "metadata": {
      "needs_background": "light"
     },
     "output_type": "display_data"
    }
   ],
   "source": [
    "plt.hist(ybahia, color = '#121106')\n",
    "plt.title('Sentiment Analysis Bahia Inglesa')\n",
    "plt.xlabel('BERT sentiment grade')\n",
    "plt.ylabel('Number of reviews')\n",
    "plt.savefig('bahia.png', dpi=100)\n",
    "plt.show()"
   ]
  },
  {
   "cell_type": "markdown",
   "id": "0e5a9f9e",
   "metadata": {},
   "source": [
    "#### Punta de Lobos and Zapallar are the beaches with better perception from visitors (4.6/5.0 and 4.55/5.0 respectively). The lowest scored was Bahia Inglesa with 3.3/5.0"
   ]
  },
  {
   "cell_type": "markdown",
   "id": "923d7c42",
   "metadata": {},
   "source": [
    "# Separate analysis of english and spanish reviews"
   ]
  },
  {
   "cell_type": "markdown",
   "id": "c5a9cf7b",
   "metadata": {},
   "source": [
    "1. Only spanish reviews (local and latin american visitors)"
   ]
  },
  {
   "cell_type": "code",
   "execution_count": 122,
   "id": "3c75ea6d",
   "metadata": {},
   "outputs": [],
   "source": [
    "#df of spanish reviews\n",
    "spanish = pd.read_csv(\"chiespanol.csv\")"
   ]
  },
  {
   "cell_type": "code",
   "execution_count": 81,
   "id": "e138ad61",
   "metadata": {},
   "outputs": [
    {
     "data": {
      "text/plain": [
       "review    object\n",
       "dtype: object"
      ]
     },
     "execution_count": 81,
     "metadata": {},
     "output_type": "execute_result"
    }
   ],
   "source": [
    "spanish.dtypes"
   ]
  },
  {
   "cell_type": "code",
   "execution_count": 83,
   "id": "9421b762",
   "metadata": {},
   "outputs": [
    {
     "data": {
      "text/plain": [
       "review    2\n",
       "dtype: int64"
      ]
     },
     "execution_count": 83,
     "metadata": {},
     "output_type": "execute_result"
    }
   ],
   "source": [
    "spanish.isnull().sum()"
   ]
  },
  {
   "cell_type": "code",
   "execution_count": 84,
   "id": "d6322e49",
   "metadata": {},
   "outputs": [
    {
     "data": {
      "text/html": [
       "<div>\n",
       "<style scoped>\n",
       "    .dataframe tbody tr th:only-of-type {\n",
       "        vertical-align: middle;\n",
       "    }\n",
       "\n",
       "    .dataframe tbody tr th {\n",
       "        vertical-align: top;\n",
       "    }\n",
       "\n",
       "    .dataframe thead th {\n",
       "        text-align: right;\n",
       "    }\n",
       "</style>\n",
       "<table border=\"1\" class=\"dataframe\">\n",
       "  <thead>\n",
       "    <tr style=\"text-align: right;\">\n",
       "      <th></th>\n",
       "      <th>review</th>\n",
       "    </tr>\n",
       "  </thead>\n",
       "  <tbody>\n",
       "    <tr>\n",
       "      <th>10</th>\n",
       "      <td>NaN</td>\n",
       "    </tr>\n",
       "    <tr>\n",
       "      <th>52</th>\n",
       "      <td>NaN</td>\n",
       "    </tr>\n",
       "  </tbody>\n",
       "</table>\n",
       "</div>"
      ],
      "text/plain": [
       "   review\n",
       "10    NaN\n",
       "52    NaN"
      ]
     },
     "execution_count": 84,
     "metadata": {},
     "output_type": "execute_result"
    }
   ],
   "source": [
    "# removing Null values to work with the model\n",
    "spanish[spanish[\"review\"].isnull()]"
   ]
  },
  {
   "cell_type": "code",
   "execution_count": 86,
   "id": "be93d821",
   "metadata": {},
   "outputs": [
    {
     "data": {
      "text/plain": [
       "(83, 1)"
      ]
     },
     "execution_count": 86,
     "metadata": {},
     "output_type": "execute_result"
    }
   ],
   "source": [
    "spanish.shape"
   ]
  },
  {
   "cell_type": "code",
   "execution_count": 100,
   "id": "95202d22",
   "metadata": {},
   "outputs": [],
   "source": [
    "# droping the 2 NaN values and saving\n",
    "spanish.dropna(how='any', inplace=True)"
   ]
  },
  {
   "cell_type": "code",
   "execution_count": 101,
   "id": "224fe5f3",
   "metadata": {},
   "outputs": [
    {
     "data": {
      "text/plain": [
       "(81, 1)"
      ]
     },
     "execution_count": 101,
     "metadata": {},
     "output_type": "execute_result"
    }
   ],
   "source": [
    "spanish.shape"
   ]
  },
  {
   "cell_type": "code",
   "execution_count": 102,
   "id": "cf5b66b3",
   "metadata": {},
   "outputs": [],
   "source": [
    "#model without NaN\n",
    "spanish['sentiment'] = spanish['review'].apply(lambda x: sentiment_score(x[:512]))"
   ]
  },
  {
   "cell_type": "code",
   "execution_count": 104,
   "id": "6254d0f4",
   "metadata": {},
   "outputs": [
    {
     "data": {
      "text/html": [
       "<div>\n",
       "<style scoped>\n",
       "    .dataframe tbody tr th:only-of-type {\n",
       "        vertical-align: middle;\n",
       "    }\n",
       "\n",
       "    .dataframe tbody tr th {\n",
       "        vertical-align: top;\n",
       "    }\n",
       "\n",
       "    .dataframe thead th {\n",
       "        text-align: right;\n",
       "    }\n",
       "</style>\n",
       "<table border=\"1\" class=\"dataframe\">\n",
       "  <thead>\n",
       "    <tr style=\"text-align: right;\">\n",
       "      <th></th>\n",
       "      <th>review</th>\n",
       "      <th>sentiment</th>\n",
       "    </tr>\n",
       "  </thead>\n",
       "  <tbody>\n",
       "    <tr>\n",
       "      <th>0</th>\n",
       "      <td>Bahía Inglesa may be the only beaching Chile t...</td>\n",
       "      <td>3</td>\n",
       "    </tr>\n",
       "    <tr>\n",
       "      <th>1</th>\n",
       "      <td>Tiny beach definitely worth visiting. We went ...</td>\n",
       "      <td>5</td>\n",
       "    </tr>\n",
       "    <tr>\n",
       "      <th>2</th>\n",
       "      <td>Just down the road from Caldera is this gorgeo...</td>\n",
       "      <td>4</td>\n",
       "    </tr>\n",
       "    <tr>\n",
       "      <th>3</th>\n",
       "      <td>A 2 star hotel. Is highly rated as Copiapo har...</td>\n",
       "      <td>2</td>\n",
       "    </tr>\n",
       "    <tr>\n",
       "      <th>4</th>\n",
       "      <td>We went there in the spring (October), and it ...</td>\n",
       "      <td>1</td>\n",
       "    </tr>\n",
       "  </tbody>\n",
       "</table>\n",
       "</div>"
      ],
      "text/plain": [
       "                                              review  sentiment\n",
       "0  Bahía Inglesa may be the only beaching Chile t...          3\n",
       "1  Tiny beach definitely worth visiting. We went ...          5\n",
       "2  Just down the road from Caldera is this gorgeo...          4\n",
       "3  A 2 star hotel. Is highly rated as Copiapo har...          2\n",
       "4  We went there in the spring (October), and it ...          1"
      ]
     },
     "execution_count": 104,
     "metadata": {},
     "output_type": "execute_result"
    }
   ],
   "source": [
    "# Data Frame with a review and sentiment column\n",
    "spanish.head()"
   ]
  },
  {
   "cell_type": "code",
   "execution_count": 105,
   "id": "0e653860",
   "metadata": {},
   "outputs": [
    {
     "data": {
      "text/html": [
       "<div>\n",
       "<style scoped>\n",
       "    .dataframe tbody tr th:only-of-type {\n",
       "        vertical-align: middle;\n",
       "    }\n",
       "\n",
       "    .dataframe tbody tr th {\n",
       "        vertical-align: top;\n",
       "    }\n",
       "\n",
       "    .dataframe thead th {\n",
       "        text-align: right;\n",
       "    }\n",
       "</style>\n",
       "<table border=\"1\" class=\"dataframe\">\n",
       "  <thead>\n",
       "    <tr style=\"text-align: right;\">\n",
       "      <th></th>\n",
       "      <th>sentiment</th>\n",
       "    </tr>\n",
       "  </thead>\n",
       "  <tbody>\n",
       "    <tr>\n",
       "      <th>count</th>\n",
       "      <td>81.000000</td>\n",
       "    </tr>\n",
       "    <tr>\n",
       "      <th>mean</th>\n",
       "      <td>3.987654</td>\n",
       "    </tr>\n",
       "    <tr>\n",
       "      <th>std</th>\n",
       "      <td>1.279588</td>\n",
       "    </tr>\n",
       "    <tr>\n",
       "      <th>min</th>\n",
       "      <td>1.000000</td>\n",
       "    </tr>\n",
       "    <tr>\n",
       "      <th>25%</th>\n",
       "      <td>4.000000</td>\n",
       "    </tr>\n",
       "    <tr>\n",
       "      <th>50%</th>\n",
       "      <td>4.000000</td>\n",
       "    </tr>\n",
       "    <tr>\n",
       "      <th>75%</th>\n",
       "      <td>5.000000</td>\n",
       "    </tr>\n",
       "    <tr>\n",
       "      <th>max</th>\n",
       "      <td>5.000000</td>\n",
       "    </tr>\n",
       "  </tbody>\n",
       "</table>\n",
       "</div>"
      ],
      "text/plain": [
       "       sentiment\n",
       "count  81.000000\n",
       "mean    3.987654\n",
       "std     1.279588\n",
       "min     1.000000\n",
       "25%     4.000000\n",
       "50%     4.000000\n",
       "75%     5.000000\n",
       "max     5.000000"
      ]
     },
     "execution_count": 105,
     "metadata": {},
     "output_type": "execute_result"
    }
   ],
   "source": [
    "# Summary \n",
    "spanish.describe()"
   ]
  },
  {
   "cell_type": "code",
   "execution_count": 106,
   "id": "159be30b",
   "metadata": {},
   "outputs": [
    {
     "data": {
      "text/plain": [
       "5    39\n",
       "4    22\n",
       "2     8\n",
       "3     6\n",
       "1     6\n",
       "Name: sentiment, dtype: int64"
      ]
     },
     "execution_count": 106,
     "metadata": {},
     "output_type": "execute_result"
    }
   ],
   "source": [
    "# Counting the values\n",
    "pd.value_counts(spanish[\"sentiment\"])"
   ]
  },
  {
   "cell_type": "code",
   "execution_count": 107,
   "id": "5425e444",
   "metadata": {},
   "outputs": [],
   "source": [
    "# Ploting a histogram\n",
    "yspanish = spanish[\"sentiment\"].values"
   ]
  },
  {
   "cell_type": "code",
   "execution_count": 108,
   "id": "3d8f274c",
   "metadata": {},
   "outputs": [
    {
     "data": {
      "image/png": "[encoded data removed]",
      "text/plain": [
       "<Figure size 432x288 with 1 Axes>"
      ]
     },
     "metadata": {
      "needs_background": "light"
     },
     "output_type": "display_data"
    }
   ],
   "source": [
    "plt.hist(yspanish, color = '#126506')\n",
    "plt.title('Sentiment Analysis Spanish language reviews')\n",
    "plt.xlabel('BERT sentiment grade')\n",
    "plt.ylabel('Number of reviews')\n",
    "plt.savefig('spanish.png', dpi=100)\n",
    "plt.show()"
   ]
  },
  {
   "cell_type": "markdown",
   "id": "72fe9886",
   "metadata": {},
   "source": [
    "2. Only english reviews"
   ]
  },
  {
   "cell_type": "code",
   "execution_count": 123,
   "id": "74e27bc8",
   "metadata": {},
   "outputs": [],
   "source": [
    "#df of english reviews\n",
    "english = pd.read_csv(\"chingles.csv\")"
   ]
  },
  {
   "cell_type": "code",
   "execution_count": 111,
   "id": "de9431da",
   "metadata": {},
   "outputs": [
    {
     "data": {
      "text/plain": [
       "review    1\n",
       "dtype: int64"
      ]
     },
     "execution_count": 111,
     "metadata": {},
     "output_type": "execute_result"
    }
   ],
   "source": [
    "english.isnull().sum()"
   ]
  },
  {
   "cell_type": "code",
   "execution_count": 112,
   "id": "4c13b345",
   "metadata": {},
   "outputs": [
    {
     "data": {
      "text/html": [
       "<div>\n",
       "<style scoped>\n",
       "    .dataframe tbody tr th:only-of-type {\n",
       "        vertical-align: middle;\n",
       "    }\n",
       "\n",
       "    .dataframe tbody tr th {\n",
       "        vertical-align: top;\n",
       "    }\n",
       "\n",
       "    .dataframe thead th {\n",
       "        text-align: right;\n",
       "    }\n",
       "</style>\n",
       "<table border=\"1\" class=\"dataframe\">\n",
       "  <thead>\n",
       "    <tr style=\"text-align: right;\">\n",
       "      <th></th>\n",
       "      <th>review</th>\n",
       "    </tr>\n",
       "  </thead>\n",
       "  <tbody>\n",
       "    <tr>\n",
       "      <th>10</th>\n",
       "      <td>NaN</td>\n",
       "    </tr>\n",
       "  </tbody>\n",
       "</table>\n",
       "</div>"
      ],
      "text/plain": [
       "   review\n",
       "10    NaN"
      ]
     },
     "execution_count": 112,
     "metadata": {},
     "output_type": "execute_result"
    }
   ],
   "source": [
    "# Removing null values\n",
    "english[english[\"review\"].isnull()]"
   ]
  },
  {
   "cell_type": "code",
   "execution_count": 113,
   "id": "2a121a40",
   "metadata": {},
   "outputs": [],
   "source": [
    "english.dropna(how='any', inplace=True)"
   ]
  },
  {
   "cell_type": "code",
   "execution_count": 114,
   "id": "48e93597",
   "metadata": {},
   "outputs": [
    {
     "data": {
      "text/plain": [
       "(82, 1)"
      ]
     },
     "execution_count": 114,
     "metadata": {},
     "output_type": "execute_result"
    }
   ],
   "source": [
    "english.shape"
   ]
  },
  {
   "cell_type": "code",
   "execution_count": 116,
   "id": "69a9f0de",
   "metadata": {},
   "outputs": [],
   "source": [
    "#Adding a column to the data frame scoring the review (1-5) called \"sentiment\"\n",
    "english['sentiment'] = english['review'].apply(lambda x: sentiment_score(x[:512]))"
   ]
  },
  {
   "cell_type": "code",
   "execution_count": 117,
   "id": "33e0d35c",
   "metadata": {},
   "outputs": [
    {
     "data": {
      "text/html": [
       "<div>\n",
       "<style scoped>\n",
       "    .dataframe tbody tr th:only-of-type {\n",
       "        vertical-align: middle;\n",
       "    }\n",
       "\n",
       "    .dataframe tbody tr th {\n",
       "        vertical-align: top;\n",
       "    }\n",
       "\n",
       "    .dataframe thead th {\n",
       "        text-align: right;\n",
       "    }\n",
       "</style>\n",
       "<table border=\"1\" class=\"dataframe\">\n",
       "  <thead>\n",
       "    <tr style=\"text-align: right;\">\n",
       "      <th></th>\n",
       "      <th>review</th>\n",
       "      <th>sentiment</th>\n",
       "    </tr>\n",
       "  </thead>\n",
       "  <tbody>\n",
       "    <tr>\n",
       "      <th>0</th>\n",
       "      <td>Bahía Inglesa es un lindo lugar, puedes quedar...</td>\n",
       "      <td>5</td>\n",
       "    </tr>\n",
       "    <tr>\n",
       "      <th>1</th>\n",
       "      <td>Muy rica playa, harto comercio, aunque harta g...</td>\n",
       "      <td>4</td>\n",
       "    </tr>\n",
       "    <tr>\n",
       "      <th>2</th>\n",
       "      <td>Hace algunos años hice una gran publicación so...</td>\n",
       "      <td>3</td>\n",
       "    </tr>\n",
       "    <tr>\n",
       "      <th>3</th>\n",
       "      <td>Sobrevalórada ( culpa de las estupidas fotogra...</td>\n",
       "      <td>2</td>\n",
       "    </tr>\n",
       "    <tr>\n",
       "      <th>4</th>\n",
       "      <td>El lugar es agradable con una bonita vista de ...</td>\n",
       "      <td>3</td>\n",
       "    </tr>\n",
       "  </tbody>\n",
       "</table>\n",
       "</div>"
      ],
      "text/plain": [
       "                                              review  sentiment\n",
       "0  Bahía Inglesa es un lindo lugar, puedes quedar...          5\n",
       "1  Muy rica playa, harto comercio, aunque harta g...          4\n",
       "2  Hace algunos años hice una gran publicación so...          3\n",
       "3  Sobrevalórada ( culpa de las estupidas fotogra...          2\n",
       "4  El lugar es agradable con una bonita vista de ...          3"
      ]
     },
     "execution_count": 117,
     "metadata": {},
     "output_type": "execute_result"
    }
   ],
   "source": [
    "# Data Frame with a review and sentiment column\n",
    "english.head()"
   ]
  },
  {
   "cell_type": "code",
   "execution_count": 118,
   "id": "e8ef4cc7",
   "metadata": {},
   "outputs": [
    {
     "data": {
      "text/html": [
       "<div>\n",
       "<style scoped>\n",
       "    .dataframe tbody tr th:only-of-type {\n",
       "        vertical-align: middle;\n",
       "    }\n",
       "\n",
       "    .dataframe tbody tr th {\n",
       "        vertical-align: top;\n",
       "    }\n",
       "\n",
       "    .dataframe thead th {\n",
       "        text-align: right;\n",
       "    }\n",
       "</style>\n",
       "<table border=\"1\" class=\"dataframe\">\n",
       "  <thead>\n",
       "    <tr style=\"text-align: right;\">\n",
       "      <th></th>\n",
       "      <th>sentiment</th>\n",
       "    </tr>\n",
       "  </thead>\n",
       "  <tbody>\n",
       "    <tr>\n",
       "      <th>count</th>\n",
       "      <td>82.000000</td>\n",
       "    </tr>\n",
       "    <tr>\n",
       "      <th>mean</th>\n",
       "      <td>4.048780</td>\n",
       "    </tr>\n",
       "    <tr>\n",
       "      <th>std</th>\n",
       "      <td>1.052949</td>\n",
       "    </tr>\n",
       "    <tr>\n",
       "      <th>min</th>\n",
       "      <td>1.000000</td>\n",
       "    </tr>\n",
       "    <tr>\n",
       "      <th>25%</th>\n",
       "      <td>4.000000</td>\n",
       "    </tr>\n",
       "    <tr>\n",
       "      <th>50%</th>\n",
       "      <td>4.000000</td>\n",
       "    </tr>\n",
       "    <tr>\n",
       "      <th>75%</th>\n",
       "      <td>5.000000</td>\n",
       "    </tr>\n",
       "    <tr>\n",
       "      <th>max</th>\n",
       "      <td>5.000000</td>\n",
       "    </tr>\n",
       "  </tbody>\n",
       "</table>\n",
       "</div>"
      ],
      "text/plain": [
       "       sentiment\n",
       "count  82.000000\n",
       "mean    4.048780\n",
       "std     1.052949\n",
       "min     1.000000\n",
       "25%     4.000000\n",
       "50%     4.000000\n",
       "75%     5.000000\n",
       "max     5.000000"
      ]
     },
     "execution_count": 118,
     "metadata": {},
     "output_type": "execute_result"
    }
   ],
   "source": [
    "# Summary \n",
    "english.describe()"
   ]
  },
  {
   "cell_type": "code",
   "execution_count": 119,
   "id": "fe47b49c",
   "metadata": {},
   "outputs": [
    {
     "data": {
      "text/plain": [
       "5    34\n",
       "4    28\n",
       "3    13\n",
       "2     4\n",
       "1     3\n",
       "Name: sentiment, dtype: int64"
      ]
     },
     "execution_count": 119,
     "metadata": {},
     "output_type": "execute_result"
    }
   ],
   "source": [
    "# Counting the values\n",
    "pd.value_counts(english[\"sentiment\"])"
   ]
  },
  {
   "cell_type": "code",
   "execution_count": 120,
   "id": "fd4c6fd6",
   "metadata": {},
   "outputs": [],
   "source": [
    "# Ploting a histogram\n",
    "yenglish = english[\"sentiment\"].values"
   ]
  },
  {
   "cell_type": "code",
   "execution_count": 121,
   "id": "2f2d62ff",
   "metadata": {},
   "outputs": [
    {
     "data": {
      "image/png": "[encoded data removed]",
      "text/plain": [
       "<Figure size 432x288 with 1 Axes>"
      ]
     },
     "metadata": {
      "needs_background": "light"
     },
     "output_type": "display_data"
    }
   ],
   "source": [
    "plt.hist(yenglish, color = '#826506')\n",
    "plt.title('Sentiment Analysis English language reviews')\n",
    "plt.xlabel('BERT sentiment grade')\n",
    "plt.ylabel('Number of reviews')\n",
    "plt.savefig('english.png', dpi=100)\n",
    "plt.show()"
   ]
  },
  {
   "cell_type": "markdown",
   "id": "34824488",
   "metadata": {},
   "source": [
    "#### Almost the same score between spanish and english reviews (around 4.0/5). The chilean beaches have a good perception of all kind of visitors (local-international). "
   ]
  },
  {
   "cell_type": "markdown",
   "id": "4a7ac487",
   "metadata": {},
   "source": [
    "# Concat English-Spanish reviews for a global analysis"
   ]
  },
  {
   "cell_type": "code",
   "execution_count": 124,
   "id": "3d6f503c",
   "metadata": {},
   "outputs": [],
   "source": [
    "dfglobal = pd.concat([spanish,english], sort=False)"
   ]
  },
  {
   "cell_type": "code",
   "execution_count": 125,
   "id": "6a856e16",
   "metadata": {},
   "outputs": [
    {
     "data": {
      "text/html": [
       "<div>\n",
       "<style scoped>\n",
       "    .dataframe tbody tr th:only-of-type {\n",
       "        vertical-align: middle;\n",
       "    }\n",
       "\n",
       "    .dataframe tbody tr th {\n",
       "        vertical-align: top;\n",
       "    }\n",
       "\n",
       "    .dataframe thead th {\n",
       "        text-align: right;\n",
       "    }\n",
       "</style>\n",
       "<table border=\"1\" class=\"dataframe\">\n",
       "  <thead>\n",
       "    <tr style=\"text-align: right;\">\n",
       "      <th></th>\n",
       "      <th>review</th>\n",
       "      <th>sentiment</th>\n",
       "    </tr>\n",
       "  </thead>\n",
       "  <tbody>\n",
       "    <tr>\n",
       "      <th>0</th>\n",
       "      <td>Bahía Inglesa may be the only beaching Chile t...</td>\n",
       "      <td>3.0</td>\n",
       "    </tr>\n",
       "    <tr>\n",
       "      <th>1</th>\n",
       "      <td>Tiny beach definitely worth visiting. We went ...</td>\n",
       "      <td>5.0</td>\n",
       "    </tr>\n",
       "    <tr>\n",
       "      <th>2</th>\n",
       "      <td>Just down the road from Caldera is this gorgeo...</td>\n",
       "      <td>4.0</td>\n",
       "    </tr>\n",
       "    <tr>\n",
       "      <th>3</th>\n",
       "      <td>A 2 star hotel. Is highly rated as Copiapo har...</td>\n",
       "      <td>2.0</td>\n",
       "    </tr>\n",
       "    <tr>\n",
       "      <th>4</th>\n",
       "      <td>We went there in the spring (October), and it ...</td>\n",
       "      <td>1.0</td>\n",
       "    </tr>\n",
       "    <tr>\n",
       "      <th>...</th>\n",
       "      <td>...</td>\n",
       "      <td>...</td>\n",
       "    </tr>\n",
       "    <tr>\n",
       "      <th>77</th>\n",
       "      <td>Beautiful beach with great view and calm ocean...</td>\n",
       "      <td>NaN</td>\n",
       "    </tr>\n",
       "    <tr>\n",
       "      <th>78</th>\n",
       "      <td>It is a nice, small beach without services, on...</td>\n",
       "      <td>NaN</td>\n",
       "    </tr>\n",
       "    <tr>\n",
       "      <th>79</th>\n",
       "      <td>The beach is very beautiful, reminds me of Sou...</td>\n",
       "      <td>NaN</td>\n",
       "    </tr>\n",
       "    <tr>\n",
       "      <th>80</th>\n",
       "      <td>this stop was a total surprise on my trip. Thi...</td>\n",
       "      <td>NaN</td>\n",
       "    </tr>\n",
       "    <tr>\n",
       "      <th>81</th>\n",
       "      <td>This little beach is very well known in Zapall...</td>\n",
       "      <td>NaN</td>\n",
       "    </tr>\n",
       "  </tbody>\n",
       "</table>\n",
       "<p>163 rows × 2 columns</p>\n",
       "</div>"
      ],
      "text/plain": [
       "                                               review  sentiment\n",
       "0   Bahía Inglesa may be the only beaching Chile t...        3.0\n",
       "1   Tiny beach definitely worth visiting. We went ...        5.0\n",
       "2   Just down the road from Caldera is this gorgeo...        4.0\n",
       "3   A 2 star hotel. Is highly rated as Copiapo har...        2.0\n",
       "4   We went there in the spring (October), and it ...        1.0\n",
       "..                                                ...        ...\n",
       "77  Beautiful beach with great view and calm ocean...        NaN\n",
       "78  It is a nice, small beach without services, on...        NaN\n",
       "79  The beach is very beautiful, reminds me of Sou...        NaN\n",
       "80  this stop was a total surprise on my trip. Thi...        NaN\n",
       "81  This little beach is very well known in Zapall...        NaN\n",
       "\n",
       "[163 rows x 2 columns]"
      ]
     },
     "execution_count": 125,
     "metadata": {},
     "output_type": "execute_result"
    }
   ],
   "source": [
    "dfglobal"
   ]
  },
  {
   "cell_type": "code",
   "execution_count": 126,
   "id": "0e9bd416",
   "metadata": {},
   "outputs": [],
   "source": [
    "#Adding a column to the data frame scoring the review (1-5) called \"sentiment\"\n",
    "dfglobal['sentiment'] = dfglobal['review'].apply(lambda x: sentiment_score(x[:512]))"
   ]
  },
  {
   "cell_type": "code",
   "execution_count": 127,
   "id": "2adc070f",
   "metadata": {},
   "outputs": [
    {
     "data": {
      "text/html": [
       "<div>\n",
       "<style scoped>\n",
       "    .dataframe tbody tr th:only-of-type {\n",
       "        vertical-align: middle;\n",
       "    }\n",
       "\n",
       "    .dataframe tbody tr th {\n",
       "        vertical-align: top;\n",
       "    }\n",
       "\n",
       "    .dataframe thead th {\n",
       "        text-align: right;\n",
       "    }\n",
       "</style>\n",
       "<table border=\"1\" class=\"dataframe\">\n",
       "  <thead>\n",
       "    <tr style=\"text-align: right;\">\n",
       "      <th></th>\n",
       "      <th>sentiment</th>\n",
       "    </tr>\n",
       "  </thead>\n",
       "  <tbody>\n",
       "    <tr>\n",
       "      <th>count</th>\n",
       "      <td>163.000000</td>\n",
       "    </tr>\n",
       "    <tr>\n",
       "      <th>mean</th>\n",
       "      <td>4.018405</td>\n",
       "    </tr>\n",
       "    <tr>\n",
       "      <th>std</th>\n",
       "      <td>1.167843</td>\n",
       "    </tr>\n",
       "    <tr>\n",
       "      <th>min</th>\n",
       "      <td>1.000000</td>\n",
       "    </tr>\n",
       "    <tr>\n",
       "      <th>25%</th>\n",
       "      <td>4.000000</td>\n",
       "    </tr>\n",
       "    <tr>\n",
       "      <th>50%</th>\n",
       "      <td>4.000000</td>\n",
       "    </tr>\n",
       "    <tr>\n",
       "      <th>75%</th>\n",
       "      <td>5.000000</td>\n",
       "    </tr>\n",
       "    <tr>\n",
       "      <th>max</th>\n",
       "      <td>5.000000</td>\n",
       "    </tr>\n",
       "  </tbody>\n",
       "</table>\n",
       "</div>"
      ],
      "text/plain": [
       "        sentiment\n",
       "count  163.000000\n",
       "mean     4.018405\n",
       "std      1.167843\n",
       "min      1.000000\n",
       "25%      4.000000\n",
       "50%      4.000000\n",
       "75%      5.000000\n",
       "max      5.000000"
      ]
     },
     "execution_count": 127,
     "metadata": {},
     "output_type": "execute_result"
    }
   ],
   "source": [
    "# Summary \n",
    "dfglobal.describe()"
   ]
  },
  {
   "cell_type": "code",
   "execution_count": 128,
   "id": "8a7a5978",
   "metadata": {},
   "outputs": [
    {
     "data": {
      "text/plain": [
       "5    73\n",
       "4    50\n",
       "3    19\n",
       "2    12\n",
       "1     9\n",
       "Name: sentiment, dtype: int64"
      ]
     },
     "execution_count": 128,
     "metadata": {},
     "output_type": "execute_result"
    }
   ],
   "source": [
    "# Counting the values\n",
    "pd.value_counts(dfglobal[\"sentiment\"])"
   ]
  },
  {
   "cell_type": "code",
   "execution_count": 129,
   "id": "0cd421e3",
   "metadata": {},
   "outputs": [],
   "source": [
    "# Ploting a histogram\n",
    "ydfglobal = dfglobal[\"sentiment\"].values"
   ]
  },
  {
   "cell_type": "code",
   "execution_count": 130,
   "id": "22d67f4b",
   "metadata": {},
   "outputs": [
    {
     "data": {
      "image/png": "[encoded data removed]",
      "text/plain": [
       "<Figure size 432x288 with 1 Axes>"
      ]
     },
     "metadata": {
      "needs_background": "light"
     },
     "output_type": "display_data"
    }
   ],
   "source": [
    "plt.hist(yenglish, color = '#526506')\n",
    "plt.title('Sentiment Analysis all language reviews')\n",
    "plt.xlabel('BERT sentiment grade')\n",
    "plt.ylabel('Number of reviews')\n",
    "plt.savefig('all.png', dpi=100)\n",
    "plt.show()"
   ]
  },
  {
   "cell_type": "markdown",
   "id": "009a8c34",
   "metadata": {},
   "source": []
  }
 ],
 "metadata": {
  "kernelspec": {
   "display_name": "Python 3 (ipykernel)",
   "language": "python",
   "name": "python3"
  },
  "language_info": {
   "codemirror_mode": {
    "name": "ipython",
    "version": 3
   },
   "file_extension": ".py",
   "mimetype": "text/x-python",
   "name": "python",
   "nbconvert_exporter": "python",
   "pygments_lexer": "ipython3",
   "version": "3.8.8"
  }
 },
 "nbformat": 4,
 "nbformat_minor": 5
}

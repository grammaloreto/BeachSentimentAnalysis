{
 "cells": [
  {
   "cell_type": "markdown",
   "id": "049ee4b8",
   "metadata": {},
   "source": [
    "# Installing Transformers and import dependencies"
   ]
  },
  {
   "cell_type": "code",
   "execution_count": 27,
   "id": "37b614c9",
   "metadata": {},
   "outputs": [
    {
     "name": "stdout",
     "output_type": "stream",
     "text": [
      "Requirement already satisfied: transformers in c:\\users\\smart\\anaconda3\\lib\\site-packages (4.11.2)\n",
      "Requirement already satisfied: requests in c:\\users\\smart\\anaconda3\\lib\\site-packages (from transformers) (2.26.0)\n",
      "Requirement already satisfied: regex!=2019.12.17 in c:\\users\\smart\\anaconda3\\lib\\site-packages (from transformers) (2021.8.3)\n",
      "Requirement already satisfied: tokenizers<0.11,>=0.10.1 in c:\\users\\smart\\anaconda3\\lib\\site-packages (from transformers) (0.10.3)\n",
      "Requirement already satisfied: tqdm>=4.27 in c:\\users\\smart\\anaconda3\\lib\\site-packages (from transformers) (4.62.2)\n",
      "Requirement already satisfied: pyyaml>=5.1 in c:\\users\\smart\\anaconda3\\lib\\site-packages (from transformers) (5.4.1)\n",
      "Requirement already satisfied: numpy>=1.17 in c:\\users\\smart\\anaconda3\\lib\\site-packages (from transformers) (1.20.3)\n",
      "Requirement already satisfied: filelock in c:\\users\\smart\\anaconda3\\lib\\site-packages (from transformers) (3.0.12)\n",
      "Requirement already satisfied: packaging>=20.0 in c:\\users\\smart\\anaconda3\\lib\\site-packages (from transformers) (21.0)\n",
      "Requirement already satisfied: sacremoses in c:\\users\\smart\\anaconda3\\lib\\site-packages (from transformers) (0.0.46)\n",
      "Requirement already satisfied: huggingface-hub>=0.0.17 in c:\\users\\smart\\anaconda3\\lib\\site-packages (from transformers) (0.0.17)\n",
      "Requirement already satisfied: typing-extensions in c:\\users\\smart\\anaconda3\\lib\\site-packages (from huggingface-hub>=0.0.17->transformers) (3.10.0.2)\n",
      "Requirement already satisfied: pyparsing>=2.0.2 in c:\\users\\smart\\anaconda3\\lib\\site-packages (from packaging>=20.0->transformers) (2.4.7)\n",
      "Requirement already satisfied: colorama in c:\\users\\smart\\anaconda3\\lib\\site-packages (from tqdm>=4.27->transformers) (0.4.4)\n",
      "Requirement already satisfied: urllib3<1.27,>=1.21.1 in c:\\users\\smart\\anaconda3\\lib\\site-packages (from requests->transformers) (1.26.6)\n",
      "Requirement already satisfied: certifi>=2017.4.17 in c:\\users\\smart\\anaconda3\\lib\\site-packages (from requests->transformers) (2021.5.30)\n",
      "Requirement already satisfied: charset-normalizer~=2.0.0 in c:\\users\\smart\\anaconda3\\lib\\site-packages (from requests->transformers) (2.0.4)\n",
      "Requirement already satisfied: idna<4,>=2.5 in c:\\users\\smart\\anaconda3\\lib\\site-packages (from requests->transformers) (3.2)\n",
      "Requirement already satisfied: click in c:\\users\\smart\\anaconda3\\lib\\site-packages (from sacremoses->transformers) (8.0.1)\n",
      "Requirement already satisfied: six in c:\\users\\smart\\anaconda3\\lib\\site-packages (from sacremoses->transformers) (1.16.0)\n",
      "Requirement already satisfied: joblib in c:\\users\\smart\\anaconda3\\lib\\site-packages (from sacremoses->transformers) (1.0.1)\n"
     ]
    }
   ],
   "source": [
    "!pip install transformers "
   ]
  },
  {
   "cell_type": "code",
   "execution_count": 39,
   "id": "27ab175a",
   "metadata": {},
   "outputs": [],
   "source": [
    "from transformers import AutoTokenizer, AutoModelForSequenceClassification #Tokens\n",
    "import torch # PyTorch"
   ]
  },
  {
   "cell_type": "code",
   "execution_count": 40,
   "id": "bcae72a6",
   "metadata": {},
   "outputs": [],
   "source": [
    "# For plots(histograms) and fix tables\n",
    "import pandas as pd\n",
    "import numpy as np\n",
    "import matplotlib.pyplot as plt\n",
    "import seaborn as sns\n",
    "%matplotlib inline"
   ]
  },
  {
   "cell_type": "code",
   "execution_count": 41,
   "id": "8fb52d9c",
   "metadata": {},
   "outputs": [],
   "source": [
    "#Organising the model with BERT\n",
    "\n",
    "tokenizer = AutoTokenizer.from_pretrained(\"nlptown/bert-base-multilingual-uncased-sentiment\")\n",
    "\n",
    "model = AutoModelForSequenceClassification.from_pretrained(\"nlptown/bert-base-multilingual-uncased-sentiment\")"
   ]
  },
  {
   "cell_type": "code",
   "execution_count": 42,
   "id": "383c3a8b",
   "metadata": {},
   "outputs": [],
   "source": [
    "tokens = tokenizer.encode('esta playa tiene cosas buenas pero...!', return_tensors='pt') #ejemplo de como trabajaría el token"
   ]
  },
  {
   "cell_type": "code",
   "execution_count": 43,
   "id": "7869e9bd",
   "metadata": {},
   "outputs": [
    {
     "data": {
      "text/plain": [
       "tensor([[  101, 10602, 40544, 12687, 42337, 84542, 10791,   119,   119,   119,\n",
       "           106,   102]])"
      ]
     },
     "execution_count": 43,
     "metadata": {},
     "output_type": "execute_result"
    }
   ],
   "source": [
    "tokens"
   ]
  },
  {
   "cell_type": "code",
   "execution_count": 44,
   "id": "115648ee",
   "metadata": {},
   "outputs": [],
   "source": [
    "result = model(tokens)"
   ]
  },
  {
   "cell_type": "code",
   "execution_count": 45,
   "id": "b9fc3c9a",
   "metadata": {},
   "outputs": [],
   "source": [
    "# Function that evaluates all reviews in data frames  \n",
    "def sentiment_score(review):\n",
    "    tokens = tokenizer.encode(review, return_tensors='pt')\n",
    "    result = model(tokens)\n",
    "    return int(torch.argmax(result.logits))+1"
   ]
  },
  {
   "cell_type": "markdown",
   "id": "5c8c5649",
   "metadata": {},
   "source": [
    "# Sentiment Analysis for each of the 8 beaches"
   ]
  },
  {
   "cell_type": "markdown",
   "id": "eaabf834",
   "metadata": {},
   "source": [
    "Playa Blanca Santa Marta"
   ]
  },
  {
   "cell_type": "code",
   "execution_count": 46,
   "id": "3171e0df",
   "metadata": {},
   "outputs": [],
   "source": [
    "#Adding a column to the data frame scoring the review (1-5) called \"sentiment\"\n",
    "dfblancaSM['sentiment'] = dfblancaSM['review'].apply(lambda x: sentiment_score(x[:512]))"
   ]
  },
  {
   "cell_type": "code",
   "execution_count": 47,
   "id": "594cd752",
   "metadata": {},
   "outputs": [
    {
     "data": {
      "text/html": [
       "<div>\n",
       "<style scoped>\n",
       "    .dataframe tbody tr th:only-of-type {\n",
       "        vertical-align: middle;\n",
       "    }\n",
       "\n",
       "    .dataframe tbody tr th {\n",
       "        vertical-align: top;\n",
       "    }\n",
       "\n",
       "    .dataframe thead th {\n",
       "        text-align: right;\n",
       "    }\n",
       "</style>\n",
       "<table border=\"1\" class=\"dataframe\">\n",
       "  <thead>\n",
       "    <tr style=\"text-align: right;\">\n",
       "      <th></th>\n",
       "      <th>review</th>\n",
       "      <th>sentiment</th>\n",
       "    </tr>\n",
       "  </thead>\n",
       "  <tbody>\n",
       "    <tr>\n",
       "      <th>0</th>\n",
       "      <td>es muy bonita la playa para tomarse fotos, el ...</td>\n",
       "      <td>4</td>\n",
       "    </tr>\n",
       "    <tr>\n",
       "      <th>1</th>\n",
       "      <td>Lastima se les ve lo abusivos piden mucho por ...</td>\n",
       "      <td>2</td>\n",
       "    </tr>\n",
       "    <tr>\n",
       "      <th>2</th>\n",
       "      <td>Que tristeza ver en lo que se convirtió esta p...</td>\n",
       "      <td>1</td>\n",
       "    </tr>\n",
       "    <tr>\n",
       "      <th>3</th>\n",
       "      <td>Un lugar demasiado lleno de gente, desordenado...</td>\n",
       "      <td>1</td>\n",
       "    </tr>\n",
       "    <tr>\n",
       "      <th>4</th>\n",
       "      <td>Es una playa limpia y agradable muy cerca del ...</td>\n",
       "      <td>4</td>\n",
       "    </tr>\n",
       "    <tr>\n",
       "      <th>5</th>\n",
       "      <td>Restaurants are too expensive and they try to ...</td>\n",
       "      <td>2</td>\n",
       "    </tr>\n",
       "    <tr>\n",
       "      <th>6</th>\n",
       "      <td>Visitamos acuario y playa blanca con empresa t...</td>\n",
       "      <td>2</td>\n",
       "    </tr>\n",
       "    <tr>\n",
       "      <th>7</th>\n",
       "      <td>Es un lugar hermoso, obviamente va mucha gente...</td>\n",
       "      <td>5</td>\n",
       "    </tr>\n",
       "    <tr>\n",
       "      <th>8</th>\n",
       "      <td>Fuimos entre semana y con reserva previa, pero...</td>\n",
       "      <td>1</td>\n",
       "    </tr>\n",
       "    <tr>\n",
       "      <th>9</th>\n",
       "      <td>Desde Rodadero sale taxi marino,te ofrece acua...</td>\n",
       "      <td>3</td>\n",
       "    </tr>\n",
       "    <tr>\n",
       "      <th>10</th>\n",
       "      <td>The only way to get there is by boat. The scen...</td>\n",
       "      <td>1</td>\n",
       "    </tr>\n",
       "    <tr>\n",
       "      <th>11</th>\n",
       "      <td>A very nice beach but very expensive if youre ...</td>\n",
       "      <td>3</td>\n",
       "    </tr>\n",
       "    <tr>\n",
       "      <th>12</th>\n",
       "      <td>We visited this beach coming from the Aquarium...</td>\n",
       "      <td>3</td>\n",
       "    </tr>\n",
       "    <tr>\n",
       "      <th>13</th>\n",
       "      <td>There is 2 ways to get to this place. One is b...</td>\n",
       "      <td>4</td>\n",
       "    </tr>\n",
       "    <tr>\n",
       "      <th>14</th>\n",
       "      <td>Nice beach to visit, but can get over crowded ...</td>\n",
       "      <td>4</td>\n",
       "    </tr>\n",
       "    <tr>\n",
       "      <th>15</th>\n",
       "      <td>Rocky as hell careful you may cut your feet , ...</td>\n",
       "      <td>5</td>\n",
       "    </tr>\n",
       "    <tr>\n",
       "      <th>16</th>\n",
       "      <td>Expect to be charged for everything.  Shades a...</td>\n",
       "      <td>1</td>\n",
       "    </tr>\n",
       "    <tr>\n",
       "      <th>17</th>\n",
       "      <td>Playa Blanca is a very beautiful place, you ca...</td>\n",
       "      <td>5</td>\n",
       "    </tr>\n",
       "    <tr>\n",
       "      <th>18</th>\n",
       "      <td>Playa Blanca was a real highlight of our whole...</td>\n",
       "      <td>5</td>\n",
       "    </tr>\n",
       "    <tr>\n",
       "      <th>19</th>\n",
       "      <td>I highly recommend to go to as much Tayrona's ...</td>\n",
       "      <td>5</td>\n",
       "    </tr>\n",
       "  </tbody>\n",
       "</table>\n",
       "</div>"
      ],
      "text/plain": [
       "                                               review  sentiment\n",
       "0   es muy bonita la playa para tomarse fotos, el ...          4\n",
       "1   Lastima se les ve lo abusivos piden mucho por ...          2\n",
       "2   Que tristeza ver en lo que se convirtió esta p...          1\n",
       "3   Un lugar demasiado lleno de gente, desordenado...          1\n",
       "4   Es una playa limpia y agradable muy cerca del ...          4\n",
       "5   Restaurants are too expensive and they try to ...          2\n",
       "6   Visitamos acuario y playa blanca con empresa t...          2\n",
       "7   Es un lugar hermoso, obviamente va mucha gente...          5\n",
       "8   Fuimos entre semana y con reserva previa, pero...          1\n",
       "9   Desde Rodadero sale taxi marino,te ofrece acua...          3\n",
       "10  The only way to get there is by boat. The scen...          1\n",
       "11  A very nice beach but very expensive if youre ...          3\n",
       "12  We visited this beach coming from the Aquarium...          3\n",
       "13  There is 2 ways to get to this place. One is b...          4\n",
       "14  Nice beach to visit, but can get over crowded ...          4\n",
       "15  Rocky as hell careful you may cut your feet , ...          5\n",
       "16  Expect to be charged for everything.  Shades a...          1\n",
       "17  Playa Blanca is a very beautiful place, you ca...          5\n",
       "18  Playa Blanca was a real highlight of our whole...          5\n",
       "19  I highly recommend to go to as much Tayrona's ...          5"
      ]
     },
     "execution_count": 47,
     "metadata": {},
     "output_type": "execute_result"
    }
   ],
   "source": [
    "# Data Frame with the review and sentiment column\n",
    "dfblancaSM"
   ]
  },
  {
   "cell_type": "code",
   "execution_count": 48,
   "id": "8b978330",
   "metadata": {},
   "outputs": [
    {
     "data": {
      "text/html": [
       "<div>\n",
       "<style scoped>\n",
       "    .dataframe tbody tr th:only-of-type {\n",
       "        vertical-align: middle;\n",
       "    }\n",
       "\n",
       "    .dataframe tbody tr th {\n",
       "        vertical-align: top;\n",
       "    }\n",
       "\n",
       "    .dataframe thead th {\n",
       "        text-align: right;\n",
       "    }\n",
       "</style>\n",
       "<table border=\"1\" class=\"dataframe\">\n",
       "  <thead>\n",
       "    <tr style=\"text-align: right;\">\n",
       "      <th></th>\n",
       "      <th>sentiment</th>\n",
       "    </tr>\n",
       "  </thead>\n",
       "  <tbody>\n",
       "    <tr>\n",
       "      <th>count</th>\n",
       "      <td>20.000000</td>\n",
       "    </tr>\n",
       "    <tr>\n",
       "      <th>mean</th>\n",
       "      <td>3.050000</td>\n",
       "    </tr>\n",
       "    <tr>\n",
       "      <th>std</th>\n",
       "      <td>1.571958</td>\n",
       "    </tr>\n",
       "    <tr>\n",
       "      <th>min</th>\n",
       "      <td>1.000000</td>\n",
       "    </tr>\n",
       "    <tr>\n",
       "      <th>25%</th>\n",
       "      <td>1.750000</td>\n",
       "    </tr>\n",
       "    <tr>\n",
       "      <th>50%</th>\n",
       "      <td>3.000000</td>\n",
       "    </tr>\n",
       "    <tr>\n",
       "      <th>75%</th>\n",
       "      <td>4.250000</td>\n",
       "    </tr>\n",
       "    <tr>\n",
       "      <th>max</th>\n",
       "      <td>5.000000</td>\n",
       "    </tr>\n",
       "  </tbody>\n",
       "</table>\n",
       "</div>"
      ],
      "text/plain": [
       "       sentiment\n",
       "count  20.000000\n",
       "mean    3.050000\n",
       "std     1.571958\n",
       "min     1.000000\n",
       "25%     1.750000\n",
       "50%     3.000000\n",
       "75%     4.250000\n",
       "max     5.000000"
      ]
     },
     "execution_count": 48,
     "metadata": {},
     "output_type": "execute_result"
    }
   ],
   "source": [
    "# Summary \n",
    "dfblancaSM.describe()"
   ]
  },
  {
   "cell_type": "code",
   "execution_count": 49,
   "id": "49e6af90",
   "metadata": {},
   "outputs": [
    {
     "data": {
      "text/plain": [
       "1    5\n",
       "5    5\n",
       "4    4\n",
       "2    3\n",
       "3    3\n",
       "Name: sentiment, dtype: int64"
      ]
     },
     "execution_count": 49,
     "metadata": {},
     "output_type": "execute_result"
    }
   ],
   "source": [
    "# Counting the values\n",
    "pd.value_counts(dfblancaSM[\"sentiment\"])"
   ]
  },
  {
   "cell_type": "code",
   "execution_count": 50,
   "id": "e61003d9",
   "metadata": {},
   "outputs": [],
   "source": [
    "# Ploting a histogram\n",
    "yblanSM = dfblancaSM[\"sentiment\"].values"
   ]
  },
  {
   "cell_type": "code",
   "execution_count": 51,
   "id": "309db6fb",
   "metadata": {},
   "outputs": [
    {
     "data": {
      "image/png": "[encoded data removed]",
      "text/plain": [
       "<Figure size 432x288 with 1 Axes>"
      ]
     },
     "metadata": {
      "needs_background": "light"
     },
     "output_type": "display_data"
    }
   ],
   "source": [
    "plt.hist(yblanSM, color = '#154656')\n",
    "plt.title('Análisis de Sentimientos Playa Blanca Santa Marta')\n",
    "plt.xlabel('Calificacion BERT comentario de Turista')\n",
    "plt.ylabel('Número de Comentarios')\n",
    "plt.show()"
   ]
  },
  {
   "cell_type": "markdown",
   "id": "5e143afa",
   "metadata": {},
   "source": [
    "Cabo de la Vela"
   ]
  },
  {
   "cell_type": "code",
   "execution_count": 52,
   "id": "90c65cc1",
   "metadata": {},
   "outputs": [],
   "source": [
    "#Adding a column to the data frame scoring the review (1-5) called \"sentiment\"\n",
    "dfcabo['sentiment'] = dfcabo['review'].apply(lambda x: sentiment_score(x[:512]))"
   ]
  },
  {
   "cell_type": "code",
   "execution_count": 53,
   "id": "5e2029b2",
   "metadata": {},
   "outputs": [
    {
     "data": {
      "text/html": [
       "<div>\n",
       "<style scoped>\n",
       "    .dataframe tbody tr th:only-of-type {\n",
       "        vertical-align: middle;\n",
       "    }\n",
       "\n",
       "    .dataframe tbody tr th {\n",
       "        vertical-align: top;\n",
       "    }\n",
       "\n",
       "    .dataframe thead th {\n",
       "        text-align: right;\n",
       "    }\n",
       "</style>\n",
       "<table border=\"1\" class=\"dataframe\">\n",
       "  <thead>\n",
       "    <tr style=\"text-align: right;\">\n",
       "      <th></th>\n",
       "      <th>review</th>\n",
       "      <th>sentiment</th>\n",
       "    </tr>\n",
       "  </thead>\n",
       "  <tbody>\n",
       "    <tr>\n",
       "      <th>0</th>\n",
       "      <td>Mágico lugar donde las noches estrelladas ilum...</td>\n",
       "      <td>5</td>\n",
       "    </tr>\n",
       "    <tr>\n",
       "      <th>1</th>\n",
       "      <td>Excelente ciudad, gente aseada y amable, gastr...</td>\n",
       "      <td>5</td>\n",
       "    </tr>\n",
       "    <tr>\n",
       "      <th>2</th>\n",
       "      <td>Guajira, en Colombia. Uno de los lugares más h...</td>\n",
       "      <td>5</td>\n",
       "    </tr>\n",
       "    <tr>\n",
       "      <th>3</th>\n",
       "      <td>Hola quiero hacer una pequeña reseña lo mas bo...</td>\n",
       "      <td>3</td>\n",
       "    </tr>\n",
       "    <tr>\n",
       "      <th>4</th>\n",
       "      <td>Paisajes espectaculares, mar, brisa, playa y h...</td>\n",
       "      <td>5</td>\n",
       "    </tr>\n",
       "    <tr>\n",
       "      <th>5</th>\n",
       "      <td>Es un sitio digno de conocer. Después de haber...</td>\n",
       "      <td>4</td>\n",
       "    </tr>\n",
       "    <tr>\n",
       "      <th>6</th>\n",
       "      <td>Es un lugar hermoso de mi Colombia, viajar en ...</td>\n",
       "      <td>5</td>\n",
       "    </tr>\n",
       "    <tr>\n",
       "      <th>7</th>\n",
       "      <td>Nos quedamos en Uribia en el Hotel Villa Maria...</td>\n",
       "      <td>5</td>\n",
       "    </tr>\n",
       "    <tr>\n",
       "      <th>8</th>\n",
       "      <td>Hola viaje desde el hotel Wayira hasta el cabo...</td>\n",
       "      <td>4</td>\n",
       "    </tr>\n",
       "    <tr>\n",
       "      <th>9</th>\n",
       "      <td>Hermoso y majestuoso lugar. Con playas exótica...</td>\n",
       "      <td>5</td>\n",
       "    </tr>\n",
       "    <tr>\n",
       "      <th>10</th>\n",
       "      <td>I was there on 1/2021 Cabo de la Vela, Guajira...</td>\n",
       "      <td>4</td>\n",
       "    </tr>\n",
       "    <tr>\n",
       "      <th>11</th>\n",
       "      <td>The best place for kite surfing (I reccomend T...</td>\n",
       "      <td>5</td>\n",
       "    </tr>\n",
       "    <tr>\n",
       "      <th>12</th>\n",
       "      <td>In 2020 I traveled to La Guajira, the experien...</td>\n",
       "      <td>4</td>\n",
       "    </tr>\n",
       "    <tr>\n",
       "      <th>13</th>\n",
       "      <td>The Cabo de la vela is located in La Guajira, ...</td>\n",
       "      <td>5</td>\n",
       "    </tr>\n",
       "    <tr>\n",
       "      <th>14</th>\n",
       "      <td>We stayed at the Hilton Beach and Golf Resort ...</td>\n",
       "      <td>4</td>\n",
       "    </tr>\n",
       "    <tr>\n",
       "      <th>15</th>\n",
       "      <td>a place where it seems to see the limits of th...</td>\n",
       "      <td>5</td>\n",
       "    </tr>\n",
       "    <tr>\n",
       "      <th>16</th>\n",
       "      <td>Made the trek from Riohacha - Cabo de Vela wit...</td>\n",
       "      <td>5</td>\n",
       "    </tr>\n",
       "    <tr>\n",
       "      <th>17</th>\n",
       "      <td>Excellent place if you want an adventure far f...</td>\n",
       "      <td>5</td>\n",
       "    </tr>\n",
       "    <tr>\n",
       "      <th>18</th>\n",
       "      <td>We went here for 2 nights. The place is great ...</td>\n",
       "      <td>3</td>\n",
       "    </tr>\n",
       "    <tr>\n",
       "      <th>19</th>\n",
       "      <td>We have had a very good 3 day trip to La Guaji...</td>\n",
       "      <td>4</td>\n",
       "    </tr>\n",
       "  </tbody>\n",
       "</table>\n",
       "</div>"
      ],
      "text/plain": [
       "                                               review  sentiment\n",
       "0   Mágico lugar donde las noches estrelladas ilum...          5\n",
       "1   Excelente ciudad, gente aseada y amable, gastr...          5\n",
       "2   Guajira, en Colombia. Uno de los lugares más h...          5\n",
       "3   Hola quiero hacer una pequeña reseña lo mas bo...          3\n",
       "4   Paisajes espectaculares, mar, brisa, playa y h...          5\n",
       "5   Es un sitio digno de conocer. Después de haber...          4\n",
       "6   Es un lugar hermoso de mi Colombia, viajar en ...          5\n",
       "7   Nos quedamos en Uribia en el Hotel Villa Maria...          5\n",
       "8   Hola viaje desde el hotel Wayira hasta el cabo...          4\n",
       "9   Hermoso y majestuoso lugar. Con playas exótica...          5\n",
       "10  I was there on 1/2021 Cabo de la Vela, Guajira...          4\n",
       "11  The best place for kite surfing (I reccomend T...          5\n",
       "12  In 2020 I traveled to La Guajira, the experien...          4\n",
       "13  The Cabo de la vela is located in La Guajira, ...          5\n",
       "14  We stayed at the Hilton Beach and Golf Resort ...          4\n",
       "15  a place where it seems to see the limits of th...          5\n",
       "16  Made the trek from Riohacha - Cabo de Vela wit...          5\n",
       "17  Excellent place if you want an adventure far f...          5\n",
       "18  We went here for 2 nights. The place is great ...          3\n",
       "19  We have had a very good 3 day trip to La Guaji...          4"
      ]
     },
     "execution_count": 53,
     "metadata": {},
     "output_type": "execute_result"
    }
   ],
   "source": [
    "# Data Frame with the review and sentiment column\n",
    "dfcabo"
   ]
  },
  {
   "cell_type": "code",
   "execution_count": 54,
   "id": "15b2b6ab",
   "metadata": {},
   "outputs": [
    {
     "data": {
      "text/html": [
       "<div>\n",
       "<style scoped>\n",
       "    .dataframe tbody tr th:only-of-type {\n",
       "        vertical-align: middle;\n",
       "    }\n",
       "\n",
       "    .dataframe tbody tr th {\n",
       "        vertical-align: top;\n",
       "    }\n",
       "\n",
       "    .dataframe thead th {\n",
       "        text-align: right;\n",
       "    }\n",
       "</style>\n",
       "<table border=\"1\" class=\"dataframe\">\n",
       "  <thead>\n",
       "    <tr style=\"text-align: right;\">\n",
       "      <th></th>\n",
       "      <th>sentiment</th>\n",
       "    </tr>\n",
       "  </thead>\n",
       "  <tbody>\n",
       "    <tr>\n",
       "      <th>count</th>\n",
       "      <td>20.000000</td>\n",
       "    </tr>\n",
       "    <tr>\n",
       "      <th>mean</th>\n",
       "      <td>4.500000</td>\n",
       "    </tr>\n",
       "    <tr>\n",
       "      <th>std</th>\n",
       "      <td>0.688247</td>\n",
       "    </tr>\n",
       "    <tr>\n",
       "      <th>min</th>\n",
       "      <td>3.000000</td>\n",
       "    </tr>\n",
       "    <tr>\n",
       "      <th>25%</th>\n",
       "      <td>4.000000</td>\n",
       "    </tr>\n",
       "    <tr>\n",
       "      <th>50%</th>\n",
       "      <td>5.000000</td>\n",
       "    </tr>\n",
       "    <tr>\n",
       "      <th>75%</th>\n",
       "      <td>5.000000</td>\n",
       "    </tr>\n",
       "    <tr>\n",
       "      <th>max</th>\n",
       "      <td>5.000000</td>\n",
       "    </tr>\n",
       "  </tbody>\n",
       "</table>\n",
       "</div>"
      ],
      "text/plain": [
       "       sentiment\n",
       "count  20.000000\n",
       "mean    4.500000\n",
       "std     0.688247\n",
       "min     3.000000\n",
       "25%     4.000000\n",
       "50%     5.000000\n",
       "75%     5.000000\n",
       "max     5.000000"
      ]
     },
     "execution_count": 54,
     "metadata": {},
     "output_type": "execute_result"
    }
   ],
   "source": [
    "# Summary \n",
    "dfcabo.describe()"
   ]
  },
  {
   "cell_type": "code",
   "execution_count": 55,
   "id": "2a57fd72",
   "metadata": {},
   "outputs": [
    {
     "data": {
      "text/plain": [
       "5    12\n",
       "4     6\n",
       "3     2\n",
       "Name: sentiment, dtype: int64"
      ]
     },
     "execution_count": 55,
     "metadata": {},
     "output_type": "execute_result"
    }
   ],
   "source": [
    "# Counting the values\n",
    "pd.value_counts(dfcabo[\"sentiment\"])"
   ]
  },
  {
   "cell_type": "code",
   "execution_count": 56,
   "id": "47b82d49",
   "metadata": {},
   "outputs": [],
   "source": [
    "# Ploting a histogram\n",
    "ycabo = dfcabo[\"sentiment\"].values"
   ]
  },
  {
   "cell_type": "code",
   "execution_count": 57,
   "id": "5973ac17",
   "metadata": {},
   "outputs": [
    {
     "data": {
      "image/png": "[encoded data removed]",
      "text/plain": [
       "<Figure size 432x288 with 1 Axes>"
      ]
     },
     "metadata": {
      "needs_background": "light"
     },
     "output_type": "display_data"
    }
   ],
   "source": [
    "plt.hist(ycabo, bins = (8), color = '#156956')\n",
    "plt.title('Análisis de Sentimientos Cabo de la Vela')\n",
    "plt.xlabel('Calificacion BERT comentario de Turista')\n",
    "plt.ylabel('Número de Comentarios')\n",
    "plt.show()"
   ]
  },
  {
   "cell_type": "markdown",
   "id": "15ae9786",
   "metadata": {},
   "source": [
    "Playa Cristal"
   ]
  },
  {
   "cell_type": "code",
   "execution_count": 58,
   "id": "f19b4d8d",
   "metadata": {},
   "outputs": [],
   "source": [
    "#Adding a column to the data frame scoring the review (1-5) called \"sentiment\"\n",
    "dfcristal['sentiment'] = dfcristal['review'].apply(lambda x: sentiment_score(x[:512]))"
   ]
  },
  {
   "cell_type": "code",
   "execution_count": 59,
   "id": "dd60f3c0",
   "metadata": {},
   "outputs": [
    {
     "data": {
      "text/html": [
       "<div>\n",
       "<style scoped>\n",
       "    .dataframe tbody tr th:only-of-type {\n",
       "        vertical-align: middle;\n",
       "    }\n",
       "\n",
       "    .dataframe tbody tr th {\n",
       "        vertical-align: top;\n",
       "    }\n",
       "\n",
       "    .dataframe thead th {\n",
       "        text-align: right;\n",
       "    }\n",
       "</style>\n",
       "<table border=\"1\" class=\"dataframe\">\n",
       "  <thead>\n",
       "    <tr style=\"text-align: right;\">\n",
       "      <th></th>\n",
       "      <th>review</th>\n",
       "      <th>sentiment</th>\n",
       "    </tr>\n",
       "  </thead>\n",
       "  <tbody>\n",
       "    <tr>\n",
       "      <th>0</th>\n",
       "      <td>playas Hermosas, y los precios muy cómodos, fe...</td>\n",
       "      <td>5</td>\n",
       "    </tr>\n",
       "    <tr>\n",
       "      <th>1</th>\n",
       "      <td>Playa Cristal está ubicada en el Parque Nacion...</td>\n",
       "      <td>5</td>\n",
       "    </tr>\n",
       "    <tr>\n",
       "      <th>2</th>\n",
       "      <td>Es obligatorio conocer esta hermosa playa del ...</td>\n",
       "      <td>5</td>\n",
       "    </tr>\n",
       "    <tr>\n",
       "      <th>3</th>\n",
       "      <td>Al llegar a la playa, la aglomeración era barb...</td>\n",
       "      <td>1</td>\n",
       "    </tr>\n",
       "    <tr>\n",
       "      <th>4</th>\n",
       "      <td>Sin duda alguna una playa hermosa!!!! Aunque s...</td>\n",
       "      <td>5</td>\n",
       "    </tr>\n",
       "    <tr>\n",
       "      <th>5</th>\n",
       "      <td>Hermosa playa en el Parque Tayrona, llegue en ...</td>\n",
       "      <td>4</td>\n",
       "    </tr>\n",
       "    <tr>\n",
       "      <th>6</th>\n",
       "      <td>Puntos positivos:•La playa es hermosa, el colo...</td>\n",
       "      <td>2</td>\n",
       "    </tr>\n",
       "    <tr>\n",
       "      <th>7</th>\n",
       "      <td>Aunque es un poco alejado de la ciudad, vale l...</td>\n",
       "      <td>3</td>\n",
       "    </tr>\n",
       "    <tr>\n",
       "      <th>8</th>\n",
       "      <td>Muy linda, aguas cristalinas, hay olas moderad...</td>\n",
       "      <td>5</td>\n",
       "    </tr>\n",
       "    <tr>\n",
       "      <th>9</th>\n",
       "      <td>La playa es hermosa, y no te asedian los vende...</td>\n",
       "      <td>4</td>\n",
       "    </tr>\n",
       "    <tr>\n",
       "      <th>10</th>\n",
       "      <td>I was in this beautiful place four or five yea...</td>\n",
       "      <td>5</td>\n",
       "    </tr>\n",
       "    <tr>\n",
       "      <th>11</th>\n",
       "      <td>What a really nice spot outside of the public ...</td>\n",
       "      <td>5</td>\n",
       "    </tr>\n",
       "    <tr>\n",
       "      <th>12</th>\n",
       "      <td>Be aware that the people working on the boat a...</td>\n",
       "      <td>2</td>\n",
       "    </tr>\n",
       "    <tr>\n",
       "      <th>13</th>\n",
       "      <td>Very nice and pleasant stay at Crystal beach. ...</td>\n",
       "      <td>5</td>\n",
       "    </tr>\n",
       "    <tr>\n",
       "      <th>14</th>\n",
       "      <td>Absolutely the best beach in Santa Marta. Beau...</td>\n",
       "      <td>5</td>\n",
       "    </tr>\n",
       "    <tr>\n",
       "      <th>15</th>\n",
       "      <td>Very nice beach near Santa Marta. I used a tra...</td>\n",
       "      <td>4</td>\n",
       "    </tr>\n",
       "    <tr>\n",
       "      <th>16</th>\n",
       "      <td>0ne of the prettier beaches that I saw in the ...</td>\n",
       "      <td>5</td>\n",
       "    </tr>\n",
       "    <tr>\n",
       "      <th>17</th>\n",
       "      <td>Tayrona could be reached by sea or by land. By...</td>\n",
       "      <td>4</td>\n",
       "    </tr>\n",
       "    <tr>\n",
       "      <th>18</th>\n",
       "      <td>To all fellow travelers this is a warning to a...</td>\n",
       "      <td>1</td>\n",
       "    </tr>\n",
       "    <tr>\n",
       "      <th>19</th>\n",
       "      <td>I was not sure if we should take the bus or bo...</td>\n",
       "      <td>4</td>\n",
       "    </tr>\n",
       "  </tbody>\n",
       "</table>\n",
       "</div>"
      ],
      "text/plain": [
       "                                               review  sentiment\n",
       "0   playas Hermosas, y los precios muy cómodos, fe...          5\n",
       "1   Playa Cristal está ubicada en el Parque Nacion...          5\n",
       "2   Es obligatorio conocer esta hermosa playa del ...          5\n",
       "3   Al llegar a la playa, la aglomeración era barb...          1\n",
       "4   Sin duda alguna una playa hermosa!!!! Aunque s...          5\n",
       "5   Hermosa playa en el Parque Tayrona, llegue en ...          4\n",
       "6   Puntos positivos:•La playa es hermosa, el colo...          2\n",
       "7   Aunque es un poco alejado de la ciudad, vale l...          3\n",
       "8   Muy linda, aguas cristalinas, hay olas moderad...          5\n",
       "9   La playa es hermosa, y no te asedian los vende...          4\n",
       "10  I was in this beautiful place four or five yea...          5\n",
       "11  What a really nice spot outside of the public ...          5\n",
       "12  Be aware that the people working on the boat a...          2\n",
       "13  Very nice and pleasant stay at Crystal beach. ...          5\n",
       "14  Absolutely the best beach in Santa Marta. Beau...          5\n",
       "15  Very nice beach near Santa Marta. I used a tra...          4\n",
       "16  0ne of the prettier beaches that I saw in the ...          5\n",
       "17  Tayrona could be reached by sea or by land. By...          4\n",
       "18  To all fellow travelers this is a warning to a...          1\n",
       "19  I was not sure if we should take the bus or bo...          4"
      ]
     },
     "execution_count": 59,
     "metadata": {},
     "output_type": "execute_result"
    }
   ],
   "source": [
    "# Data Frame with the review and sentiment column\n",
    "dfcristal"
   ]
  },
  {
   "cell_type": "code",
   "execution_count": 60,
   "id": "901fbbce",
   "metadata": {},
   "outputs": [
    {
     "data": {
      "text/html": [
       "<div>\n",
       "<style scoped>\n",
       "    .dataframe tbody tr th:only-of-type {\n",
       "        vertical-align: middle;\n",
       "    }\n",
       "\n",
       "    .dataframe tbody tr th {\n",
       "        vertical-align: top;\n",
       "    }\n",
       "\n",
       "    .dataframe thead th {\n",
       "        text-align: right;\n",
       "    }\n",
       "</style>\n",
       "<table border=\"1\" class=\"dataframe\">\n",
       "  <thead>\n",
       "    <tr style=\"text-align: right;\">\n",
       "      <th></th>\n",
       "      <th>sentiment</th>\n",
       "    </tr>\n",
       "  </thead>\n",
       "  <tbody>\n",
       "    <tr>\n",
       "      <th>count</th>\n",
       "      <td>20.000000</td>\n",
       "    </tr>\n",
       "    <tr>\n",
       "      <th>mean</th>\n",
       "      <td>3.950000</td>\n",
       "    </tr>\n",
       "    <tr>\n",
       "      <th>std</th>\n",
       "      <td>1.394538</td>\n",
       "    </tr>\n",
       "    <tr>\n",
       "      <th>min</th>\n",
       "      <td>1.000000</td>\n",
       "    </tr>\n",
       "    <tr>\n",
       "      <th>25%</th>\n",
       "      <td>3.750000</td>\n",
       "    </tr>\n",
       "    <tr>\n",
       "      <th>50%</th>\n",
       "      <td>4.500000</td>\n",
       "    </tr>\n",
       "    <tr>\n",
       "      <th>75%</th>\n",
       "      <td>5.000000</td>\n",
       "    </tr>\n",
       "    <tr>\n",
       "      <th>max</th>\n",
       "      <td>5.000000</td>\n",
       "    </tr>\n",
       "  </tbody>\n",
       "</table>\n",
       "</div>"
      ],
      "text/plain": [
       "       sentiment\n",
       "count  20.000000\n",
       "mean    3.950000\n",
       "std     1.394538\n",
       "min     1.000000\n",
       "25%     3.750000\n",
       "50%     4.500000\n",
       "75%     5.000000\n",
       "max     5.000000"
      ]
     },
     "execution_count": 60,
     "metadata": {},
     "output_type": "execute_result"
    }
   ],
   "source": [
    "# Resumen Sentimientos\n",
    "dfcristal.describe()"
   ]
  },
  {
   "cell_type": "code",
   "execution_count": 61,
   "id": "570ddb55",
   "metadata": {},
   "outputs": [
    {
     "data": {
      "text/plain": [
       "5    10\n",
       "4     5\n",
       "1     2\n",
       "2     2\n",
       "3     1\n",
       "Name: sentiment, dtype: int64"
      ]
     },
     "execution_count": 61,
     "metadata": {},
     "output_type": "execute_result"
    }
   ],
   "source": [
    "# Counting values\n",
    "pd.value_counts(dfcristal[\"sentiment\"])"
   ]
  },
  {
   "cell_type": "code",
   "execution_count": 62,
   "id": "55dc5b81",
   "metadata": {},
   "outputs": [],
   "source": [
    "# Ploting a histogram\n",
    "ycristal = dfcristal[\"sentiment\"].values"
   ]
  },
  {
   "cell_type": "code",
   "execution_count": 63,
   "id": "983ee17f",
   "metadata": {},
   "outputs": [
    {
     "data": {
      "image/png": "[encoded data removed]",
      "text/plain": [
       "<Figure size 432x288 with 1 Axes>"
      ]
     },
     "metadata": {
      "needs_background": "light"
     },
     "output_type": "display_data"
    }
   ],
   "source": [
    "plt.hist(ycristal, color = '#888856')\n",
    "plt.title('Análisis de Sentimientos Playa Cristal')\n",
    "plt.xlabel('Calificacion BERT comentario de Turista')\n",
    "plt.ylabel('Número de Comentarios')\n",
    "plt.show()"
   ]
  },
  {
   "cell_type": "markdown",
   "id": "fec4651e",
   "metadata": {},
   "source": [
    "Johnny Cay"
   ]
  },
  {
   "cell_type": "code",
   "execution_count": 64,
   "id": "91dc69ec",
   "metadata": {},
   "outputs": [],
   "source": [
    "#Adding a column to the data frame scoring the review (1-5) called \"sentiment\"\n",
    "dfjohnny['sentiment'] = dfjohnny['review'].apply(lambda x: sentiment_score(x[:512]))"
   ]
  },
  {
   "cell_type": "code",
   "execution_count": 65,
   "id": "602ebdcf",
   "metadata": {},
   "outputs": [
    {
     "data": {
      "text/html": [
       "<div>\n",
       "<style scoped>\n",
       "    .dataframe tbody tr th:only-of-type {\n",
       "        vertical-align: middle;\n",
       "    }\n",
       "\n",
       "    .dataframe tbody tr th {\n",
       "        vertical-align: top;\n",
       "    }\n",
       "\n",
       "    .dataframe thead th {\n",
       "        text-align: right;\n",
       "    }\n",
       "</style>\n",
       "<table border=\"1\" class=\"dataframe\">\n",
       "  <thead>\n",
       "    <tr style=\"text-align: right;\">\n",
       "      <th></th>\n",
       "      <th>review</th>\n",
       "      <th>sentiment</th>\n",
       "    </tr>\n",
       "  </thead>\n",
       "  <tbody>\n",
       "    <tr>\n",
       "      <th>0</th>\n",
       "      <td>lo mejor para realizar el tour y previniendo r...</td>\n",
       "      <td>5</td>\n",
       "    </tr>\n",
       "    <tr>\n",
       "      <th>1</th>\n",
       "      <td>No vale la pena ir a Johnny Cay,  por las sigu...</td>\n",
       "      <td>1</td>\n",
       "    </tr>\n",
       "    <tr>\n",
       "      <th>2</th>\n",
       "      <td>Es un sitio natural divino, el cierre durante ...</td>\n",
       "      <td>4</td>\n",
       "    </tr>\n",
       "    <tr>\n",
       "      <th>3</th>\n",
       "      <td>Le daría una calificación de 4-5 estrellas por...</td>\n",
       "      <td>4</td>\n",
       "    </tr>\n",
       "    <tr>\n",
       "      <th>4</th>\n",
       "      <td>Un lugar completamente hermoso, con un mar bas...</td>\n",
       "      <td>5</td>\n",
       "    </tr>\n",
       "    <tr>\n",
       "      <th>5</th>\n",
       "      <td>NO NO NO Y NO   si estas en San Andres, ir a J...</td>\n",
       "      <td>1</td>\n",
       "    </tr>\n",
       "    <tr>\n",
       "      <th>6</th>\n",
       "      <td>Pésimo almuerzo han pasado 10 años de esta sit...</td>\n",
       "      <td>1</td>\n",
       "    </tr>\n",
       "    <tr>\n",
       "      <th>7</th>\n",
       "      <td>Un lugar paradisíaco perfecto para tomar hermo...</td>\n",
       "      <td>5</td>\n",
       "    </tr>\n",
       "    <tr>\n",
       "      <th>8</th>\n",
       "      <td>Para ser tan nombrada, turística, y lo que cob...</td>\n",
       "      <td>2</td>\n",
       "    </tr>\n",
       "    <tr>\n",
       "      <th>9</th>\n",
       "      <td>No hay muelle para desembarcar, tienen monopol...</td>\n",
       "      <td>2</td>\n",
       "    </tr>\n",
       "    <tr>\n",
       "      <th>10</th>\n",
       "      <td>no hay palabras para expresar. la belleza natu...</td>\n",
       "      <td>5</td>\n",
       "    </tr>\n",
       "    <tr>\n",
       "      <th>11</th>\n",
       "      <td>This place is packed like a theme park and its...</td>\n",
       "      <td>1</td>\n",
       "    </tr>\n",
       "    <tr>\n",
       "      <th>12</th>\n",
       "      <td>Most say, really nice. Food was great! Coco lo...</td>\n",
       "      <td>5</td>\n",
       "    </tr>\n",
       "    <tr>\n",
       "      <th>13</th>\n",
       "      <td>Another thing I was tasked to do for work. A t...</td>\n",
       "      <td>1</td>\n",
       "    </tr>\n",
       "    <tr>\n",
       "      <th>14</th>\n",
       "      <td>This is a true paradise, the water is cristal ...</td>\n",
       "      <td>5</td>\n",
       "    </tr>\n",
       "    <tr>\n",
       "      <th>15</th>\n",
       "      <td>It is a trip, but not that good to go in the b...</td>\n",
       "      <td>3</td>\n",
       "    </tr>\n",
       "    <tr>\n",
       "      <th>16</th>\n",
       "      <td>Johnny Cay, it is a beautiful small island jus...</td>\n",
       "      <td>5</td>\n",
       "    </tr>\n",
       "    <tr>\n",
       "      <th>17</th>\n",
       "      <td>Crayon-like blue water, lots of fish and a nic...</td>\n",
       "      <td>4</td>\n",
       "    </tr>\n",
       "    <tr>\n",
       "      <th>18</th>\n",
       "      <td>We purchased a 6 hour trip to two cays to incl...</td>\n",
       "      <td>1</td>\n",
       "    </tr>\n",
       "    <tr>\n",
       "      <th>19</th>\n",
       "      <td>This key should be in tip top shape if the peo...</td>\n",
       "      <td>3</td>\n",
       "    </tr>\n",
       "  </tbody>\n",
       "</table>\n",
       "</div>"
      ],
      "text/plain": [
       "                                               review  sentiment\n",
       "0   lo mejor para realizar el tour y previniendo r...          5\n",
       "1   No vale la pena ir a Johnny Cay,  por las sigu...          1\n",
       "2   Es un sitio natural divino, el cierre durante ...          4\n",
       "3   Le daría una calificación de 4-5 estrellas por...          4\n",
       "4   Un lugar completamente hermoso, con un mar bas...          5\n",
       "5   NO NO NO Y NO   si estas en San Andres, ir a J...          1\n",
       "6   Pésimo almuerzo han pasado 10 años de esta sit...          1\n",
       "7   Un lugar paradisíaco perfecto para tomar hermo...          5\n",
       "8   Para ser tan nombrada, turística, y lo que cob...          2\n",
       "9   No hay muelle para desembarcar, tienen monopol...          2\n",
       "10  no hay palabras para expresar. la belleza natu...          5\n",
       "11  This place is packed like a theme park and its...          1\n",
       "12  Most say, really nice. Food was great! Coco lo...          5\n",
       "13  Another thing I was tasked to do for work. A t...          1\n",
       "14  This is a true paradise, the water is cristal ...          5\n",
       "15  It is a trip, but not that good to go in the b...          3\n",
       "16  Johnny Cay, it is a beautiful small island jus...          5\n",
       "17  Crayon-like blue water, lots of fish and a nic...          4\n",
       "18  We purchased a 6 hour trip to two cays to incl...          1\n",
       "19  This key should be in tip top shape if the peo...          3"
      ]
     },
     "execution_count": 65,
     "metadata": {},
     "output_type": "execute_result"
    }
   ],
   "source": [
    "# Data Frame with the review and sentiment column\n",
    "dfjohnny"
   ]
  },
  {
   "cell_type": "code",
   "execution_count": 66,
   "id": "c7647a8e",
   "metadata": {},
   "outputs": [
    {
     "data": {
      "text/html": [
       "<div>\n",
       "<style scoped>\n",
       "    .dataframe tbody tr th:only-of-type {\n",
       "        vertical-align: middle;\n",
       "    }\n",
       "\n",
       "    .dataframe tbody tr th {\n",
       "        vertical-align: top;\n",
       "    }\n",
       "\n",
       "    .dataframe thead th {\n",
       "        text-align: right;\n",
       "    }\n",
       "</style>\n",
       "<table border=\"1\" class=\"dataframe\">\n",
       "  <thead>\n",
       "    <tr style=\"text-align: right;\">\n",
       "      <th></th>\n",
       "      <th>sentiment</th>\n",
       "    </tr>\n",
       "  </thead>\n",
       "  <tbody>\n",
       "    <tr>\n",
       "      <th>count</th>\n",
       "      <td>20.0000</td>\n",
       "    </tr>\n",
       "    <tr>\n",
       "      <th>mean</th>\n",
       "      <td>3.1500</td>\n",
       "    </tr>\n",
       "    <tr>\n",
       "      <th>std</th>\n",
       "      <td>1.7252</td>\n",
       "    </tr>\n",
       "    <tr>\n",
       "      <th>min</th>\n",
       "      <td>1.0000</td>\n",
       "    </tr>\n",
       "    <tr>\n",
       "      <th>25%</th>\n",
       "      <td>1.0000</td>\n",
       "    </tr>\n",
       "    <tr>\n",
       "      <th>50%</th>\n",
       "      <td>3.5000</td>\n",
       "    </tr>\n",
       "    <tr>\n",
       "      <th>75%</th>\n",
       "      <td>5.0000</td>\n",
       "    </tr>\n",
       "    <tr>\n",
       "      <th>max</th>\n",
       "      <td>5.0000</td>\n",
       "    </tr>\n",
       "  </tbody>\n",
       "</table>\n",
       "</div>"
      ],
      "text/plain": [
       "       sentiment\n",
       "count    20.0000\n",
       "mean      3.1500\n",
       "std       1.7252\n",
       "min       1.0000\n",
       "25%       1.0000\n",
       "50%       3.5000\n",
       "75%       5.0000\n",
       "max       5.0000"
      ]
     },
     "execution_count": 66,
     "metadata": {},
     "output_type": "execute_result"
    }
   ],
   "source": [
    "# Summary\n",
    "dfjohnny.describe()"
   ]
  },
  {
   "cell_type": "code",
   "execution_count": 67,
   "id": "8bf63f5c",
   "metadata": {},
   "outputs": [
    {
     "data": {
      "text/plain": [
       "5    7\n",
       "1    6\n",
       "4    3\n",
       "2    2\n",
       "3    2\n",
       "Name: sentiment, dtype: int64"
      ]
     },
     "execution_count": 67,
     "metadata": {},
     "output_type": "execute_result"
    }
   ],
   "source": [
    "# Counting values\n",
    "pd.value_counts(dfjohnny[\"sentiment\"])"
   ]
  },
  {
   "cell_type": "code",
   "execution_count": 68,
   "id": "f35ba0a2",
   "metadata": {},
   "outputs": [],
   "source": [
    "# Ploting a histogram\n",
    "yjohnny = dfjohnny[\"sentiment\"].values"
   ]
  },
  {
   "cell_type": "code",
   "execution_count": 69,
   "id": "34d1695d",
   "metadata": {},
   "outputs": [
    {
     "data": {
      "image/png": "[encoded data removed]",
      "text/plain": [
       "<Figure size 432x288 with 1 Axes>"
      ]
     },
     "metadata": {
      "needs_background": "light"
     },
     "output_type": "display_data"
    }
   ],
   "source": [
    "plt.hist(yjohnny, color = '#228846')\n",
    "plt.title('Análisis de Sentimientos Johnny Cay')\n",
    "plt.xlabel('Calificacion BERT comentario de Turista')\n",
    "plt.ylabel('Número de Comentarios')\n",
    "plt.show()"
   ]
  },
  {
   "cell_type": "markdown",
   "id": "494c7bcc",
   "metadata": {},
   "source": [
    "Palomino"
   ]
  },
  {
   "cell_type": "code",
   "execution_count": 70,
   "id": "f52556a4",
   "metadata": {},
   "outputs": [],
   "source": [
    "#Adding a column to the data frame scoring the review (1-5) called \"sentiment\"\n",
    "dfpalomino['sentiment'] = dfpalomino['review'].apply(lambda x: sentiment_score(x[:512]))"
   ]
  },
  {
   "cell_type": "code",
   "execution_count": 71,
   "id": "97c7d3fa",
   "metadata": {},
   "outputs": [
    {
     "data": {
      "text/html": [
       "<div>\n",
       "<style scoped>\n",
       "    .dataframe tbody tr th:only-of-type {\n",
       "        vertical-align: middle;\n",
       "    }\n",
       "\n",
       "    .dataframe tbody tr th {\n",
       "        vertical-align: top;\n",
       "    }\n",
       "\n",
       "    .dataframe thead th {\n",
       "        text-align: right;\n",
       "    }\n",
       "</style>\n",
       "<table border=\"1\" class=\"dataframe\">\n",
       "  <thead>\n",
       "    <tr style=\"text-align: right;\">\n",
       "      <th></th>\n",
       "      <th>review</th>\n",
       "      <th>sentiment</th>\n",
       "    </tr>\n",
       "  </thead>\n",
       "  <tbody>\n",
       "    <tr>\n",
       "      <th>0</th>\n",
       "      <td>🌊 En #Palomino... ¡la naturaleza cobra su deud...</td>\n",
       "      <td>5</td>\n",
       "    </tr>\n",
       "    <tr>\n",
       "      <th>1</th>\n",
       "      <td>El lugar tiene un encanto especial que de acue...</td>\n",
       "      <td>3</td>\n",
       "    </tr>\n",
       "    <tr>\n",
       "      <th>2</th>\n",
       "      <td>Realizamos el tour al cabo de la vela y a palo...</td>\n",
       "      <td>5</td>\n",
       "    </tr>\n",
       "    <tr>\n",
       "      <th>3</th>\n",
       "      <td>Increíble como han invadido la playa, en el 20...</td>\n",
       "      <td>5</td>\n",
       "    </tr>\n",
       "    <tr>\n",
       "      <th>4</th>\n",
       "      <td>Fue algo muy regular, muy dejado, por todo lad...</td>\n",
       "      <td>2</td>\n",
       "    </tr>\n",
       "    <tr>\n",
       "      <th>5</th>\n",
       "      <td>excelente conexión, mar, rio y sierra nevada e...</td>\n",
       "      <td>4</td>\n",
       "    </tr>\n",
       "    <tr>\n",
       "      <th>6</th>\n",
       "      <td>Palomino tiene un encanto en cada lugar que se...</td>\n",
       "      <td>5</td>\n",
       "    </tr>\n",
       "    <tr>\n",
       "      <th>7</th>\n",
       "      <td>El mar se comió la playa , la mayoría de los h...</td>\n",
       "      <td>2</td>\n",
       "    </tr>\n",
       "    <tr>\n",
       "      <th>8</th>\n",
       "      <td>Las playas en palomino no son muy buenas, no t...</td>\n",
       "      <td>2</td>\n",
       "    </tr>\n",
       "    <tr>\n",
       "      <th>9</th>\n",
       "      <td>Me encanto es lugar ... lejos de grandes ciuda...</td>\n",
       "      <td>5</td>\n",
       "    </tr>\n",
       "    <tr>\n",
       "      <th>10</th>\n",
       "      <td>The sand area us small, tiny. Keep an eye out ...</td>\n",
       "      <td>3</td>\n",
       "    </tr>\n",
       "    <tr>\n",
       "      <th>11</th>\n",
       "      <td>As a TripAdvisor DESTINATION EXPERT for Colomb...</td>\n",
       "      <td>3</td>\n",
       "    </tr>\n",
       "    <tr>\n",
       "      <th>12</th>\n",
       "      <td>Palomino tiene una alma magico!! We recommend ...</td>\n",
       "      <td>5</td>\n",
       "    </tr>\n",
       "    <tr>\n",
       "      <th>13</th>\n",
       "      <td>Make sure you walk right when you come onto th...</td>\n",
       "      <td>5</td>\n",
       "    </tr>\n",
       "    <tr>\n",
       "      <th>14</th>\n",
       "      <td>Palomino is not a beach destination anymore. D...</td>\n",
       "      <td>1</td>\n",
       "    </tr>\n",
       "    <tr>\n",
       "      <th>15</th>\n",
       "      <td>No sure if the other positive reviews here eve...</td>\n",
       "      <td>1</td>\n",
       "    </tr>\n",
       "    <tr>\n",
       "      <th>16</th>\n",
       "      <td>Poor city planning or lack of enforcement alon...</td>\n",
       "      <td>1</td>\n",
       "    </tr>\n",
       "    <tr>\n",
       "      <th>17</th>\n",
       "      <td>Well, as you are there, better enjoy what’s re...</td>\n",
       "      <td>2</td>\n",
       "    </tr>\n",
       "    <tr>\n",
       "      <th>18</th>\n",
       "      <td>Confused by some of the bad reviews of Palomin...</td>\n",
       "      <td>4</td>\n",
       "    </tr>\n",
       "    <tr>\n",
       "      <th>19</th>\n",
       "      <td>How can anyone give this place 4 or 5 stars un...</td>\n",
       "      <td>1</td>\n",
       "    </tr>\n",
       "  </tbody>\n",
       "</table>\n",
       "</div>"
      ],
      "text/plain": [
       "                                               review  sentiment\n",
       "0   🌊 En #Palomino... ¡la naturaleza cobra su deud...          5\n",
       "1   El lugar tiene un encanto especial que de acue...          3\n",
       "2   Realizamos el tour al cabo de la vela y a palo...          5\n",
       "3   Increíble como han invadido la playa, en el 20...          5\n",
       "4   Fue algo muy regular, muy dejado, por todo lad...          2\n",
       "5   excelente conexión, mar, rio y sierra nevada e...          4\n",
       "6   Palomino tiene un encanto en cada lugar que se...          5\n",
       "7   El mar se comió la playa , la mayoría de los h...          2\n",
       "8   Las playas en palomino no son muy buenas, no t...          2\n",
       "9   Me encanto es lugar ... lejos de grandes ciuda...          5\n",
       "10  The sand area us small, tiny. Keep an eye out ...          3\n",
       "11  As a TripAdvisor DESTINATION EXPERT for Colomb...          3\n",
       "12  Palomino tiene una alma magico!! We recommend ...          5\n",
       "13  Make sure you walk right when you come onto th...          5\n",
       "14  Palomino is not a beach destination anymore. D...          1\n",
       "15  No sure if the other positive reviews here eve...          1\n",
       "16  Poor city planning or lack of enforcement alon...          1\n",
       "17  Well, as you are there, better enjoy what’s re...          2\n",
       "18  Confused by some of the bad reviews of Palomin...          4\n",
       "19  How can anyone give this place 4 or 5 stars un...          1"
      ]
     },
     "execution_count": 71,
     "metadata": {},
     "output_type": "execute_result"
    }
   ],
   "source": [
    "# Data Frame with the review and sentiment column\n",
    "dfpalomino"
   ]
  },
  {
   "cell_type": "code",
   "execution_count": 72,
   "id": "830e4d4b",
   "metadata": {},
   "outputs": [
    {
     "data": {
      "text/html": [
       "<div>\n",
       "<style scoped>\n",
       "    .dataframe tbody tr th:only-of-type {\n",
       "        vertical-align: middle;\n",
       "    }\n",
       "\n",
       "    .dataframe tbody tr th {\n",
       "        vertical-align: top;\n",
       "    }\n",
       "\n",
       "    .dataframe thead th {\n",
       "        text-align: right;\n",
       "    }\n",
       "</style>\n",
       "<table border=\"1\" class=\"dataframe\">\n",
       "  <thead>\n",
       "    <tr style=\"text-align: right;\">\n",
       "      <th></th>\n",
       "      <th>sentiment</th>\n",
       "    </tr>\n",
       "  </thead>\n",
       "  <tbody>\n",
       "    <tr>\n",
       "      <th>count</th>\n",
       "      <td>20.000000</td>\n",
       "    </tr>\n",
       "    <tr>\n",
       "      <th>mean</th>\n",
       "      <td>3.200000</td>\n",
       "    </tr>\n",
       "    <tr>\n",
       "      <th>std</th>\n",
       "      <td>1.609184</td>\n",
       "    </tr>\n",
       "    <tr>\n",
       "      <th>min</th>\n",
       "      <td>1.000000</td>\n",
       "    </tr>\n",
       "    <tr>\n",
       "      <th>25%</th>\n",
       "      <td>2.000000</td>\n",
       "    </tr>\n",
       "    <tr>\n",
       "      <th>50%</th>\n",
       "      <td>3.000000</td>\n",
       "    </tr>\n",
       "    <tr>\n",
       "      <th>75%</th>\n",
       "      <td>5.000000</td>\n",
       "    </tr>\n",
       "    <tr>\n",
       "      <th>max</th>\n",
       "      <td>5.000000</td>\n",
       "    </tr>\n",
       "  </tbody>\n",
       "</table>\n",
       "</div>"
      ],
      "text/plain": [
       "       sentiment\n",
       "count  20.000000\n",
       "mean    3.200000\n",
       "std     1.609184\n",
       "min     1.000000\n",
       "25%     2.000000\n",
       "50%     3.000000\n",
       "75%     5.000000\n",
       "max     5.000000"
      ]
     },
     "execution_count": 72,
     "metadata": {},
     "output_type": "execute_result"
    }
   ],
   "source": [
    "# Summary\n",
    "dfpalomino.describe()"
   ]
  },
  {
   "cell_type": "code",
   "execution_count": 73,
   "id": "0d962c61",
   "metadata": {},
   "outputs": [
    {
     "data": {
      "text/plain": [
       "5    7\n",
       "2    4\n",
       "1    4\n",
       "3    3\n",
       "4    2\n",
       "Name: sentiment, dtype: int64"
      ]
     },
     "execution_count": 73,
     "metadata": {},
     "output_type": "execute_result"
    }
   ],
   "source": [
    "# Counting values\n",
    "pd.value_counts(dfpalomino[\"sentiment\"])"
   ]
  },
  {
   "cell_type": "code",
   "execution_count": 74,
   "id": "ad4e4d85",
   "metadata": {},
   "outputs": [],
   "source": [
    "# Ploting a histogram\n",
    "ypalo = dfpalomino[\"sentiment\"].values"
   ]
  },
  {
   "cell_type": "code",
   "execution_count": 75,
   "id": "dc22ed32",
   "metadata": {},
   "outputs": [
    {
     "data": {
      "image/png": "[encoded data removed]",
      "text/plain": [
       "<Figure size 432x288 with 1 Axes>"
      ]
     },
     "metadata": {
      "needs_background": "light"
     },
     "output_type": "display_data"
    }
   ],
   "source": [
    "plt.hist(ypalo, color = '#278806')\n",
    "plt.title('Análisis de Sentimientos Palomino')\n",
    "plt.xlabel('Calificacion BERT comentario de Turista')\n",
    "plt.ylabel('Número de Comentarios')\n",
    "plt.show()"
   ]
  },
  {
   "cell_type": "markdown",
   "id": "8998b1cb",
   "metadata": {},
   "source": [
    "Playa Blanca Cartagena"
   ]
  },
  {
   "cell_type": "code",
   "execution_count": 83,
   "id": "bac51e45",
   "metadata": {},
   "outputs": [],
   "source": [
    "#Adding a column to the data frame scoring the review (1-5) called \"sentiment\"\n",
    "dfblanca['sentiment'] = dfblanca['review'].apply(lambda x: sentiment_score(x[:512]))"
   ]
  },
  {
   "cell_type": "code",
   "execution_count": 84,
   "id": "98a271ba",
   "metadata": {},
   "outputs": [
    {
     "data": {
      "text/html": [
       "<div>\n",
       "<style scoped>\n",
       "    .dataframe tbody tr th:only-of-type {\n",
       "        vertical-align: middle;\n",
       "    }\n",
       "\n",
       "    .dataframe tbody tr th {\n",
       "        vertical-align: top;\n",
       "    }\n",
       "\n",
       "    .dataframe thead th {\n",
       "        text-align: right;\n",
       "    }\n",
       "</style>\n",
       "<table border=\"1\" class=\"dataframe\">\n",
       "  <thead>\n",
       "    <tr style=\"text-align: right;\">\n",
       "      <th></th>\n",
       "      <th>review</th>\n",
       "      <th>sentiment</th>\n",
       "    </tr>\n",
       "  </thead>\n",
       "  <tbody>\n",
       "    <tr>\n",
       "      <th>0</th>\n",
       "      <td>A pesar de que efectivamente es una hermosa pl...</td>\n",
       "      <td>2</td>\n",
       "    </tr>\n",
       "    <tr>\n",
       "      <th>1</th>\n",
       "      <td>Es una pena el estado los locales tiene las li...</td>\n",
       "      <td>1</td>\n",
       "    </tr>\n",
       "    <tr>\n",
       "      <th>2</th>\n",
       "      <td>Sin duda alguna Barú es catalogado como un par...</td>\n",
       "      <td>2</td>\n",
       "    </tr>\n",
       "    <tr>\n",
       "      <th>3</th>\n",
       "      <td>El mar es exquisito, color turquesa hermoso. P...</td>\n",
       "      <td>2</td>\n",
       "    </tr>\n",
       "    <tr>\n",
       "      <th>4</th>\n",
       "      <td>El motivo es el desesperante acoso de los vend...</td>\n",
       "      <td>2</td>\n",
       "    </tr>\n",
       "    <tr>\n",
       "      <th>5</th>\n",
       "      <td>La parte de atrás de las playas, lleno de basu...</td>\n",
       "      <td>1</td>\n",
       "    </tr>\n",
       "    <tr>\n",
       "      <th>6</th>\n",
       "      <td>La playa muy bonita, agua Cristalina y arena b...</td>\n",
       "      <td>3</td>\n",
       "    </tr>\n",
       "    <tr>\n",
       "      <th>7</th>\n",
       "      <td>Tiene unas vistas increíbles, las reposeras, l...</td>\n",
       "      <td>4</td>\n",
       "    </tr>\n",
       "    <tr>\n",
       "      <th>8</th>\n",
       "      <td>Cartagena es muuuy hermosa! Pero se ve siempre...</td>\n",
       "      <td>2</td>\n",
       "    </tr>\n",
       "    <tr>\n",
       "      <th>9</th>\n",
       "      <td>Baru es precicio, todas sus playas y conserva ...</td>\n",
       "      <td>5</td>\n",
       "    </tr>\n",
       "    <tr>\n",
       "      <th>10</th>\n",
       "      <td>Terrible road and so many bad things like dirt...</td>\n",
       "      <td>1</td>\n",
       "    </tr>\n",
       "    <tr>\n",
       "      <th>11</th>\n",
       "      <td>August 30th- The beach and water were really n...</td>\n",
       "      <td>1</td>\n",
       "    </tr>\n",
       "    <tr>\n",
       "      <th>12</th>\n",
       "      <td>Very beautiful beach. I was hesitant to go at ...</td>\n",
       "      <td>5</td>\n",
       "    </tr>\n",
       "    <tr>\n",
       "      <th>13</th>\n",
       "      <td>A friend who live in Cartegena had a small hut...</td>\n",
       "      <td>4</td>\n",
       "    </tr>\n",
       "    <tr>\n",
       "      <th>14</th>\n",
       "      <td>Isla barú, Cartagena - ColombiaFirst step is t...</td>\n",
       "      <td>4</td>\n",
       "    </tr>\n",
       "    <tr>\n",
       "      <th>15</th>\n",
       "      <td>If you want an antithesis of a \"relaxing day a...</td>\n",
       "      <td>1</td>\n",
       "    </tr>\n",
       "    <tr>\n",
       "      <th>16</th>\n",
       "      <td>I’ve never been more uncomfortable a day in my...</td>\n",
       "      <td>4</td>\n",
       "    </tr>\n",
       "    <tr>\n",
       "      <th>17</th>\n",
       "      <td>Playa Blanca is one of the most beautiful plac...</td>\n",
       "      <td>5</td>\n",
       "    </tr>\n",
       "    <tr>\n",
       "      <th>18</th>\n",
       "      <td>Unless you are used to the perils of over crow...</td>\n",
       "      <td>1</td>\n",
       "    </tr>\n",
       "    <tr>\n",
       "      <th>19</th>\n",
       "      <td>Very beautiful beach! While it is really touri...</td>\n",
       "      <td>5</td>\n",
       "    </tr>\n",
       "  </tbody>\n",
       "</table>\n",
       "</div>"
      ],
      "text/plain": [
       "                                               review  sentiment\n",
       "0   A pesar de que efectivamente es una hermosa pl...          2\n",
       "1   Es una pena el estado los locales tiene las li...          1\n",
       "2   Sin duda alguna Barú es catalogado como un par...          2\n",
       "3   El mar es exquisito, color turquesa hermoso. P...          2\n",
       "4   El motivo es el desesperante acoso de los vend...          2\n",
       "5   La parte de atrás de las playas, lleno de basu...          1\n",
       "6   La playa muy bonita, agua Cristalina y arena b...          3\n",
       "7   Tiene unas vistas increíbles, las reposeras, l...          4\n",
       "8   Cartagena es muuuy hermosa! Pero se ve siempre...          2\n",
       "9   Baru es precicio, todas sus playas y conserva ...          5\n",
       "10  Terrible road and so many bad things like dirt...          1\n",
       "11  August 30th- The beach and water were really n...          1\n",
       "12  Very beautiful beach. I was hesitant to go at ...          5\n",
       "13  A friend who live in Cartegena had a small hut...          4\n",
       "14  Isla barú, Cartagena - ColombiaFirst step is t...          4\n",
       "15  If you want an antithesis of a \"relaxing day a...          1\n",
       "16  I’ve never been more uncomfortable a day in my...          4\n",
       "17  Playa Blanca is one of the most beautiful plac...          5\n",
       "18  Unless you are used to the perils of over crow...          1\n",
       "19  Very beautiful beach! While it is really touri...          5"
      ]
     },
     "execution_count": 84,
     "metadata": {},
     "output_type": "execute_result"
    }
   ],
   "source": [
    "# Data Frame with the review and sentiment column\n",
    "dfblanca"
   ]
  },
  {
   "cell_type": "code",
   "execution_count": 85,
   "id": "dd04717a",
   "metadata": {},
   "outputs": [
    {
     "data": {
      "text/html": [
       "<div>\n",
       "<style scoped>\n",
       "    .dataframe tbody tr th:only-of-type {\n",
       "        vertical-align: middle;\n",
       "    }\n",
       "\n",
       "    .dataframe tbody tr th {\n",
       "        vertical-align: top;\n",
       "    }\n",
       "\n",
       "    .dataframe thead th {\n",
       "        text-align: right;\n",
       "    }\n",
       "</style>\n",
       "<table border=\"1\" class=\"dataframe\">\n",
       "  <thead>\n",
       "    <tr style=\"text-align: right;\">\n",
       "      <th></th>\n",
       "      <th>sentiment</th>\n",
       "    </tr>\n",
       "  </thead>\n",
       "  <tbody>\n",
       "    <tr>\n",
       "      <th>count</th>\n",
       "      <td>20.000000</td>\n",
       "    </tr>\n",
       "    <tr>\n",
       "      <th>mean</th>\n",
       "      <td>2.750000</td>\n",
       "    </tr>\n",
       "    <tr>\n",
       "      <th>std</th>\n",
       "      <td>1.585294</td>\n",
       "    </tr>\n",
       "    <tr>\n",
       "      <th>min</th>\n",
       "      <td>1.000000</td>\n",
       "    </tr>\n",
       "    <tr>\n",
       "      <th>25%</th>\n",
       "      <td>1.000000</td>\n",
       "    </tr>\n",
       "    <tr>\n",
       "      <th>50%</th>\n",
       "      <td>2.000000</td>\n",
       "    </tr>\n",
       "    <tr>\n",
       "      <th>75%</th>\n",
       "      <td>4.000000</td>\n",
       "    </tr>\n",
       "    <tr>\n",
       "      <th>max</th>\n",
       "      <td>5.000000</td>\n",
       "    </tr>\n",
       "  </tbody>\n",
       "</table>\n",
       "</div>"
      ],
      "text/plain": [
       "       sentiment\n",
       "count  20.000000\n",
       "mean    2.750000\n",
       "std     1.585294\n",
       "min     1.000000\n",
       "25%     1.000000\n",
       "50%     2.000000\n",
       "75%     4.000000\n",
       "max     5.000000"
      ]
     },
     "execution_count": 85,
     "metadata": {},
     "output_type": "execute_result"
    }
   ],
   "source": [
    "# Summary\n",
    "dfblanca.describe()"
   ]
  },
  {
   "cell_type": "code",
   "execution_count": 86,
   "id": "dfc6b285",
   "metadata": {},
   "outputs": [
    {
     "data": {
      "text/plain": [
       "1    6\n",
       "2    5\n",
       "4    4\n",
       "5    4\n",
       "3    1\n",
       "Name: sentiment, dtype: int64"
      ]
     },
     "execution_count": 86,
     "metadata": {},
     "output_type": "execute_result"
    }
   ],
   "source": [
    "# Counting values\n",
    "pd.value_counts(dfblanca[\"sentiment\"])"
   ]
  },
  {
   "cell_type": "code",
   "execution_count": 87,
   "id": "24bcd582",
   "metadata": {},
   "outputs": [],
   "source": [
    "# Ploting a histogram\n",
    "yblanca = dfblanca[\"sentiment\"].values"
   ]
  },
  {
   "cell_type": "code",
   "execution_count": 88,
   "id": "90f374f9",
   "metadata": {},
   "outputs": [
    {
     "data": {
      "image/png": "[encoded data removed]",
      "text/plain": [
       "<Figure size 432x288 with 1 Axes>"
      ]
     },
     "metadata": {
      "needs_background": "light"
     },
     "output_type": "display_data"
    }
   ],
   "source": [
    "plt.hist(yblanca, color = '#733806')\n",
    "plt.title('Análisis de Sentimientos Playa Blanca Barú')\n",
    "plt.xlabel('Calificacion BERT comentario de Turista')\n",
    "plt.ylabel('Número de Comentarios')\n",
    "plt.show()"
   ]
  },
  {
   "cell_type": "markdown",
   "id": "535bd1cb",
   "metadata": {},
   "source": [
    "San Luis"
   ]
  },
  {
   "cell_type": "code",
   "execution_count": 89,
   "id": "26ecbae2",
   "metadata": {},
   "outputs": [],
   "source": [
    "#Adding a column to the data frame scoring the review (1-5) called \"sentiment\"\n",
    "dfsanluis['sentiment'] = dfsanluis['review'].apply(lambda x: sentiment_score(x[:512]))"
   ]
  },
  {
   "cell_type": "code",
   "execution_count": 90,
   "id": "34878281",
   "metadata": {},
   "outputs": [
    {
     "data": {
      "text/html": [
       "<div>\n",
       "<style scoped>\n",
       "    .dataframe tbody tr th:only-of-type {\n",
       "        vertical-align: middle;\n",
       "    }\n",
       "\n",
       "    .dataframe tbody tr th {\n",
       "        vertical-align: top;\n",
       "    }\n",
       "\n",
       "    .dataframe thead th {\n",
       "        text-align: right;\n",
       "    }\n",
       "</style>\n",
       "<table border=\"1\" class=\"dataframe\">\n",
       "  <thead>\n",
       "    <tr style=\"text-align: right;\">\n",
       "      <th></th>\n",
       "      <th>review</th>\n",
       "      <th>sentiment</th>\n",
       "    </tr>\n",
       "  </thead>\n",
       "  <tbody>\n",
       "    <tr>\n",
       "      <th>0</th>\n",
       "      <td>ideal para ir una playa mas tranquila, para di...</td>\n",
       "      <td>5</td>\n",
       "    </tr>\n",
       "    <tr>\n",
       "      <th>1</th>\n",
       "      <td>Desafortunadamente esta playa ha desaparecido ...</td>\n",
       "      <td>2</td>\n",
       "    </tr>\n",
       "    <tr>\n",
       "      <th>2</th>\n",
       "      <td>La playa tiene una vista hermosa tiene muchas ...</td>\n",
       "      <td>5</td>\n",
       "    </tr>\n",
       "    <tr>\n",
       "      <th>3</th>\n",
       "      <td>Lo malo: Cuando fuimos había una invasión de s...</td>\n",
       "      <td>3</td>\n",
       "    </tr>\n",
       "    <tr>\n",
       "      <th>4</th>\n",
       "      <td>Playa san Luis desapareció con el huracán del ...</td>\n",
       "      <td>1</td>\n",
       "    </tr>\n",
       "    <tr>\n",
       "      <th>5</th>\n",
       "      <td>Nuestra experiencia fue la de una playa menos ...</td>\n",
       "      <td>5</td>\n",
       "    </tr>\n",
       "    <tr>\n",
       "      <th>6</th>\n",
       "      <td>Playa hermosa y amplia con menos gente que en ...</td>\n",
       "      <td>4</td>\n",
       "    </tr>\n",
       "    <tr>\n",
       "      <th>7</th>\n",
       "      <td>Esta playa es ideal si lo que deseas es tener ...</td>\n",
       "      <td>4</td>\n",
       "    </tr>\n",
       "    <tr>\n",
       "      <th>8</th>\n",
       "      <td>Fuimos al recorrer la isla en Mula.Es una exce...</td>\n",
       "      <td>5</td>\n",
       "    </tr>\n",
       "    <tr>\n",
       "      <th>9</th>\n",
       "      <td>Nos alojamos en un departamento en la zona de ...</td>\n",
       "      <td>5</td>\n",
       "    </tr>\n",
       "    <tr>\n",
       "      <th>10</th>\n",
       "      <td>Crystal clear water and a nice view. Don’t hav...</td>\n",
       "      <td>5</td>\n",
       "    </tr>\n",
       "    <tr>\n",
       "      <th>11</th>\n",
       "      <td>When you do your trip around the island in a r...</td>\n",
       "      <td>4</td>\n",
       "    </tr>\n",
       "    <tr>\n",
       "      <th>12</th>\n",
       "      <td>Much cleaner beach then San Andrés main beach,...</td>\n",
       "      <td>4</td>\n",
       "    </tr>\n",
       "    <tr>\n",
       "      <th>13</th>\n",
       "      <td>The water is calmer than in other sides of the...</td>\n",
       "      <td>4</td>\n",
       "    </tr>\n",
       "    <tr>\n",
       "      <th>14</th>\n",
       "      <td>In my opinion it is just ok  place , food was ...</td>\n",
       "      <td>3</td>\n",
       "    </tr>\n",
       "    <tr>\n",
       "      <th>15</th>\n",
       "      <td>This side of the island is the best option for...</td>\n",
       "      <td>4</td>\n",
       "    </tr>\n",
       "    <tr>\n",
       "      <th>16</th>\n",
       "      <td>It's a good beach where you can have some drin...</td>\n",
       "      <td>4</td>\n",
       "    </tr>\n",
       "    <tr>\n",
       "      <th>17</th>\n",
       "      <td>We only spent an hour or so in San Luis beach ...</td>\n",
       "      <td>5</td>\n",
       "    </tr>\n",
       "    <tr>\n",
       "      <th>18</th>\n",
       "      <td>Hands down the best beaches of San Andres.  Th...</td>\n",
       "      <td>5</td>\n",
       "    </tr>\n",
       "    <tr>\n",
       "      <th>19</th>\n",
       "      <td>The san luis beach is a bit more off the grid ...</td>\n",
       "      <td>4</td>\n",
       "    </tr>\n",
       "  </tbody>\n",
       "</table>\n",
       "</div>"
      ],
      "text/plain": [
       "                                               review  sentiment\n",
       "0   ideal para ir una playa mas tranquila, para di...          5\n",
       "1   Desafortunadamente esta playa ha desaparecido ...          2\n",
       "2   La playa tiene una vista hermosa tiene muchas ...          5\n",
       "3   Lo malo: Cuando fuimos había una invasión de s...          3\n",
       "4   Playa san Luis desapareció con el huracán del ...          1\n",
       "5   Nuestra experiencia fue la de una playa menos ...          5\n",
       "6   Playa hermosa y amplia con menos gente que en ...          4\n",
       "7   Esta playa es ideal si lo que deseas es tener ...          4\n",
       "8   Fuimos al recorrer la isla en Mula.Es una exce...          5\n",
       "9   Nos alojamos en un departamento en la zona de ...          5\n",
       "10  Crystal clear water and a nice view. Don’t hav...          5\n",
       "11  When you do your trip around the island in a r...          4\n",
       "12  Much cleaner beach then San Andrés main beach,...          4\n",
       "13  The water is calmer than in other sides of the...          4\n",
       "14  In my opinion it is just ok  place , food was ...          3\n",
       "15  This side of the island is the best option for...          4\n",
       "16  It's a good beach where you can have some drin...          4\n",
       "17  We only spent an hour or so in San Luis beach ...          5\n",
       "18  Hands down the best beaches of San Andres.  Th...          5\n",
       "19  The san luis beach is a bit more off the grid ...          4"
      ]
     },
     "execution_count": 90,
     "metadata": {},
     "output_type": "execute_result"
    }
   ],
   "source": [
    "# Data Frame with the review and sentiment column\n",
    "dfsanluis"
   ]
  },
  {
   "cell_type": "code",
   "execution_count": 91,
   "id": "50338c1f",
   "metadata": {},
   "outputs": [
    {
     "data": {
      "text/html": [
       "<div>\n",
       "<style scoped>\n",
       "    .dataframe tbody tr th:only-of-type {\n",
       "        vertical-align: middle;\n",
       "    }\n",
       "\n",
       "    .dataframe tbody tr th {\n",
       "        vertical-align: top;\n",
       "    }\n",
       "\n",
       "    .dataframe thead th {\n",
       "        text-align: right;\n",
       "    }\n",
       "</style>\n",
       "<table border=\"1\" class=\"dataframe\">\n",
       "  <thead>\n",
       "    <tr style=\"text-align: right;\">\n",
       "      <th></th>\n",
       "      <th>sentiment</th>\n",
       "    </tr>\n",
       "  </thead>\n",
       "  <tbody>\n",
       "    <tr>\n",
       "      <th>count</th>\n",
       "      <td>20.000000</td>\n",
       "    </tr>\n",
       "    <tr>\n",
       "      <th>mean</th>\n",
       "      <td>4.050000</td>\n",
       "    </tr>\n",
       "    <tr>\n",
       "      <th>std</th>\n",
       "      <td>1.099043</td>\n",
       "    </tr>\n",
       "    <tr>\n",
       "      <th>min</th>\n",
       "      <td>1.000000</td>\n",
       "    </tr>\n",
       "    <tr>\n",
       "      <th>25%</th>\n",
       "      <td>4.000000</td>\n",
       "    </tr>\n",
       "    <tr>\n",
       "      <th>50%</th>\n",
       "      <td>4.000000</td>\n",
       "    </tr>\n",
       "    <tr>\n",
       "      <th>75%</th>\n",
       "      <td>5.000000</td>\n",
       "    </tr>\n",
       "    <tr>\n",
       "      <th>max</th>\n",
       "      <td>5.000000</td>\n",
       "    </tr>\n",
       "  </tbody>\n",
       "</table>\n",
       "</div>"
      ],
      "text/plain": [
       "       sentiment\n",
       "count  20.000000\n",
       "mean    4.050000\n",
       "std     1.099043\n",
       "min     1.000000\n",
       "25%     4.000000\n",
       "50%     4.000000\n",
       "75%     5.000000\n",
       "max     5.000000"
      ]
     },
     "execution_count": 91,
     "metadata": {},
     "output_type": "execute_result"
    }
   ],
   "source": [
    "# Summary\n",
    "dfsanluis.describe()"
   ]
  },
  {
   "cell_type": "code",
   "execution_count": 92,
   "id": "c6cfad35",
   "metadata": {},
   "outputs": [
    {
     "data": {
      "text/plain": [
       "5    8\n",
       "4    8\n",
       "3    2\n",
       "2    1\n",
       "1    1\n",
       "Name: sentiment, dtype: int64"
      ]
     },
     "execution_count": 92,
     "metadata": {},
     "output_type": "execute_result"
    }
   ],
   "source": [
    "# Counting values\n",
    "pd.value_counts(dfsanluis[\"sentiment\"])"
   ]
  },
  {
   "cell_type": "code",
   "execution_count": 93,
   "id": "8e634bcb",
   "metadata": {},
   "outputs": [],
   "source": [
    "# Ploting a Histogram \n",
    "ysan = dfsanluis[\"sentiment\"].values"
   ]
  },
  {
   "cell_type": "code",
   "execution_count": 94,
   "id": "3a6d069e",
   "metadata": {},
   "outputs": [
    {
     "data": {
      "image/png": "[encoded data removed]",
      "text/plain": [
       "<Figure size 432x288 with 1 Axes>"
      ]
     },
     "metadata": {
      "needs_background": "light"
     },
     "output_type": "display_data"
    }
   ],
   "source": [
    "plt.hist(ysan, color = '#159906')\n",
    "plt.title('Análisis de Sentimientos Playa San Luis')\n",
    "plt.xlabel('Calificacion BERT comentario de Turista')\n",
    "plt.ylabel('Número de Comentarios')\n",
    "plt.show()"
   ]
  },
  {
   "cell_type": "markdown",
   "id": "9bbec7cf",
   "metadata": {},
   "source": [
    "Tierra Bomba"
   ]
  },
  {
   "cell_type": "code",
   "execution_count": 95,
   "id": "c10713fc",
   "metadata": {},
   "outputs": [],
   "source": [
    "#Adding a column to the data frame scoring the review (1-5) called \"sentiment\"\n",
    "dftierrabomba['sentiment'] = dftierrabomba['review'].apply(lambda x: sentiment_score(x[:512]))"
   ]
  },
  {
   "cell_type": "code",
   "execution_count": 96,
   "id": "9ca23af2",
   "metadata": {},
   "outputs": [
    {
     "data": {
      "text/html": [
       "<div>\n",
       "<style scoped>\n",
       "    .dataframe tbody tr th:only-of-type {\n",
       "        vertical-align: middle;\n",
       "    }\n",
       "\n",
       "    .dataframe tbody tr th {\n",
       "        vertical-align: top;\n",
       "    }\n",
       "\n",
       "    .dataframe thead th {\n",
       "        text-align: right;\n",
       "    }\n",
       "</style>\n",
       "<table border=\"1\" class=\"dataframe\">\n",
       "  <thead>\n",
       "    <tr style=\"text-align: right;\">\n",
       "      <th></th>\n",
       "      <th>review</th>\n",
       "      <th>sentiment</th>\n",
       "    </tr>\n",
       "  </thead>\n",
       "  <tbody>\n",
       "    <tr>\n",
       "      <th>0</th>\n",
       "      <td>No te cumplen lo que te venden en el tour.  Se...</td>\n",
       "      <td>2</td>\n",
       "    </tr>\n",
       "    <tr>\n",
       "      <th>1</th>\n",
       "      <td>Mucha gente te ofrece un paquete completo #1 p...</td>\n",
       "      <td>2</td>\n",
       "    </tr>\n",
       "    <tr>\n",
       "      <th>2</th>\n",
       "      <td>Estuve en un hotel que se llama palamarito bea...</td>\n",
       "      <td>4</td>\n",
       "    </tr>\n",
       "    <tr>\n",
       "      <th>3</th>\n",
       "      <td>Una playa pequeña llena de chiringuitos y loca...</td>\n",
       "      <td>5</td>\n",
       "    </tr>\n",
       "    <tr>\n",
       "      <th>4</th>\n",
       "      <td>Llegamos con un bote que alquilamos, por recom...</td>\n",
       "      <td>1</td>\n",
       "    </tr>\n",
       "    <tr>\n",
       "      <th>5</th>\n",
       "      <td>Salimos desde el hotel caminamos unas 6 cuadra...</td>\n",
       "      <td>1</td>\n",
       "    </tr>\n",
       "    <tr>\n",
       "      <th>6</th>\n",
       "      <td>Crucé desde el sector el laguito en Bocagrande...</td>\n",
       "      <td>4</td>\n",
       "    </tr>\n",
       "    <tr>\n",
       "      <th>7</th>\n",
       "      <td>Fuimos a Palmerito un lugar lindo limpio alegr...</td>\n",
       "      <td>5</td>\n",
       "    </tr>\n",
       "    <tr>\n",
       "      <th>8</th>\n",
       "      <td>Buenas playas. Recomiendo tomar el paseo al be...</td>\n",
       "      <td>4</td>\n",
       "    </tr>\n",
       "    <tr>\n",
       "      <th>9</th>\n",
       "      <td>Un lugar para pasar la tarde, sino tienes much...</td>\n",
       "      <td>4</td>\n",
       "    </tr>\n",
       "    <tr>\n",
       "      <th>10</th>\n",
       "      <td>We booked Marina beach club directly via e-mai...</td>\n",
       "      <td>5</td>\n",
       "    </tr>\n",
       "    <tr>\n",
       "      <th>11</th>\n",
       "      <td>great place great view safe and clean  good am...</td>\n",
       "      <td>5</td>\n",
       "    </tr>\n",
       "    <tr>\n",
       "      <th>12</th>\n",
       "      <td>Got approach by a tour vendor  while having br...</td>\n",
       "      <td>1</td>\n",
       "    </tr>\n",
       "    <tr>\n",
       "      <th>13</th>\n",
       "      <td>That was my mistake. Everyone, but everyone we...</td>\n",
       "      <td>1</td>\n",
       "    </tr>\n",
       "    <tr>\n",
       "      <th>14</th>\n",
       "      <td>We went there for one day. The trip and also t...</td>\n",
       "      <td>1</td>\n",
       "    </tr>\n",
       "    <tr>\n",
       "      <th>15</th>\n",
       "      <td>It was definitely worth it we had a blast. Gre...</td>\n",
       "      <td>5</td>\n",
       "    </tr>\n",
       "    <tr>\n",
       "      <th>16</th>\n",
       "      <td>We visited Tierra Bomba with one of the boats ...</td>\n",
       "      <td>2</td>\n",
       "    </tr>\n",
       "    <tr>\n",
       "      <th>17</th>\n",
       "      <td>Cartagena Columbia - Our best surprise, clean,...</td>\n",
       "      <td>5</td>\n",
       "    </tr>\n",
       "    <tr>\n",
       "      <th>18</th>\n",
       "      <td>We went to Bomba Beach yesterday as a party of...</td>\n",
       "      <td>4</td>\n",
       "    </tr>\n",
       "    <tr>\n",
       "      <th>19</th>\n",
       "      <td>Tierra Bomba is a beautiful island with amazin...</td>\n",
       "      <td>5</td>\n",
       "    </tr>\n",
       "  </tbody>\n",
       "</table>\n",
       "</div>"
      ],
      "text/plain": [
       "                                               review  sentiment\n",
       "0   No te cumplen lo que te venden en el tour.  Se...          2\n",
       "1   Mucha gente te ofrece un paquete completo #1 p...          2\n",
       "2   Estuve en un hotel que se llama palamarito bea...          4\n",
       "3   Una playa pequeña llena de chiringuitos y loca...          5\n",
       "4   Llegamos con un bote que alquilamos, por recom...          1\n",
       "5   Salimos desde el hotel caminamos unas 6 cuadra...          1\n",
       "6   Crucé desde el sector el laguito en Bocagrande...          4\n",
       "7   Fuimos a Palmerito un lugar lindo limpio alegr...          5\n",
       "8   Buenas playas. Recomiendo tomar el paseo al be...          4\n",
       "9   Un lugar para pasar la tarde, sino tienes much...          4\n",
       "10  We booked Marina beach club directly via e-mai...          5\n",
       "11  great place great view safe and clean  good am...          5\n",
       "12  Got approach by a tour vendor  while having br...          1\n",
       "13  That was my mistake. Everyone, but everyone we...          1\n",
       "14  We went there for one day. The trip and also t...          1\n",
       "15  It was definitely worth it we had a blast. Gre...          5\n",
       "16  We visited Tierra Bomba with one of the boats ...          2\n",
       "17  Cartagena Columbia - Our best surprise, clean,...          5\n",
       "18  We went to Bomba Beach yesterday as a party of...          4\n",
       "19  Tierra Bomba is a beautiful island with amazin...          5"
      ]
     },
     "execution_count": 96,
     "metadata": {},
     "output_type": "execute_result"
    }
   ],
   "source": [
    "# Data Frame with the review and sentiment column\n",
    "dftierrabomba"
   ]
  },
  {
   "cell_type": "code",
   "execution_count": 97,
   "id": "c1fe0c57",
   "metadata": {},
   "outputs": [
    {
     "data": {
      "text/html": [
       "<div>\n",
       "<style scoped>\n",
       "    .dataframe tbody tr th:only-of-type {\n",
       "        vertical-align: middle;\n",
       "    }\n",
       "\n",
       "    .dataframe tbody tr th {\n",
       "        vertical-align: top;\n",
       "    }\n",
       "\n",
       "    .dataframe thead th {\n",
       "        text-align: right;\n",
       "    }\n",
       "</style>\n",
       "<table border=\"1\" class=\"dataframe\">\n",
       "  <thead>\n",
       "    <tr style=\"text-align: right;\">\n",
       "      <th></th>\n",
       "      <th>sentiment</th>\n",
       "    </tr>\n",
       "  </thead>\n",
       "  <tbody>\n",
       "    <tr>\n",
       "      <th>count</th>\n",
       "      <td>20.000000</td>\n",
       "    </tr>\n",
       "    <tr>\n",
       "      <th>mean</th>\n",
       "      <td>3.300000</td>\n",
       "    </tr>\n",
       "    <tr>\n",
       "      <th>std</th>\n",
       "      <td>1.688974</td>\n",
       "    </tr>\n",
       "    <tr>\n",
       "      <th>min</th>\n",
       "      <td>1.000000</td>\n",
       "    </tr>\n",
       "    <tr>\n",
       "      <th>25%</th>\n",
       "      <td>1.750000</td>\n",
       "    </tr>\n",
       "    <tr>\n",
       "      <th>50%</th>\n",
       "      <td>4.000000</td>\n",
       "    </tr>\n",
       "    <tr>\n",
       "      <th>75%</th>\n",
       "      <td>5.000000</td>\n",
       "    </tr>\n",
       "    <tr>\n",
       "      <th>max</th>\n",
       "      <td>5.000000</td>\n",
       "    </tr>\n",
       "  </tbody>\n",
       "</table>\n",
       "</div>"
      ],
      "text/plain": [
       "       sentiment\n",
       "count  20.000000\n",
       "mean    3.300000\n",
       "std     1.688974\n",
       "min     1.000000\n",
       "25%     1.750000\n",
       "50%     4.000000\n",
       "75%     5.000000\n",
       "max     5.000000"
      ]
     },
     "execution_count": 97,
     "metadata": {},
     "output_type": "execute_result"
    }
   ],
   "source": [
    "# Summary\n",
    "dftierrabomba.describe()"
   ]
  },
  {
   "cell_type": "code",
   "execution_count": 98,
   "id": "0873a38e",
   "metadata": {},
   "outputs": [
    {
     "data": {
      "text/plain": [
       "5    7\n",
       "4    5\n",
       "1    5\n",
       "2    3\n",
       "Name: sentiment, dtype: int64"
      ]
     },
     "execution_count": 98,
     "metadata": {},
     "output_type": "execute_result"
    }
   ],
   "source": [
    "# Counting values\n",
    "pd.value_counts(dftierrabomba[\"sentiment\"])"
   ]
  },
  {
   "cell_type": "code",
   "execution_count": 99,
   "id": "b9828944",
   "metadata": {},
   "outputs": [],
   "source": [
    "# Ploting a histogram\n",
    "ybomba = dftierrabomba[\"sentiment\"].values"
   ]
  },
  {
   "cell_type": "code",
   "execution_count": 100,
   "id": "86219c2f",
   "metadata": {},
   "outputs": [
    {
     "data": {
      "image/png": "[encoded data removed]",
      "text/plain": [
       "<Figure size 432x288 with 1 Axes>"
      ]
     },
     "metadata": {
      "needs_background": "light"
     },
     "output_type": "display_data"
    }
   ],
   "source": [
    "plt.hist(ybomba, color = '#121106')\n",
    "plt.title('Análisis de Sentimientos playas Tierra Bomba')\n",
    "plt.xlabel('Calificacion BERT comentario de Turista')\n",
    "plt.ylabel('Número de Comentarios')\n",
    "plt.show()"
   ]
  },
  {
   "cell_type": "code",
   "execution_count": null,
   "id": "5a7b885a",
   "metadata": {},
   "outputs": [],
   "source": []
  }
 ],
 "metadata": {
  "kernelspec": {
   "display_name": "Python 3 (ipykernel)",
   "language": "python",
   "name": "python3"
  },
  "language_info": {
   "codemirror_mode": {
    "name": "ipython",
    "version": 3
   },
   "file_extension": ".py",
   "mimetype": "text/x-python",
   "name": "python",
   "nbconvert_exporter": "python",
   "pygments_lexer": "ipython3",
   "version": "3.8.8"
  }
 },
 "nbformat": 4,
 "nbformat_minor": 5
}
